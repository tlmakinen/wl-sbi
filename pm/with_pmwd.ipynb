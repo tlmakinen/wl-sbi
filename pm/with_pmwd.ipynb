{
 "cells": [
  {
   "cell_type": "markdown",
   "id": "4d09759c-708b-4fc4-9ab6-711287c4d9ec",
   "metadata": {},
   "source": [
    "# using pmwd solver and lemur integration"
   ]
  },
  {
   "cell_type": "code",
   "execution_count": 1,
   "id": "365fc7c0-27a6-4699-a5d8-34ed81ac0416",
   "metadata": {},
   "outputs": [
    {
     "name": "stderr",
     "output_type": "stream",
     "text": [
      "/usr/lib64/python3.11/pty.py:89: RuntimeWarning: os.fork() was called. os.fork() is incompatible with multithreaded code, and JAX is multithreaded, so this will likely lead to a deadlock.\n",
      "  pid, fd = os.forkpty()\n"
     ]
    },
    {
     "name": "stdout",
     "output_type": "stream",
     "text": [
      "Tesla V100-PCIE-32GB\n"
     ]
    }
   ],
   "source": [
    "import os\n",
    "\n",
    "# uncomment to disable NVIDIA GPUs\n",
    "#os.environ['CUDA_VISIBLE_DEVICES'] = ''\n",
    "# or pick the device (cpu, gpu, and tpu)\n",
    "#os.environ['JAX_PLATFORMS'] = 'cpu'\n",
    "\n",
    "# change JAX GPU memory preallocation fraction\n",
    "os.environ['XLA_PYTHON_CLIENT_MEM_FRACTION'] = '.95'\n",
    "\n",
    "# you do not want this\n",
    "#os.environ['XLA_FLAGS'] = '--xla_gpu_deterministic_ops=true'\n",
    "\n",
    "import jax\n",
    "#jax.print_environment_info()\n",
    "\n",
    "!nvidia-smi --query-gpu=gpu_name --format=csv,noheader"
   ]
  },
  {
   "cell_type": "code",
   "execution_count": 2,
   "id": "773f685e-dde0-470d-911f-4b2a9c3ad94e",
   "metadata": {},
   "outputs": [],
   "source": [
    "# again, this only works on startup!\n",
    "#from jax import config\n",
    "#config.update(\"jax_enable_x64\", True)"
   ]
  },
  {
   "cell_type": "code",
   "execution_count": 4,
   "id": "064593eb-73ac-4080-a0a3-0db0e7947cb8",
   "metadata": {},
   "outputs": [],
   "source": [
    "import jax.numpy as jnp\n",
    "import logging\n",
    "import numpy as np\n",
    "import matplotlib.pyplot as plt\n",
    "from pmwd import (Configuration, Cosmology, boltzmann, linear_modes,\n",
    "                  lpt, nbody, scatter)\n",
    "\n",
    "from lemur import analysis, background, cosmology, limber, plot, utils, constants"
   ]
  },
  {
   "cell_type": "code",
   "execution_count": 5,
   "id": "112abd54-d4a5-4666-b78f-e619ea6417c4",
   "metadata": {},
   "outputs": [],
   "source": [
    "L = 1000 #500 #4000 #  # resolution\n",
    "N = 128 # 128\n",
    "\n",
    "Lbox = (L, L, 5500)\n",
    "Nmesh = (N, N, 512)\n",
    "\n",
    "coord_obs = (L // 2, L // 2, 0)\n",
    "coord_obsN = (N // 2, N // 2, 0)\n",
    "\n",
    "a_init = 0.01\n",
    "a_final = 1.0\n",
    "\n",
    "chi_grid = (jnp.arange(Nmesh[2]) + 0.5) * Lbox[2] / Nmesh[2]\n",
    "\n",
    "# tomographic bin means\n",
    "z_means_analysis = jnp.array([0.5, 1.0, 1.5, 2.0])\n",
    "zstd = 0.14\n",
    "\n",
    "\n",
    "def all_los(single_index, delta):\n",
    "    \"\"\"\n",
    "    helper function to map los_indices to slice through\n",
    "    the delta box (will integrate in codebase soon)\n",
    "    \"\"\"\n",
    "\n",
    "    def index_me(ind): # vmap over Nz\n",
    "        return delta[tuple(ind)]    \n",
    "\n",
    "    return jax.vmap(index_me, in_axes=(0,))(single_index)\n",
    "\n",
    "\n",
    "los_indices = np.load(\"/data101/makinen/lemur_sims/los_indices_N_%d_Nz_512.npy\"%(N))"
   ]
  },
  {
   "cell_type": "code",
   "execution_count": 6,
   "id": "e64d6118-0074-4efb-bb1c-66606d5c2841",
   "metadata": {},
   "outputs": [],
   "source": [
    "# let these float for now so we don't have to meshgrid again\n",
    "\n",
    "#Nx,Ny,Nz = box.Nmesh\n",
    "\n",
    "def a_to_z(a):\n",
    "    return (1. / a) - 1.\n",
    "def z_to_a(z):\n",
    "    return 1. / (1. + z)\n",
    "\n",
    "def Jacobian(redshift, omega_m):\n",
    "    \"\"\"\n",
    "    Cosmological Jacobian for tomographic bin calculation\n",
    "    \"\"\"\n",
    "    E = jnp.sqrt(omega_m * (1+redshift)**3 + (1-omega_m))\n",
    "    return constants.H0 * E / constants.c\n",
    "\n",
    "def weights_redshift(z, mean=1.0, std=0.14):\n",
    "    \"\"\"\"\n",
    "    Calculate weighting at given redshift value\n",
    "    and mean of tomographic bin\n",
    "    \"\"\"\n",
    "    exponent = - 0.5 * ((z - mean) / std)**2\n",
    "    norm = std * (2. * np.pi)**0.5\n",
    "    return jnp.exp(exponent) / norm\n",
    "\n",
    "def get_weights_in_chi(z, a_grid, \n",
    "                       chi_grid,\n",
    "                       mean=1.0, std=0.14):\n",
    "    weights_in_z = weights_redshift(z, mean=mean, std=std)     \n",
    "    weights_in_a = z_to_a(weights_in_z) #jnp.interp(weights_in_z, z, a_grid)\n",
    "\n",
    "    weights_in_chi = (jnp.exp(\n",
    "        jnp.interp(\n",
    "            (jnp.log(weights_in_a)),\n",
    "            jnp.flip(jnp.log(a_grid)),\n",
    "            jnp.flip(jnp.log(chi_grid)),\n",
    "        )\n",
    "    ))\n",
    "    \n",
    "    return weights_in_chi\n",
    "\n",
    "#@jax.jit\n",
    "def get_pixel_geometry(Nmesh):\n",
    "    Nx,Ny,Nz = Nmesh\n",
    "\n",
    "    # get spherical cap\n",
    "    x_axis = jnp.arange(0, Nx)\n",
    "    y_axis = jnp.arange(0, Ny)\n",
    "    z_axis = jnp.arange(0, Nz)\n",
    "    xx,yy,zz = jnp.meshgrid(x_axis, y_axis, z_axis, sparse=True)\n",
    "    xo,yo,zo = coord_obsN\n",
    "    spherical_cap = (jnp.sqrt(((xx - xo)**2 + (yy-yo)**2 + (zz-zo)**2)) <= Nz)\n",
    "    \n",
    "    # get 1/costhheta correction\n",
    "    costheta = jnp.sqrt((xx - xo)**2 + (yy-yo)**2 + (zz[..., -1]-zo)**2) / Nz\n",
    "    \n",
    "    #costheta_1 = jnp.where((costheta == 0), 1.0, 1./costheta)\n",
    "    costheta_1 = jnp.where(costheta == 0., \n",
    "                           1.0, \n",
    "                           1./costheta\n",
    "                          )\n",
    "    return spherical_cap, costheta_1\n",
    "\n",
    "\n",
    "# make global\n",
    "spherical_cap, costheta_1 = get_pixel_geometry(Nmesh)"
   ]
  },
  {
   "cell_type": "markdown",
   "id": "e2b1be63-f76d-4b98-a8ea-83c5ddf84029",
   "metadata": {},
   "source": [
    "### pmwd box"
   ]
  },
  {
   "cell_type": "code",
   "execution_count": 7,
   "id": "f5281f26-ec4d-44bc-9efe-3473f6af07ac",
   "metadata": {},
   "outputs": [],
   "source": [
    "import matplotlib.pyplot as plt\n",
    "\n",
    "from pmwd import (\n",
    "    Configuration,\n",
    "    Cosmology, SimpleLCDM,\n",
    "    boltzmann, linear_power, growth,\n",
    "    white_noise, linear_modes,\n",
    "    lpt,\n",
    "    nbody,\n",
    "    scatter,\n",
    ")\n",
    "from pmwd.pm_util import fftinv\n",
    "from pmwd.spec_util import powspec\n",
    "from pmwd.vis_util import simshow"
   ]
  },
  {
   "cell_type": "code",
   "execution_count": null,
   "id": "15effc0c-38ff-4fb7-8e06-ef0d172698ec",
   "metadata": {},
   "outputs": [],
   "source": []
  },
  {
   "cell_type": "code",
   "execution_count": 210,
   "id": "f92a32f0-f5d9-4c06-9b88-2e521053b5b0",
   "metadata": {},
   "outputs": [
    {
     "name": "stdout",
     "output_type": "stream",
     "text": [
      "Configuration(ptcl_spacing=10.7421875,\n",
      "              ptcl_grid_shape=(256, 256, 256),\n",
      "              mesh_shape=(512, 512, 512),\n",
      "              cosmo_dtype=dtype('float64'),\n",
      "              pmid_dtype=dtype('int16'),\n",
      "              float_dtype=dtype('float32'),\n",
      "              k_pivot_Mpc=0.05,\n",
      "              T_cmb=2.7255,\n",
      "              M=1.98847e+40,\n",
      "              L=3.0856775815e+22,\n",
      "              T=3.0856775815e+17,\n",
      "              transfer_fit=True,\n",
      "              transfer_fit_nowiggle=False,\n",
      "              transfer_lgk_min=-4,\n",
      "              transfer_lgk_max=3,\n",
      "              transfer_lgk_maxstep=0.0078125,\n",
      "              growth_rtol=1.4901161193847656e-08,\n",
      "              growth_atol=1.4901161193847656e-08,\n",
      "              growth_inistep=(1, None),\n",
      "              lpt_order=2,\n",
      "              a_start=0.015625,\n",
      "              a_stop=1,\n",
      "              a_lpt_maxstep=0.0078125,\n",
      "              a_nbody_maxstep=0.015625,\n",
      "              symp_splits=((0, 0.5), (1, 0.5)),\n",
      "              chunk_size=16777216)\n"
     ]
    }
   ],
   "source": [
    "if jax.default_backend() == 'gpu':\n",
    "    ptcl_spacing = L/N # 1.0  # Lagrangian space Cartesian particle grid spacing, in Mpc/h by default\n",
    "    ptcl_grid_shape = (256,256,256) #(256,) * 3\n",
    "else:\n",
    "    ptcl_spacing = 4.\n",
    "    ptcl_grid_shape = (64,) * 3\n",
    "\n",
    "conf2 = Configuration(ptcl_spacing, ptcl_grid_shape, mesh_shape=2)  # 2x mesh shape\n",
    "print(conf2)"
   ]
  },
  {
   "cell_type": "code",
   "execution_count": 35,
   "id": "55024e76-0a33-4c39-aaec-4253f3398f3f",
   "metadata": {},
   "outputs": [
    {
     "data": {
      "text/plain": [
       "3.90625"
      ]
     },
     "execution_count": 35,
     "metadata": {},
     "output_type": "execute_result"
    }
   ],
   "source": [
    "L / N"
   ]
  },
  {
   "cell_type": "code",
   "execution_count": 115,
   "id": "25acd851-e5e6-477b-8552-1df8ac3afc7e",
   "metadata": {},
   "outputs": [],
   "source": [
    "L=5500\n",
    "N=512"
   ]
  },
  {
   "cell_type": "code",
   "execution_count": 116,
   "id": "4d7cea49-ddc2-426b-bd73-307edd4a6901",
   "metadata": {},
   "outputs": [
    {
     "data": {
      "text/plain": [
       "10.7421875"
      ]
     },
     "execution_count": 116,
     "metadata": {},
     "output_type": "execute_result"
    }
   ],
   "source": [
    "L/N"
   ]
  },
  {
   "cell_type": "code",
   "execution_count": 94,
   "id": "b82531b9-8884-4e4d-b815-f0cf82c46341",
   "metadata": {},
   "outputs": [],
   "source": [
    "# ptcl_spacing = nbody.L/N"
   ]
  },
  {
   "cell_type": "code",
   "execution_count": 214,
   "id": "4a0ebbb9-c36f-4186-9e59-370081f8a71d",
   "metadata": {},
   "outputs": [
    {
     "data": {
      "text/plain": [
       "170.66666666666666"
      ]
     },
     "execution_count": 214,
     "metadata": {},
     "output_type": "execute_result"
    }
   ],
   "source": [
    "512 / 3"
   ]
  },
  {
   "cell_type": "code",
   "execution_count": 215,
   "id": "774719b2-698e-429f-9706-ebcfa7e68afd",
   "metadata": {},
   "outputs": [
    {
     "data": {
      "text/plain": [
       "5500"
      ]
     },
     "execution_count": 215,
     "metadata": {},
     "output_type": "execute_result"
    }
   ],
   "source": [
    "L"
   ]
  },
  {
   "cell_type": "code",
   "execution_count": 211,
   "id": "9e27f47c-adbe-4bbe-8e32-50229f5fa2aa",
   "metadata": {},
   "outputs": [],
   "source": [
    "# N = 512\n",
    "# if jax.default_backend() == 'gpu':\n",
    "#     ptcl_spacing = L/N # 1.0  # Lagrangian space Cartesian particle grid spacing, in Mpc/h by default\n",
    "#     ptcl_grid_shape = (N,N,N) #(256,) * 3\n",
    "# else:\n",
    "#     ptcl_spacing = 4.\n",
    "#     ptcl_grid_shape = (64,) * 3\n",
    "\n",
    "# conf = Configuration(ptcl_spacing, ptcl_grid_shape, mesh_shape=1)  # 2x mesh shape"
   ]
  },
  {
   "cell_type": "code",
   "execution_count": null,
   "id": "72ef1199-2916-43fc-869c-829f19d3277b",
   "metadata": {},
   "outputs": [],
   "source": [
    "N = 512\n",
    "L = 1000\n",
    "\n",
    "ptcl_spacing = L/N # 1.0  # Lagrangian space Cartesian particle grid spacing, in Mpc/h by default\n",
    "ptcl_grid_shape = (N,N,N) #(256,) * 3\n",
    "\n",
    "\n",
    "conf = Configuration(ptcl_spacing, ptcl_grid_shape, mesh_shape=1)  # 2x mesh shape"
   ]
  },
  {
   "cell_type": "code",
   "execution_count": 212,
   "id": "b8ddbbdf-dae1-44da-99b2-37639f408b50",
   "metadata": {},
   "outputs": [
    {
     "name": "stdout",
     "output_type": "stream",
     "text": [
      "Configuration(ptcl_spacing=10.7421875,\n",
      "              ptcl_grid_shape=(512, 512, 512),\n",
      "              mesh_shape=(1536, 1536, 1536),\n",
      "              cosmo_dtype=dtype('float64'),\n",
      "              pmid_dtype=dtype('int16'),\n",
      "              float_dtype=dtype('float32'),\n",
      "              k_pivot_Mpc=0.05,\n",
      "              T_cmb=2.7255,\n",
      "              M=1.98847e+40,\n",
      "              L=3.0856775815e+22,\n",
      "              T=3.0856775815e+17,\n",
      "              transfer_fit=True,\n",
      "              transfer_fit_nowiggle=False,\n",
      "              transfer_lgk_min=-4,\n",
      "              transfer_lgk_max=3,\n",
      "              transfer_lgk_maxstep=0.0078125,\n",
      "              growth_rtol=1.4901161193847656e-08,\n",
      "              growth_atol=1.4901161193847656e-08,\n",
      "              growth_inistep=(1, None),\n",
      "              lpt_order=2,\n",
      "              a_start=0.015625,\n",
      "              a_stop=1,\n",
      "              a_lpt_maxstep=0.0078125,\n",
      "              a_nbody_maxstep=0.015625,\n",
      "              symp_splits=((0, 0.5), (1, 0.5)),\n",
      "              chunk_size=16777216)\n",
      "Simulating 134217728 particles with a (1536, 1536, 1536) mesh for 63 time steps.\n"
     ]
    }
   ],
   "source": [
    "print(conf)  # with other default parameters\n",
    "print(f'Simulating {conf.ptcl_num} particles with a {conf.mesh_shape} mesh for {conf.a_nbody_num} time steps.')"
   ]
  },
  {
   "cell_type": "code",
   "execution_count": 165,
   "id": "0696f02c-6824-492b-badd-f76597b7a606",
   "metadata": {},
   "outputs": [
    {
     "name": "stdout",
     "output_type": "stream",
     "text": [
      "Cosmology(A_s_1e9=Array(1.995, dtype=float64),\n",
      "          n_s=Array(0.96, dtype=float64),\n",
      "          Omega_m=Array(0.3, dtype=float64),\n",
      "          Omega_b=Array(0.05, dtype=float64),\n",
      "          h=Array(0.7, dtype=float64),\n",
      "          Omega_k_=None,\n",
      "          w_0_=None,\n",
      "          w_a_=None,\n",
      "          transfer=None,\n",
      "          growth=None,\n",
      "          varlin=None)\n"
     ]
    }
   ],
   "source": [
    "cosmo = Cosmology.from_sigma8(\n",
    "        conf, sigma8=0.811, Omega_m=0.3, Omega_b=0.05, h=0.7, n_s=0.96)\n",
    "#Cosmology(conf, A_s_1e9=2.0, n_s=0.96, Omega_m=0.3, Omega_b=0.05, h=0.7)\n",
    "# or simply use the predefined SimpleLCDM\n",
    "#cosmo = SimpleLCDM(conf)\n",
    "\n",
    "print(cosmo)"
   ]
  },
  {
   "cell_type": "code",
   "execution_count": 166,
   "id": "179ebeea-7fc7-4b49-985b-4a0f6d28a328",
   "metadata": {},
   "outputs": [
    {
     "name": "stdout",
     "output_type": "stream",
     "text": [
      "CPU times: user 27 ms, sys: 6.26 ms, total: 33.2 ms\n",
      "Wall time: 22.6 ms\n",
      "15.1 ms ± 267 µs per loop (mean ± std. dev. of 7 runs, 1 loop each)\n"
     ]
    }
   ],
   "source": [
    "%time cosmo = jax.block_until_ready(boltzmann(cosmo, conf))\n",
    "%timeit jax.block_until_ready(boltzmann(cosmo, conf))"
   ]
  },
  {
   "cell_type": "code",
   "execution_count": 167,
   "id": "2f961c7c-779e-4442-bf22-f1fb36a93fef",
   "metadata": {},
   "outputs": [],
   "source": [
    "seed = 0\n",
    "modes = white_noise(seed, conf)\n",
    "\n",
    "modes = linear_modes(modes, cosmo, conf)"
   ]
  },
  {
   "cell_type": "code",
   "execution_count": 168,
   "id": "e598cd24-dce7-4f90-9247-ad7fd19c2868",
   "metadata": {},
   "outputs": [
    {
     "name": "stdout",
     "output_type": "stream",
     "text": [
      "CPU times: user 968 ms, sys: 51.7 ms, total: 1.02 s\n",
      "Wall time: 1 s\n",
      "206 ms ± 72.3 µs per loop (mean ± std. dev. of 7 runs, 1 loop each)\n"
     ]
    },
    {
     "data": {
      "text/plain": [
       "(Array(0.113, dtype=float32), Array(0.008, dtype=float32))"
      ]
     },
     "execution_count": 168,
     "metadata": {},
     "output_type": "execute_result"
    }
   ],
   "source": [
    "%time ptcl, obsvbl = jax.block_until_ready(lpt(modes, cosmo, conf))\n",
    "%timeit jax.block_until_ready(lpt(modes, cosmo, conf))\n",
    "ptcl.disp.std(), ptcl.vel.std()"
   ]
  },
  {
   "cell_type": "code",
   "execution_count": 169,
   "id": "a5362361-cb11-4e44-8d2a-1fc1c4245cdf",
   "metadata": {},
   "outputs": [
    {
     "name": "stdout",
     "output_type": "stream",
     "text": [
      "CPU times: user 14.5 s, sys: 9.93 s, total: 24.4 s\n",
      "Wall time: 25.6 s\n",
      "CPU times: user 11.5 s, sys: 9.85 s, total: 21.3 s\n",
      "Wall time: 23.5 s\n"
     ]
    },
    {
     "data": {
      "text/plain": [
       "(Array(4.75, dtype=float32), Array(2.36, dtype=float32))"
      ]
     },
     "execution_count": 169,
     "metadata": {},
     "output_type": "execute_result"
    }
   ],
   "source": [
    "%time jax.block_until_ready(nbody(ptcl, obsvbl, cosmo, conf))\n",
    "%time ptcl, obsvbl = jax.block_until_ready(nbody(ptcl, obsvbl, cosmo, conf))\n",
    "ptcl.disp.std(), ptcl.vel.std()"
   ]
  },
  {
   "cell_type": "code",
   "execution_count": 170,
   "id": "3ebdc8f8-435c-44bb-8404-b5fbf34bf3e3",
   "metadata": {},
   "outputs": [
    {
     "data": {
      "image/jpeg": "[encoded data removed]",
      "text/plain": [
       "<Figure size 604.8x470.4 with 2 Axes>"
      ]
     },
     "metadata": {},
     "output_type": "display_data"
    }
   ],
   "source": [
    "dens = scatter(ptcl, conf)\n",
    "simshow(dens[:16].mean(axis=0), norm='CosmicWebNorm');"
   ]
  },
  {
   "cell_type": "code",
   "execution_count": 200,
   "id": "0f84d80f-3ba0-4fbe-8405-eff5b3356ea7",
   "metadata": {},
   "outputs": [
    {
     "data": {
      "text/plain": [
       "(10.7421875, (512, 512, 512), 10.7421875)"
      ]
     },
     "execution_count": 200,
     "metadata": {},
     "output_type": "execute_result"
    }
   ],
   "source": [
    "conf.cell_size, conf.ptcl_grid_shape, conf.ptcl_spacing"
   ]
  },
  {
   "cell_type": "code",
   "execution_count": 202,
   "id": "f3974ae5-bb64-471e-b246-e70ac6e16560",
   "metadata": {},
   "outputs": [
    {
     "data": {
      "text/plain": [
       "Configuration(ptcl_spacing=10.7421875, ptcl_grid_shape=(512, 512, 512), mesh_shape=(512, 512, 512), cosmo_dtype=dtype('float64'), pmid_dtype=dtype('int16'), float_dtype=dtype('float32'), k_pivot_Mpc=0.05, T_cmb=2.7255, M=1.98847e+40, L=3.0856775815e+22, T=3.0856775815e+17, transfer_fit=True, transfer_fit_nowiggle=False, transfer_lgk_min=-4, transfer_lgk_max=3, transfer_lgk_maxstep=0.0078125, growth_rtol=1.4901161193847656e-08, growth_atol=1.4901161193847656e-08, growth_inistep=(1, None), lpt_order=2, a_start=0.015625, a_stop=1, a_lpt_maxstep=0.0078125, a_nbody_maxstep=0.015625, symp_splits=((0, 0.5), (1, 0.5)), chunk_size=16777216)"
      ]
     },
     "execution_count": 202,
     "metadata": {},
     "output_type": "execute_result"
    }
   ],
   "source": [
    "conf"
   ]
  },
  {
   "cell_type": "code",
   "execution_count": 172,
   "id": "b36d9cdb-2a74-4231-a1bf-4e84aae2d613",
   "metadata": {},
   "outputs": [
    {
     "data": {
      "image/jpeg": "[encoded data removed]",
      "text/plain": [
       "<Figure size 480x360 with 1 Axes>"
      ]
     },
     "metadata": {},
     "output_type": "display_data"
    }
   ],
   "source": [
    "k, P, _, _ = powspec(dens, conf.cell_size)\n",
    "\n",
    "dens_lin = fftinv(modes, shape=conf.ptcl_grid_shape, norm=conf.ptcl_spacing)\n",
    "dens_lin *= growth(conf.a_stop, cosmo, conf)\n",
    "k_lin, P_lin, _, _ = powspec(dens_lin, conf.ptcl_spacing)\n",
    "\n",
    "P_linth = linear_power(k, conf.a_stop, cosmo, conf)\n",
    "\n",
    "plt.figure(figsize=(4, 3), dpi=120)\n",
    "plt.loglog(k, P_linth, ls='--', label='linear theory')\n",
    "plt.loglog(k_lin, P_lin, ls=':', label='linear')\n",
    "plt.loglog(k, P, ls='-', label='nonlinear')\n",
    "plt.legend();"
   ]
  },
  {
   "cell_type": "code",
   "execution_count": 127,
   "id": "be5ed7e9-e0b5-4f42-9096-01e5cb4778b8",
   "metadata": {},
   "outputs": [
    {
     "data": {
      "image/jpeg": "[encoded data removed]",
      "text/plain": [
       "<Figure size 480x360 with 1 Axes>"
      ]
     },
     "metadata": {},
     "output_type": "display_data"
    }
   ],
   "source": [
    "k, P, _, _ = powspec(dens, conf.cell_size)\n",
    "\n",
    "dens_lin = fftinv(modes, shape=conf.ptcl_grid_shape, norm=conf.ptcl_spacing)\n",
    "dens_lin *= growth(conf.a_stop, cosmo, conf)\n",
    "k_lin, P_lin, _, _ = powspec(dens_lin, conf.ptcl_spacing)\n",
    "\n",
    "P_linth = linear_power(k, conf.a_stop, cosmo, conf)\n",
    "\n",
    "plt.figure(figsize=(4, 3), dpi=120)\n",
    "plt.loglog(k, P_linth, ls='--', label='linear theory')\n",
    "plt.loglog(k_lin, P_lin, ls=':', label='linear')\n",
    "plt.loglog(k, P, ls='-', label='nonlinear')\n",
    "plt.legend();"
   ]
  },
  {
   "cell_type": "code",
   "execution_count": 173,
   "id": "f2fcfef4-be12-48b9-8255-24f3375258bd",
   "metadata": {},
   "outputs": [
    {
     "data": {
      "text/plain": [
       "(512, 512, 512)"
      ]
     },
     "execution_count": 173,
     "metadata": {},
     "output_type": "execute_result"
    }
   ],
   "source": [
    "dens.shape"
   ]
  },
  {
   "cell_type": "code",
   "execution_count": 174,
   "id": "2873c396-98e5-4a28-b350-dd5508774b43",
   "metadata": {},
   "outputs": [
    {
     "data": {
      "text/plain": [
       "(Array([0.5, 1. , 1.5, 2. ], dtype=float64), 512)"
      ]
     },
     "execution_count": 174,
     "metadata": {},
     "output_type": "execute_result"
    }
   ],
   "source": [
    "z_means_analysis, N"
   ]
  },
  {
   "cell_type": "code",
   "execution_count": 130,
   "id": "498b765b-9fb0-4296-82ec-0591a502bb08",
   "metadata": {},
   "outputs": [],
   "source": [
    "los_indices = np.load(\"/data101/makinen/lemur_sims/los_indices_N_%d_Nz_512.npy\"%(N))"
   ]
  },
  {
   "cell_type": "code",
   "execution_count": 175,
   "id": "ca56cf11-8022-404d-a676-756bfa27d249",
   "metadata": {},
   "outputs": [],
   "source": [
    "delta = dens - dens.mean()"
   ]
  },
  {
   "cell_type": "code",
   "execution_count": 176,
   "id": "85a33e7a-26ab-45e1-a053-519a038f959c",
   "metadata": {},
   "outputs": [],
   "source": [
    "Nx,Ny,Nz = delta.shape"
   ]
  },
  {
   "cell_type": "code",
   "execution_count": 188,
   "id": "57fc60f3-8bac-49de-9885-93e7cbdb84c6",
   "metadata": {},
   "outputs": [],
   "source": [
    "Nmesh = delta.shape\n",
    "spherical_cap, costheta_1 = get_pixel_geometry(Nmesh)\n",
    "\n",
    "spherical_cap = jnp.ones(spherical_cap.shape)"
   ]
  },
  {
   "cell_type": "code",
   "execution_count": 189,
   "id": "ef97d53f-690f-4b27-98bf-19a0973574b2",
   "metadata": {},
   "outputs": [
    {
     "data": {
      "text/plain": [
       "(512, 512, 512)"
      ]
     },
     "execution_count": 189,
     "metadata": {},
     "output_type": "execute_result"
    }
   ],
   "source": [
    "spherical_cap.shape"
   ]
  },
  {
   "cell_type": "code",
   "execution_count": 179,
   "id": "829bd37f-d7be-4084-8285-c49148e1164c",
   "metadata": {},
   "outputs": [
    {
     "data": {
      "text/plain": [
       "10.7421875"
      ]
     },
     "execution_count": 179,
     "metadata": {},
     "output_type": "execute_result"
    }
   ],
   "source": [
    "ptcl_spacing # L / N"
   ]
  },
  {
   "cell_type": "code",
   "execution_count": 180,
   "id": "edd6f97f-2684-43a1-8155-60e189dad2ec",
   "metadata": {},
   "outputs": [
    {
     "data": {
      "text/plain": [
       "(5500.0, 5500.0, 5500.0)"
      ]
     },
     "execution_count": 180,
     "metadata": {},
     "output_type": "execute_result"
    }
   ],
   "source": [
    "Lbox = tuple(np.array(Nmesh) * ptcl_spacing)\n",
    "Lbox"
   ]
  },
  {
   "cell_type": "code",
   "execution_count": 181,
   "id": "c58dc077-08ea-43c5-842b-d3403f01b424",
   "metadata": {},
   "outputs": [],
   "source": [
    "    #los_indices = np.load(\"/data101/makinen/lemur_sims/los_indices_N_%d_Nz_512.npy\"%(N))\n",
    "sigma8 = 0.811\n",
    "omegam = 0.3\n",
    "\n",
    "\n",
    "_all_los = lambda i: all_los(i, delta=delta)\n",
    "delta_los = jax.vmap(_all_los)(los_indices).reshape(Nx,Ny,Nz)\n",
    "\n",
    "# now do convergence nonsense\n",
    "\n",
    "cosmo_lemur = cosmology.CosmologicalParameters(sigma8=sigma8, Omega_m=omegam)\n",
    "\n",
    "# the corresponding scale factor grid changes with cosmology\n",
    "# simulation box physical terms (comoving grid)\n",
    "chi_grid = (jnp.arange(Nmesh[2]) + 0.5) * Lbox[2] / Nmesh[2]\n",
    "omega_m = cosmo_lemur.Omega_m\n",
    "a_grid = background.compute_scale_factor_at_comoving_distance(chi_grid, cosmo_lemur)\n",
    "z_grid = a_to_z(a_grid)\n",
    "\n",
    "lensing_factor = 1.5 * omega_m * constants.H0**2 / constants.c**2\n",
    "chi_source = chi_grid[-1]\n",
    "kernel = utils.calculate_lensing_efficiency(chi_grid, chi_source) / a_grid\n",
    "\n",
    "# kernel becomes r / costheta; integrate only up to spherical cap rmax\n",
    "#spherical_cap = simulator_args[\"spherical_cap\"]\n",
    "#costheta_1 = simulator_args[\"costheta_1\"] #= get_pixel_geometry(box.Nmesh)\n",
    "\n",
    "\n",
    "#@partial(jax.jit, static_argnums=(1,2))\n",
    "\n",
    "\n",
    "\n",
    "\n",
    "\n",
    "#kappa_tomo = jnp.squeeze(jax.vmap(get_tomobin)(zmeans))"
   ]
  },
  {
   "cell_type": "code",
   "execution_count": 190,
   "id": "215d9fa6-a4f4-4667-a94b-bc3eacc7150d",
   "metadata": {},
   "outputs": [],
   "source": [
    "def get_tomobin(zmean, zstd=zstd, delta_los=delta_los):\n",
    "    \n",
    "    ws = get_weights_in_chi(z_grid, \n",
    "                            a_grid,\n",
    "                            chi_grid,\n",
    "                            zmean, \n",
    "                            std=zstd\n",
    "                           ) \n",
    "    \n",
    "    def fn(k_ij, weights=ws):\n",
    "        \"\"\"\n",
    "        k_ij: 3D field slice k[i,j,:]\n",
    "        weights: (Nz,) weight array\n",
    "        \"\"\"\n",
    "        return jnp.sum(k_ij * ws * kernel * Jacobian(z_grid, cosmo.Omega_m)) \n",
    "    \n",
    "    kappa_tomo = jax.vmap(jax.vmap(fn, in_axes=(0,)), in_axes=(1,))(delta_los * spherical_cap * costheta_1)\n",
    "    kappa_tomo -= jnp.mean(kappa_tomo)\n",
    "\n",
    "    return kappa_tomo * lensing_factor"
   ]
  },
  {
   "cell_type": "code",
   "execution_count": 191,
   "id": "69c698ee-ec17-4ef6-9552-d97d88c708d6",
   "metadata": {},
   "outputs": [],
   "source": [
    "kappa_tomo = jnp.squeeze(jax.vmap(get_tomobin)(z_means_analysis))"
   ]
  },
  {
   "cell_type": "code",
   "execution_count": 192,
   "id": "65abdc7b-d84a-4a31-bc1a-fc110810e310",
   "metadata": {},
   "outputs": [
    {
     "data": {
      "text/plain": [
       "(4, 512, 512)"
      ]
     },
     "execution_count": 192,
     "metadata": {},
     "output_type": "execute_result"
    }
   ],
   "source": [
    "kappa_tomo.shape"
   ]
  },
  {
   "cell_type": "code",
   "execution_count": 193,
   "id": "cf39189f-c7a1-483f-a4d4-9705773dde38",
   "metadata": {},
   "outputs": [],
   "source": [
    "kappa_extr = kappa_tomo[0].max()"
   ]
  },
  {
   "cell_type": "code",
   "execution_count": 196,
   "id": "b4cd34db-3b55-436d-9587-cfdb528fb9a0",
   "metadata": {},
   "outputs": [
    {
     "data": {
      "text/plain": [
       "Array(0.007, dtype=float64)"
      ]
     },
     "execution_count": 196,
     "metadata": {},
     "output_type": "execute_result"
    }
   ],
   "source": [
    "kappa_extr"
   ]
  },
  {
   "cell_type": "code",
   "execution_count": 197,
   "id": "87b08ea9-c841-4449-90c6-0787866ee115",
   "metadata": {},
   "outputs": [
    {
     "name": "stderr",
     "output_type": "stream",
     "text": [
      "/tmp/ipykernel_62485/654024235.py:28: MatplotlibDeprecationWarning: The toggle_label function was deprecated in Matplotlib 3.8 and will be removed two minor releases later. Use ax.tick_params and colorbar.set_label instead.\n",
      "  ax.cax.toggle_label(True)\n"
     ]
    },
    {
     "data": {
      "image/jpeg": "[encoded data removed]",
      "text/plain": [
       "<Figure size 975x300 with 8 Axes>"
      ]
     },
     "metadata": {},
     "output_type": "display_data"
    }
   ],
   "source": [
    "import numpy as np\n",
    "import matplotlib.pyplot as plt\n",
    "from mpl_toolkits.axes_grid1 import ImageGrid\n",
    "\n",
    "# Set up figure and image grid\n",
    "fig = plt.figure(figsize=(9.75, 3))\n",
    "\n",
    "grid = ImageGrid(fig, 111,          # as in plt.subplot(111)\n",
    "                 nrows_ncols=(1,4),\n",
    "                 axes_pad=0.15,\n",
    "                 share_all=True,\n",
    "                 cbar_location=\"right\",\n",
    "                 cbar_mode=\"single\",\n",
    "                 cbar_size=\"7%\",\n",
    "                 cbar_pad=0.15,\n",
    "                 )\n",
    "\n",
    "for i,z in enumerate(z_means_analysis):\n",
    "\n",
    "    ax = grid[i]\n",
    "    im = ax.imshow(kappa_tomo[i], vmin=-kappa_extr, vmax=kappa_extr, interpolation='spline36')\n",
    "    ax.set_xticks([])\n",
    "    ax.set_yticks([])\n",
    "    ax.set_title(\"z=%.1f\"%(z))\n",
    "    \n",
    "# Colorbar\n",
    "ax.cax.colorbar(im)\n",
    "ax.cax.toggle_label(True)\n",
    "\n",
    "#plt.tight_layout()    # Works, but may still require rect paramater to keep colorbar labels visible\n",
    "plt.show()"
   ]
  },
  {
   "cell_type": "code",
   "execution_count": null,
   "id": "eafd7987-424a-4b4c-9c2b-45aa396f3dd2",
   "metadata": {},
   "outputs": [],
   "source": []
  }
 ],
 "metadata": {
  "kernelspec": {
   "display_name": "Python 3 (ipykernel)",
   "language": "python",
   "name": "python3"
  },
  "language_info": {
   "codemirror_mode": {
    "name": "ipython",
    "version": 3
   },
   "file_extension": ".py",
   "mimetype": "text/x-python",
   "name": "python",
   "nbconvert_exporter": "python",
   "pygments_lexer": "ipython3",
   "version": "3.11.5"
  }
 },
 "nbformat": 4,
 "nbformat_minor": 5
}
