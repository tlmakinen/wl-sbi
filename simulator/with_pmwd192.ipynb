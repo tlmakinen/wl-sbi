{
 "cells": [
  {
   "cell_type": "code",
   "execution_count": 1,
   "id": "8c536dfc-5bd6-4fdd-b5d3-44adc68c9bef",
   "metadata": {},
   "outputs": [
    {
     "name": "stdout",
     "output_type": "stream",
     "text": [
      "Tesla V100-PCIE-32GB\n"
     ]
    }
   ],
   "source": [
    "import os\n",
    "\n",
    "# change JAX GPU memory preallocation fraction\n",
    "os.environ['XLA_PYTHON_CLIENT_MEM_FRACTION'] = '.95'\n",
    "\n",
    "from jax import config\n",
    "config.update(\"jax_enable_x64\", True)\n",
    "\n",
    "%load_ext autoreload\n",
    "%autoreload 2\n",
    "\n",
    "import jax\n",
    "\n",
    "!nvidia-smi --query-gpu=gpu_name --format=csv,noheader"
   ]
  },
  {
   "cell_type": "code",
   "execution_count": 2,
   "id": "37b654ba-c127-4f24-95b9-c82fca9a6011",
   "metadata": {},
   "outputs": [
    {
     "name": "stdout",
     "output_type": "stream",
     "text": [
      "The autoreload extension is already loaded. To reload it, use:\n",
      "  %reload_ext autoreload\n"
     ]
    }
   ],
   "source": [
    "%load_ext autoreload\n",
    "%autoreload 2"
   ]
  },
  {
   "cell_type": "code",
   "execution_count": 3,
   "id": "71cb3e7f-4709-44cc-ba23-8708ee275397",
   "metadata": {},
   "outputs": [],
   "source": [
    "from pmwd import (\n",
    "    Configuration,\n",
    "    Cosmology, SimpleLCDM,\n",
    "    boltzmann, linear_power, growth,\n",
    "    white_noise, linear_modes,\n",
    "    lpt,\n",
    "    nbody,\n",
    "    scatter,\n",
    ")\n",
    "from pmwd.pm_util import fftinv\n",
    "from pmwd.spec_util import powspec\n",
    "from pmwd.vis_util import simshow"
   ]
  },
  {
   "cell_type": "code",
   "execution_count": 4,
   "id": "117d17d8-ad21-488e-bab2-2e6f26aee244",
   "metadata": {},
   "outputs": [],
   "source": [
    "#from jax import config\n",
    "#config.update(\"jax_enable_x64\", True)\n",
    "\n",
    "import jax\n",
    "import jax.numpy as jnp\n",
    "\n",
    "import numpy as np\n",
    "from tqdm import tqdm\n",
    "from jax import lax\n",
    "from jax.typing import ArrayLike\n",
    "from functools import partial\n",
    "\n",
    "from tqdm import tqdm\n",
    "import matplotlib.pyplot as plt\n",
    "\n",
    "import alpaga\n",
    "\n",
    "from lemur import analysis, background, cosmology, limber, simulate, plot, utils, constants"
   ]
  },
  {
   "cell_type": "code",
   "execution_count": 5,
   "id": "d4ee39fd-89ba-4f42-add2-d4e1cd911689",
   "metadata": {},
   "outputs": [
    {
     "name": "stdout",
     "output_type": "stream",
     "text": [
      "gpu\n"
     ]
    }
   ],
   "source": [
    "from jax.lib import xla_bridge\n",
    "print(xla_bridge.get_backend().platform)"
   ]
  },
  {
   "cell_type": "code",
   "execution_count": 6,
   "id": "deb35b7b-9455-44a9-82b6-c43065c99497",
   "metadata": {},
   "outputs": [
    {
     "data": {
      "text/plain": [
       "2.34375"
      ]
     },
     "execution_count": 6,
     "metadata": {},
     "output_type": "execute_result"
    }
   ],
   "source": [
    "300 / 128"
   ]
  },
  {
   "cell_type": "code",
   "execution_count": 7,
   "id": "ab520ddf-9956-4ea5-a242-f43b32b9b24b",
   "metadata": {},
   "outputs": [
    {
     "data": {
      "text/plain": [
       "0.46875"
      ]
     },
     "execution_count": 7,
     "metadata": {},
     "output_type": "execute_result"
    }
   ],
   "source": [
    "res_multiscale = 240 / 512\n",
    "res_multiscale"
   ]
  },
  {
   "cell_type": "code",
   "execution_count": 8,
   "id": "22547783-8299-4745-ba6a-47a10b745123",
   "metadata": {},
   "outputs": [],
   "source": [
    "# Set up a simulation box -- now in BORG settings\n",
    "L = 250 #500 #500 #4000 #  # resolution\n",
    "N = 192 #128 # 128\n",
    "\n",
    "Lz = 4000\n",
    "Nz = 512\n",
    "\n",
    "\n",
    "#Lbox = (L, L, 5500)\n",
    "# need to set end of box to keep particle aspect the same\n",
    "Lbox = (L, L, Lz) #4000)\n",
    "Nmesh = (N, N, Nz)\n",
    "\n",
    "coord_obs = (L // 2, L // 2, 0)\n",
    "coord_obsN = (N // 2, N // 2, 0)\n",
    "\n",
    "# specifying los_coords will ask the Box to calculate the coordinates, which takes a while.\n",
    "# if you already have the coordinates, save them and set `los_coords=None`\n",
    "box = alpaga.simgrid.Box(Lbox, Nmesh, coord_obs)#, los_coords=coord_obsN)\n",
    "\n",
    "#los_indices = jnp.load(\"los_indices.npy\")\n",
    "#los_indices = box.los_indices\n",
    "\n",
    "\n",
    "# Set the simulation parameters\n",
    "a_init = 0.01\n",
    "a_final = 1.0\n",
    "lpt_order = 2\n",
    "lightcone = True\n",
    "\n",
    "# simulation box physical terms (comoving grid)\n",
    "#Nx,Ny,Nz = box.Nmesh\n",
    "chi_grid = (jnp.arange(Nmesh[2]) + 0.5) * Lbox[2] / Nmesh[2]\n",
    "\n",
    "# tomographic bin means\n",
    "z_means_analysis = jnp.array([0.5, 0.75, 1.0, 1.25]) #jnp.array([0.5, 1.0, 1.5, 2.0])\n",
    "zstd = 0.14"
   ]
  },
  {
   "cell_type": "code",
   "execution_count": 9,
   "id": "a931ccfc-915a-45f9-8a6e-e57fd5257235",
   "metadata": {},
   "outputs": [],
   "source": [
    "from lemur.utils import *\n",
    "\n",
    "# make global\n",
    "spherical_cap, costheta_1 = get_pixel_geometry(Nmesh, coord_obsN)"
   ]
  },
  {
   "cell_type": "code",
   "execution_count": 10,
   "id": "c57f605d-7c15-4882-aed2-d6dc40fbca69",
   "metadata": {},
   "outputs": [],
   "source": [
    "los_indices = jnp.load(\"/data101/makinen/lemur_sims/los_indices_N_%d_Nz_512.npy\"%(N))\n",
    "#los_indices = box.los_indices\n",
    "#np.save(\"/data101/makinen/lemur_sims/los_indices_N_%d_Nz_512\"%(N), los_indices)"
   ]
  },
  {
   "cell_type": "code",
   "execution_count": 11,
   "id": "8ebe35dc-99c1-4468-849c-52231ad2a75c",
   "metadata": {},
   "outputs": [],
   "source": [
    "# a_start = 1. / (1. + 20.) # 0.015625\n",
    "# N_timesteps = N_timesteps\n",
    "\n",
    "# conf = Configuration(ptcl_spacing, ptcl_grid_shape, mesh_shape=mesh_shape,\n",
    "#                     a_nbody_maxstep=(1.0-a_start)/ N_timesteps\n",
    "#                     ) # 2x mesh shape"
   ]
  },
  {
   "cell_type": "code",
   "execution_count": 12,
   "id": "a039242f-9ff7-427f-9c08-043f8a4040ac",
   "metadata": {},
   "outputs": [],
   "source": [
    "# PMWD CONFIGURATION\n",
    "\n",
    "if jax.default_backend() == 'gpu':\n",
    "    ptcl_spacing = (L / N, L / N, Lz / Nz) #4000 / 512)  # Lagrangian space Cartesian particle grid spacing, in Mpc/h by default\n",
    "    ptcl_grid_shape = (N,N,Nz) #(256,) * 3\n",
    "else:\n",
    "    ptcl_spacing = 4.\n",
    "    ptcl_grid_shape = (64,) * 3\n",
    "\n",
    "a_start = 0.015625\n",
    "N_timesteps = 100\n",
    "\n",
    "conf = Configuration(ptcl_spacing, ptcl_grid_shape, mesh_shape=1,\n",
    "                     a_nbody_maxstep=(1.0-a_start)/ N_timesteps) # 2x mesh shape"
   ]
  },
  {
   "cell_type": "code",
   "execution_count": 13,
   "id": "5b80277d-b78e-488e-8309-9d8f004df6e1",
   "metadata": {},
   "outputs": [
    {
     "name": "stdout",
     "output_type": "stream",
     "text": [
      "Configuration(ptcl_spacing=(1.3020833333333333, 1.3020833333333333, 7.8125),\n",
      "              ptcl_grid_shape=(192, 192, 512),\n",
      "              mesh_shape=(192, 192, 512),\n",
      "              cosmo_dtype=dtype('float64'),\n",
      "              pmid_dtype=dtype('int16'),\n",
      "              float_dtype=dtype('float32'),\n",
      "              k_pivot_Mpc=0.05,\n",
      "              T_cmb=2.7255,\n",
      "              M=1.98847e+40,\n",
      "              L=3.0856775815e+22,\n",
      "              T=3.0856775815e+17,\n",
      "              transfer_fit=True,\n",
      "              transfer_fit_nowiggle=False,\n",
      "              transfer_lgk_min=-4,\n",
      "              transfer_lgk_max=3,\n",
      "              transfer_lgk_maxstep=0.0078125,\n",
      "              growth_rtol=1.4901161193847656e-08,\n",
      "              growth_atol=1.4901161193847656e-08,\n",
      "              growth_inistep=(1, None),\n",
      "              lpt_order=2,\n",
      "              a_start=0.015625,\n",
      "              a_stop=1,\n",
      "              a_lpt_maxstep=0.0078125,\n",
      "              a_nbody_maxstep=0.00984375,\n",
      "              symp_splits=((0, 0.5), (1, 0.5)),\n",
      "              chunk_size=16777216)\n",
      "Simulating 18874368 particles with a (192, 192, 512) mesh for 100 time steps.\n"
     ]
    }
   ],
   "source": [
    "print(conf)  # with other default parameters\n",
    "print(f'Simulating {conf.ptcl_num} particles with a {conf.mesh_shape} mesh for {conf.a_nbody_num} time steps.')"
   ]
  },
  {
   "cell_type": "code",
   "execution_count": 14,
   "id": "e2f0be39-fbac-4f34-bc03-8e038fededf6",
   "metadata": {},
   "outputs": [
    {
     "data": {
      "text/plain": [
       "8388608"
      ]
     },
     "execution_count": 14,
     "metadata": {},
     "output_type": "execute_result"
    }
   ],
   "source": [
    "128*128*512"
   ]
  },
  {
   "cell_type": "code",
   "execution_count": 15,
   "id": "1ca210fd-7b56-44e4-9af2-804686b96ca1",
   "metadata": {},
   "outputs": [
    {
     "data": {
      "text/plain": [
       "Array([2.413, 2.413, 0.402], dtype=float64)"
      ]
     },
     "execution_count": 15,
     "metadata": {},
     "output_type": "execute_result"
    }
   ],
   "source": [
    "jnp.pi / jnp.array(conf.ptcl_spacing)"
   ]
  },
  {
   "cell_type": "code",
   "execution_count": 16,
   "id": "388c0267-2c87-40b4-821e-c6618cceddf5",
   "metadata": {},
   "outputs": [],
   "source": [
    "simulator_args = dict(\n",
    "                Lbox = Lbox,\n",
    "                Nmesh = Nmesh,\n",
    "                coord_obs = (L // 2, L // 2, 0),\n",
    "                los_indices=los_indices,\n",
    "                zmeans=z_means_analysis,\n",
    "                zstds=jnp.ones(z_means_analysis.shape[0])*zstd,\n",
    "                spherical_cap=spherical_cap,\n",
    "                costheta_1=costheta_1,\n",
    "                lpt_order=lpt_order,\n",
    "                conf=conf\n",
    ")"
   ]
  },
  {
   "cell_type": "code",
   "execution_count": 17,
   "id": "687ae0c2-2e31-4cb5-b044-ff3f5ef8ea01",
   "metadata": {},
   "outputs": [
    {
     "data": {
      "text/plain": [
       "(250, 250, 4000)"
      ]
     },
     "execution_count": 17,
     "metadata": {},
     "output_type": "execute_result"
    }
   ],
   "source": [
    "Lbox"
   ]
  },
  {
   "cell_type": "code",
   "execution_count": 18,
   "id": "3a2b5d06-cf63-4f73-9b7c-97613375d057",
   "metadata": {},
   "outputs": [],
   "source": [
    "#cosmo = SimpleLCDM(conf)\n",
    "#modes = white_noise(seed, conf)\n",
    "\n",
    "def density_model(seed, cosmo, conf):\n",
    "    modes = white_noise(seed, conf)\n",
    "    cosmo = boltzmann(cosmo, conf)\n",
    "    modes = linear_modes(modes, cosmo, conf)\n",
    "    ptcl, obsvbl = lpt(modes, cosmo, conf)\n",
    "    ptcl, obsvbl = nbody(ptcl, obsvbl, cosmo, conf)\n",
    "    dens = scatter(ptcl, conf)\n",
    "    return dens"
   ]
  },
  {
   "cell_type": "code",
   "execution_count": 19,
   "id": "bf23bde7-cd9b-4fbb-94a7-51a03542963c",
   "metadata": {},
   "outputs": [
    {
     "data": {
      "text/plain": [
       "(1.3020833333333333, 1.3020833333333333, 7.8125)"
      ]
     },
     "execution_count": 19,
     "metadata": {},
     "output_type": "execute_result"
    }
   ],
   "source": [
    "conf.ptcl_spacing"
   ]
  },
  {
   "cell_type": "code",
   "execution_count": 20,
   "id": "8bbe9546-d0a2-4a74-8d65-4ffb8dc29ed5",
   "metadata": {},
   "outputs": [
    {
     "data": {
      "text/plain": [
       "3"
      ]
     },
     "execution_count": 20,
     "metadata": {},
     "output_type": "execute_result"
    }
   ],
   "source": [
    "conf.dim"
   ]
  },
  {
   "cell_type": "code",
   "execution_count": 21,
   "id": "d8500878-4d61-403c-891d-898e6df0011a",
   "metadata": {},
   "outputs": [],
   "source": [
    "cosmo = Cosmology.from_sigma8(\n",
    "        conf, sigma8=0.811, Omega_m=0.3, Omega_b=0.05, h=0.7, n_s=0.96)\n",
    "\n",
    "dens = density_model(0, cosmo, conf)"
   ]
  },
  {
   "cell_type": "code",
   "execution_count": 22,
   "id": "6c1544ec-64c6-4614-8d5b-d508bb2bf41e",
   "metadata": {},
   "outputs": [
    {
     "data": {
      "text/plain": [
       "(192, 192, 512)"
      ]
     },
     "execution_count": 22,
     "metadata": {},
     "output_type": "execute_result"
    }
   ],
   "source": [
    "dens.shape"
   ]
  },
  {
   "cell_type": "code",
   "execution_count": 23,
   "id": "f852b313-25ae-4781-9c8a-baec3ba2b705",
   "metadata": {},
   "outputs": [
    {
     "data": {
      "text/plain": [
       "Array(-4.139e-10, dtype=float32)"
      ]
     },
     "execution_count": 23,
     "metadata": {},
     "output_type": "execute_result"
    }
   ],
   "source": [
    "(dens - dens.mean()).mean()"
   ]
  },
  {
   "cell_type": "code",
   "execution_count": 24,
   "id": "a540d158-b864-42be-908d-92446eaa1e93",
   "metadata": {},
   "outputs": [
    {
     "data": {
      "image/jpeg": "[encoded data removed]",
      "text/plain": [
       "<Figure size 604.8x470.4 with 2 Axes>"
      ]
     },
     "metadata": {},
     "output_type": "display_data"
    }
   ],
   "source": [
    "simshow(dens[:32, :, :].mean(axis=0), norm='CosmicWebNorm');"
   ]
  },
  {
   "cell_type": "code",
   "execution_count": 23,
   "id": "4f241c98-87af-4487-9553-d956f625fdb0",
   "metadata": {},
   "outputs": [
    {
     "data": {
      "image/jpeg": "[encoded data removed]",
      "text/plain": [
       "<Figure size 604.8x470.4 with 2 Axes>"
      ]
     },
     "metadata": {},
     "output_type": "display_data"
    }
   ],
   "source": [
    "simshow(dens[:32, :, :].mean(axis=0), norm='CosmicWebNorm');"
   ]
  },
  {
   "cell_type": "code",
   "execution_count": 25,
   "id": "9c71a759-09bb-4878-8097-b7888c0a82a7",
   "metadata": {},
   "outputs": [],
   "source": [
    "def get_sigma8(omegam, S8):\n",
    "    return S8 / (jnp.sqrt(omegam / 0.3))"
   ]
  },
  {
   "cell_type": "code",
   "execution_count": 26,
   "id": "676debed-9eb7-439d-8f72-ca8701af0472",
   "metadata": {},
   "outputs": [
    {
     "data": {
      "text/plain": [
       "(pmwd.cosmology.Cosmology,\n",
       " <module 'lemur.cosmology' from '/home/makinen/repositories/lemur/src/lemur/cosmology.py'>)"
      ]
     },
     "execution_count": 26,
     "metadata": {},
     "output_type": "execute_result"
    }
   ],
   "source": [
    "Cosmology, cosmology"
   ]
  },
  {
   "cell_type": "code",
   "execution_count": 27,
   "id": "6945639c-5f64-47a2-9f95-68227d5ee4a7",
   "metadata": {},
   "outputs": [],
   "source": [
    "@partial(jax.jit, static_argnums=(2,))\n",
    "def simulator(seed, θ,\n",
    "             simulator_args=simulator_args\n",
    "             ):\n",
    "    \n",
    "    #omegam,sigma8 = θ\n",
    "    omegam, S8 = θ\n",
    "    \n",
    "    sigma8 = get_sigma8(omegam, S8) # convert from S8 coords\n",
    "    \n",
    "    conf = simulator_args[\"conf\"]\n",
    "    cosmo_pmwd = Cosmology.from_sigma8(\n",
    "        conf, sigma8=sigma8, Omega_m=omegam, Omega_b=0.049, h=0.7, n_s=0.96)\n",
    "    \n",
    "    cosmo = cosmology.CosmologicalParameters(sigma8=sigma8, Omega_m=omegam)\n",
    "\n",
    "    Nmesh = simulator_args[\"Nmesh\"]\n",
    "    Lbox = simulator_args[\"Lbox\"]\n",
    "    zmeans = simulator_args[\"zmeans\"]\n",
    "    zstds = simulator_args[\"zstds\"]\n",
    "\n",
    "    # try creating the box internally\n",
    "    box = alpaga.simgrid.Box(Lbox, Nmesh, coord_obs)\n",
    "    Nx,Ny,Nz = box.Nmesh\n",
    "    \n",
    "    # Generate a white noise field\n",
    "    #wn = alpaga.simulate.generate_white_noise(box, seed)\n",
    "\n",
    "    # density field\n",
    "    delta_los = density_model(seed, cosmo_pmwd, conf)\n",
    "    delta_los -= delta_los.mean()\n",
    "\n",
    "    \n",
    "    #los_indices = np.load(\"/data101/makinen/lemur_sims/los_indices_N_%d_Nz_512.npy\"%(N))\n",
    "    los_indices = simulator_args[\"los_indices\"]\n",
    "\n",
    "    #@partial(jax.jit, static_argnames=[\"delta\"])\n",
    "    @jax.jit\n",
    "    def all_los(single_index, delta=delta_los):\n",
    "        \"\"\"\n",
    "        helper function to map los_indices to slice through\n",
    "        the delta box (will integrate in codebase soon)\n",
    "        \"\"\"\n",
    "    \n",
    "        def index_me(ind, delta=delta): # vmap over Nz\n",
    "            return delta[tuple(ind)]    \n",
    "    \n",
    "        return jax.vmap(index_me, in_axes=(0,))(single_index)\n",
    "        \n",
    "    delta_los = jax.vmap(all_los)(los_indices).reshape(Nx,Ny,Nz)\n",
    "\n",
    "    # now do convergence nonsense\n",
    "\n",
    "    # the corresponding scale factor grid changes with cosmology\n",
    "    # simulation box physical terms (comoving grid)\n",
    "    chi_grid = (jnp.arange(Nmesh[2]) + 0.5) * Lbox[2] / Nmesh[2]\n",
    "    a_grid = background.compute_scale_factor_at_comoving_distance(chi_grid, cosmo)\n",
    "    z_grid = a_to_z(a_grid)\n",
    "    \n",
    "    lensing_factor = 1.5 * cosmo.Omega_m * (cosmo.h * 100.)**2 / constants.c**2\n",
    "    chi_source = chi_grid[-1]\n",
    "    kernel = utils.calculate_lensing_efficiency(chi_grid, chi_source) / a_grid\n",
    "    \n",
    "    # kernel becomes r / costheta; integrate only up to spherical cap rmax\n",
    "    delta_los *= simulator_args[\"spherical_cap\"]\n",
    "    delta_los *= simulator_args[\"costheta_1\"]\n",
    "\n",
    "    # Convergence field in tomographic bins\n",
    "\n",
    "    # redshift bin weights vmap\n",
    "    dr = box.Lbox[-1] / box.Nmesh[-1]\n",
    "\n",
    "    #@partial(jax.jit, static_argnames=[\"delta_los\"])\n",
    "    @jax.jit\n",
    "    def get_tomobin(zmean, zstd, delta_los=delta_los):\n",
    "        \n",
    "        ws = get_weights_in_chi(z_grid, \n",
    "                                a_grid,\n",
    "                                chi_grid,\n",
    "                                zmean, \n",
    "                                std=zstd\n",
    "                               ) \n",
    "        \n",
    "        def fn(k_ij): #=ws):\n",
    "            \"\"\"\n",
    "            k_ij: 3D field slice k[i,j,:]\n",
    "            weights: (Nz,) weight array\n",
    "            \"\"\"\n",
    "            return jnp.sum(k_ij * ws * kernel * Jacobian(z_grid, cosmo) * dr) \n",
    "        \n",
    "        kappa_tomo = jax.vmap(jax.vmap(fn, in_axes=(0,)), in_axes=(1,))(delta_los)\n",
    "        kappa_tomo -= jnp.mean(kappa_tomo)\n",
    "\n",
    "        return kappa_tomo * lensing_factor\n",
    "\n",
    "    \n",
    "\n",
    "    return jnp.squeeze(jax.vmap(get_tomobin)(zmeans, zstds))"
   ]
  },
  {
   "cell_type": "code",
   "execution_count": 28,
   "id": "813961dd-715c-4c7c-a8ba-70261790d1fa",
   "metadata": {},
   "outputs": [
    {
     "data": {
      "text/plain": [
       "Array(0.8, dtype=float64, weak_type=True)"
      ]
     },
     "execution_count": 28,
     "metadata": {},
     "output_type": "execute_result"
    }
   ],
   "source": [
    "# get good coordinates for S8\n",
    "get_sigma8(0.3, 0.8)"
   ]
  },
  {
   "cell_type": "code",
   "execution_count": 29,
   "id": "4d9612ae-00ee-4821-aee6-57a813d9a724",
   "metadata": {},
   "outputs": [],
   "source": [
    "θ_fid = jnp.array([0.3, 0.8])\n",
    "\n",
    "θ_target = jnp.array([0.3, 0.811])"
   ]
  },
  {
   "cell_type": "code",
   "execution_count": 30,
   "id": "367872a9-a69d-417c-9028-a975f903fb8c",
   "metadata": {},
   "outputs": [
    {
     "name": "stderr",
     "output_type": "stream",
     "text": [
      "2024-06-06 14:55:45.095793: E external/xla/xla/service/slow_operation_alarm.cc:65] Constant folding an instruction is taking > 1s:\n",
      "\n",
      "  %slice.15446 = s64[36864,512,1]{2,1,0} slice(s64[36864,512,3]{2,1,0} %constant.69), slice={[0:36864], [0:512], [0:1]}, metadata={op_name=\"jit(simulator)/jit(main)/vmap(jit(all_los))/slice[start_indices=(0, 0, 0) limit_indices=(36864, 512, 1) strides=(1, 1, 1)]\" source_file=\"/tmp/ipykernel_628447/3202255381.py\" source_line=46}\n",
      "\n",
      "This isn't necessarily a bug; constant-folding is inherently a trade-off between compilation time and speed at runtime. XLA has some guards that attempt to keep constant folding from taking too long, but fundamentally you'll always be able to come up with an input program that takes a long time.\n",
      "\n",
      "If you'd like to file a bug, run with envvar XLA_FLAGS=--xla_dump_to=/tmp/foo and attach the results.\n",
      "2024-06-06 14:56:33.038492: E external/xla/xla/service/slow_operation_alarm.cc:133] The operation took 48.942911629s\n",
      "Constant folding an instruction is taking > 1s:\n",
      "\n",
      "  %slice.15446 = s64[36864,512,1]{2,1,0} slice(s64[36864,512,3]{2,1,0} %constant.69), slice={[0:36864], [0:512], [0:1]}, metadata={op_name=\"jit(simulator)/jit(main)/vmap(jit(all_los))/slice[start_indices=(0, 0, 0) limit_indices=(36864, 512, 1) strides=(1, 1, 1)]\" source_file=\"/tmp/ipykernel_628447/3202255381.py\" source_line=46}\n",
      "\n",
      "This isn't necessarily a bug; constant-folding is inherently a trade-off between compilation time and speed at runtime. XLA has some guards that attempt to keep constant folding from taking too long, but fundamentally you'll always be able to come up with an input program that takes a long time.\n",
      "\n",
      "If you'd like to file a bug, run with envvar XLA_FLAGS=--xla_dump_to=/tmp/foo and attach the results.\n",
      "2024-06-06 14:56:35.868027: E external/xla/xla/service/slow_operation_alarm.cc:65] Constant folding an instruction is taking > 2s:\n",
      "\n",
      "  %slice.15447 = s64[36864,512,1]{2,1,0} slice(s64[36864,512,3]{2,1,0} %constant.69), slice={[0:36864], [0:512], [1:2]}, metadata={op_name=\"jit(simulator)/jit(main)/vmap(jit(all_los))/slice[start_indices=(0, 0, 1) limit_indices=(36864, 512, 2) strides=(1, 1, 1)]\" source_file=\"/tmp/ipykernel_628447/3202255381.py\" source_line=46}\n",
      "\n",
      "This isn't necessarily a bug; constant-folding is inherently a trade-off between compilation time and speed at runtime. XLA has some guards that attempt to keep constant folding from taking too long, but fundamentally you'll always be able to come up with an input program that takes a long time.\n",
      "\n",
      "If you'd like to file a bug, run with envvar XLA_FLAGS=--xla_dump_to=/tmp/foo and attach the results.\n",
      "2024-06-06 14:57:26.673673: E external/xla/xla/service/slow_operation_alarm.cc:133] The operation took 52.805689775s\n",
      "Constant folding an instruction is taking > 2s:\n",
      "\n",
      "  %slice.15447 = s64[36864,512,1]{2,1,0} slice(s64[36864,512,3]{2,1,0} %constant.69), slice={[0:36864], [0:512], [1:2]}, metadata={op_name=\"jit(simulator)/jit(main)/vmap(jit(all_los))/slice[start_indices=(0, 0, 1) limit_indices=(36864, 512, 2) strides=(1, 1, 1)]\" source_file=\"/tmp/ipykernel_628447/3202255381.py\" source_line=46}\n",
      "\n",
      "This isn't necessarily a bug; constant-folding is inherently a trade-off between compilation time and speed at runtime. XLA has some guards that attempt to keep constant folding from taking too long, but fundamentally you'll always be able to come up with an input program that takes a long time.\n",
      "\n",
      "If you'd like to file a bug, run with envvar XLA_FLAGS=--xla_dump_to=/tmp/foo and attach the results.\n",
      "2024-06-06 14:57:31.497977: E external/xla/xla/service/slow_operation_alarm.cc:65] Constant folding an instruction is taking > 4s:\n",
      "\n",
      "  %slice.15448 = s64[36864,512,1]{2,1,0} slice(s64[36864,512,3]{2,1,0} %constant.69), slice={[0:36864], [0:512], [2:3]}, metadata={op_name=\"jit(simulator)/jit(main)/vmap(jit(all_los))/slice[start_indices=(0, 0, 2) limit_indices=(36864, 512, 3) strides=(1, 1, 1)]\" source_file=\"/tmp/ipykernel_628447/3202255381.py\" source_line=46}\n",
      "\n",
      "This isn't necessarily a bug; constant-folding is inherently a trade-off between compilation time and speed at runtime. XLA has some guards that attempt to keep constant folding from taking too long, but fundamentally you'll always be able to come up with an input program that takes a long time.\n",
      "\n",
      "If you'd like to file a bug, run with envvar XLA_FLAGS=--xla_dump_to=/tmp/foo and attach the results.\n",
      "2024-06-06 14:58:20.398499: E external/xla/xla/service/slow_operation_alarm.cc:133] The operation took 52.900099992s\n",
      "Constant folding an instruction is taking > 4s:\n",
      "\n",
      "  %slice.15448 = s64[36864,512,1]{2,1,0} slice(s64[36864,512,3]{2,1,0} %constant.69), slice={[0:36864], [0:512], [2:3]}, metadata={op_name=\"jit(simulator)/jit(main)/vmap(jit(all_los))/slice[start_indices=(0, 0, 2) limit_indices=(36864, 512, 3) strides=(1, 1, 1)]\" source_file=\"/tmp/ipykernel_628447/3202255381.py\" source_line=46}\n",
      "\n",
      "This isn't necessarily a bug; constant-folding is inherently a trade-off between compilation time and speed at runtime. XLA has some guards that attempt to keep constant folding from taking too long, but fundamentally you'll always be able to come up with an input program that takes a long time.\n",
      "\n",
      "If you'd like to file a bug, run with envvar XLA_FLAGS=--xla_dump_to=/tmp/foo and attach the results.\n"
     ]
    },
    {
     "name": "stdout",
     "output_type": "stream",
     "text": [
      "CPU times: user 9min 17s, sys: 3min 4s, total: 12min 22s\n",
      "Wall time: 4min 49s\n",
      "CPU times: user 1.77 s, sys: 574 ms, total: 2.34 s\n",
      "Wall time: 2.34 s\n"
     ]
    }
   ],
   "source": [
    "%time jax.block_until_ready(simulator(20, θ_target))\n",
    "%time kappatest = jax.block_until_ready(simulator(20, θ_target))"
   ]
  },
  {
   "cell_type": "code",
   "execution_count": 31,
   "id": "ca4c9f6c-b134-4595-a96b-d5f38dbe0d3d",
   "metadata": {},
   "outputs": [
    {
     "name": "stdout",
     "output_type": "stream",
     "text": [
      "CPU times: user 1.81 s, sys: 528 ms, total: 2.34 s\n",
      "Wall time: 2.34 s\n"
     ]
    }
   ],
   "source": [
    "%time kappatest = jax.block_until_ready(simulator(20, θ_target))"
   ]
  },
  {
   "cell_type": "code",
   "execution_count": 32,
   "id": "d3c7a176-0fd2-4145-a2de-6fd6577c2383",
   "metadata": {},
   "outputs": [
    {
     "name": "stdout",
     "output_type": "stream",
     "text": [
      "Configuration(ptcl_spacing=(1.3020833333333333, 1.3020833333333333, 7.8125),\n",
      "              ptcl_grid_shape=(192, 192, 512),\n",
      "              mesh_shape=(192, 192, 512),\n",
      "              cosmo_dtype=dtype('float64'),\n",
      "              pmid_dtype=dtype('int16'),\n",
      "              float_dtype=dtype('float32'),\n",
      "              k_pivot_Mpc=0.05,\n",
      "              T_cmb=2.7255,\n",
      "              M=1.98847e+40,\n",
      "              L=3.0856775815e+22,\n",
      "              T=3.0856775815e+17,\n",
      "              transfer_fit=True,\n",
      "              transfer_fit_nowiggle=False,\n",
      "              transfer_lgk_min=-4,\n",
      "              transfer_lgk_max=3,\n",
      "              transfer_lgk_maxstep=0.0078125,\n",
      "              growth_rtol=1.4901161193847656e-08,\n",
      "              growth_atol=1.4901161193847656e-08,\n",
      "              growth_inistep=(1, None),\n",
      "              lpt_order=2,\n",
      "              a_start=0.015625,\n",
      "              a_stop=1,\n",
      "              a_lpt_maxstep=0.0078125,\n",
      "              a_nbody_maxstep=0.00984375,\n",
      "              symp_splits=((0, 0.5), (1, 0.5)),\n",
      "              chunk_size=16777216)\n",
      "Simulating 18874368 particles with a (192, 192, 512) mesh for 100 time steps.\n"
     ]
    }
   ],
   "source": [
    "print(conf)  # with other default parameters\n",
    "print(f'Simulating {conf.ptcl_num} particles with a {conf.mesh_shape} mesh for {conf.a_nbody_num} time steps.')"
   ]
  },
  {
   "cell_type": "code",
   "execution_count": 30,
   "id": "14d24b2d-1eab-43a7-ac48-d96aa7fb3c41",
   "metadata": {},
   "outputs": [
    {
     "data": {
      "text/plain": [
       "Array(0.094, dtype=float64)"
      ]
     },
     "execution_count": 30,
     "metadata": {},
     "output_type": "execute_result"
    }
   ],
   "source": [
    "kappa_extr = kappatest[1, ...].max()\n",
    "kappa_extr"
   ]
  },
  {
   "cell_type": "code",
   "execution_count": 31,
   "id": "920a549b-03e9-43e4-8535-32a415b260d8",
   "metadata": {},
   "outputs": [
    {
     "data": {
      "text/plain": [
       "Array(-0.023, dtype=float64)"
      ]
     },
     "execution_count": 31,
     "metadata": {},
     "output_type": "execute_result"
    }
   ],
   "source": [
    "kappatest.min()"
   ]
  },
  {
   "cell_type": "code",
   "execution_count": 32,
   "id": "620bdda4-0bfa-4722-a7e6-e5dbfbdb64ca",
   "metadata": {},
   "outputs": [
    {
     "name": "stderr",
     "output_type": "stream",
     "text": [
      "/tmp/ipykernel_44481/3301866353.py:32: MatplotlibDeprecationWarning: The toggle_label function was deprecated in Matplotlib 3.8 and will be removed two minor releases later. Use ax.tick_params and colorbar.set_label instead.\n",
      "  ax.cax.toggle_label(True)\n"
     ]
    },
    {
     "data": {
      "image/jpeg": "[encoded data removed]",
      "text/plain": [
       "<Figure size 975x300 with 8 Axes>"
      ]
     },
     "metadata": {},
     "output_type": "display_data"
    }
   ],
   "source": [
    "import numpy as np\n",
    "import matplotlib.pyplot as plt\n",
    "from mpl_toolkits.axes_grid1 import ImageGrid\n",
    "\n",
    "# Set up figure and image grid\n",
    "fig = plt.figure(figsize=(9.75, 3))\n",
    "\n",
    "grid = ImageGrid(fig, 111,          # as in plt.subplot(111)\n",
    "                 nrows_ncols=(1,4),\n",
    "                 axes_pad=0.15,\n",
    "                 share_all=True,\n",
    "                 cbar_location=\"right\",\n",
    "                 cbar_mode=\"single\",\n",
    "                 cbar_size=\"7%\",\n",
    "                 cbar_pad=0.15,\n",
    "                 )\n",
    "\n",
    "for i,z in enumerate(z_means_analysis):\n",
    "    ax = grid[i]\n",
    "    im = ax.imshow(kappatest[i], \n",
    "                   # vmin=-kappa_extr, \n",
    "                   # vmax=kappa_extr, \n",
    "                   interpolation='spline36',\n",
    "                   cmap='magma'\n",
    "                  )\n",
    "    ax.set_xticks([])\n",
    "    ax.set_yticks([])\n",
    "    ax.set_title(\"z=%.1f\"%(z))\n",
    "    \n",
    "# Colorbar\n",
    "ax.cax.colorbar(im)\n",
    "ax.cax.toggle_label(True)\n",
    "\n",
    "#plt.tight_layout()    # Works, but may still require rect paramater to keep colorbar labels visible\n",
    "plt.show()"
   ]
  },
  {
   "cell_type": "code",
   "execution_count": 36,
   "id": "d814fe02-29da-4039-8f1f-5ab39a4b106e",
   "metadata": {},
   "outputs": [
    {
     "data": {
      "text/plain": [
       "[<matplotlib.lines.Line2D at 0x7f2aa1b92c10>]"
      ]
     },
     "execution_count": 36,
     "metadata": {},
     "output_type": "execute_result"
    },
    {
     "data": {
      "image/jpeg": "[encoded data removed]",
      "text/plain": [
       "<Figure size 640x480 with 1 Axes>"
      ]
     },
     "metadata": {},
     "output_type": "display_data"
    }
   ],
   "source": [
    "ell,clsfoo = analysis.compute_auto_cross_angular_power_spectrum(kappatest[0], kappatest[0], chi_grid[-1], Lbox[0])\n",
    "plt.loglog(ell, clsfoo)"
   ]
  },
  {
   "cell_type": "code",
   "execution_count": 37,
   "id": "f8d97bd5-c5ff-4735-9b18-85caeb70961f",
   "metadata": {},
   "outputs": [],
   "source": [
    "outdir = \"/data101/makinen/lemur_sims/pm_sims/N192_hires/\"\n",
    "\n",
    "jnp.savez(outdir + \"test_L_%d_N_%d_Nz_512\"%(L, N),\n",
    "          kappa=kappatest,\n",
    "          theta=θ_target\n",
    "     )"
   ]
  },
  {
   "cell_type": "code",
   "execution_count": 38,
   "id": "ea8c2c05-353b-4c3b-b960-a632beb27b8a",
   "metadata": {},
   "outputs": [],
   "source": [
    "outdir = \"/data101/makinen/lemur_sims/pm_sims/N192_hires/\"\n",
    "\n",
    "jnp.savez(outdir + \"target_L_%d_N_%d_Nz_512\"%(L, N),\n",
    "          kappa=kappatest,\n",
    "          theta=θ_target\n",
    "     )"
   ]
  },
  {
   "cell_type": "markdown",
   "id": "b2091584-9529-4b3c-86e8-f33331321930",
   "metadata": {},
   "source": [
    "## set up moped for the problem"
   ]
  },
  {
   "cell_type": "code",
   "execution_count": 39,
   "id": "e6bd7ad4-a299-4cfa-9ce8-f0b0d2a0cc07",
   "metadata": {},
   "outputs": [
    {
     "name": "stdout",
     "output_type": "stream",
     "text": [
      "[[0.288 0.8  ]\n",
      " [0.3   0.79 ]\n",
      " [0.311 0.8  ]\n",
      " [0.3   0.81 ]]\n"
     ]
    }
   ],
   "source": [
    "### ------------- IMNN PARAMETERS -------------\n",
    "#θ_fid = jnp.array([0.3, 0.800]) # CHANGE TO OmegaM=0.6\n",
    "θ_fid = jnp.array([0.3, 0.8])\n",
    "δθ = 2*jnp.array([0.0115, 0.01])\n",
    "\n",
    "θ_der = (θ_fid + jnp.einsum(\"i,jk->ijk\", jnp.array([-1., 1.]), jnp.diag(δθ) / 2.)).reshape((-1, 2))\n",
    "\n",
    "\n",
    "n_summaries = 2\n",
    "\n",
    "n_s = 3000\n",
    "n_d = 750\n",
    "\n",
    "n_params = 2\n",
    "n_summaries = n_params\n",
    "print(θ_der)"
   ]
  },
  {
   "cell_type": "code",
   "execution_count": 40,
   "id": "5465a9f1-94d4-4a68-8e5b-1e6a47b29ba8",
   "metadata": {},
   "outputs": [
    {
     "data": {
      "text/plain": [
       "(4, 2)"
      ]
     },
     "execution_count": 40,
     "metadata": {},
     "output_type": "execute_result"
    }
   ],
   "source": [
    "θ_der.shape"
   ]
  },
  {
   "cell_type": "code",
   "execution_count": 41,
   "id": "58412c91-2826-4fce-8df8-16a16b097225",
   "metadata": {},
   "outputs": [],
   "source": [
    "import jax.random as jrnd\n",
    "\n",
    "key1 = jrnd.PRNGKey(44)\n",
    "key2 = jrnd.PRNGKey(45)\n",
    "\n",
    "fid_keys = jnp.arange(n_s)\n",
    "derv_keys = jnp.arange(n_d) + 3000\n",
    "\n",
    "\n",
    "\n",
    "#derv_keys = jnp.repeat(derv_keys, θ_der.shape[0], axis=0)"
   ]
  },
  {
   "cell_type": "code",
   "execution_count": 42,
   "id": "0c4e62e5-f718-4670-9be3-5ff51804d9a2",
   "metadata": {},
   "outputs": [
    {
     "data": {
      "text/plain": [
       "Array([3000, 3000, 3000, 3000, 3001, 3001, 3001, 3001, 3002, 3002], dtype=int64)"
      ]
     },
     "execution_count": 42,
     "metadata": {},
     "output_type": "execute_result"
    }
   ],
   "source": [
    "jnp.repeat(derv_keys, θ_der.shape[0], axis=0)[:10]"
   ]
  },
  {
   "cell_type": "code",
   "execution_count": 43,
   "id": "8149e57e-534d-4d31-ab52-4aa47d685513",
   "metadata": {},
   "outputs": [
    {
     "data": {
      "text/plain": [
       "Array([[0.288, 0.8  ],\n",
       "       [0.3  , 0.79 ],\n",
       "       [0.311, 0.8  ],\n",
       "       [0.3  , 0.81 ],\n",
       "       [0.288, 0.8  ],\n",
       "       [0.3  , 0.79 ],\n",
       "       [0.311, 0.8  ],\n",
       "       [0.3  , 0.81 ],\n",
       "       [0.288, 0.8  ],\n",
       "       [0.3  , 0.79 ]], dtype=float64)"
      ]
     },
     "execution_count": 43,
     "metadata": {},
     "output_type": "execute_result"
    }
   ],
   "source": [
    "jnp.tile(θ_der, (n_d, 1))[:10]"
   ]
  },
  {
   "cell_type": "code",
   "execution_count": 44,
   "id": "ca3c36f0-cc37-4053-b2e9-7aee56c72dca",
   "metadata": {},
   "outputs": [
    {
     "data": {
      "text/plain": [
       "3000"
      ]
     },
     "execution_count": 44,
     "metadata": {},
     "output_type": "execute_result"
    }
   ],
   "source": [
    "n_d * 4"
   ]
  },
  {
   "cell_type": "code",
   "execution_count": 46,
   "id": "334da702-1a4d-4a0f-b563-9528de6c19d9",
   "metadata": {},
   "outputs": [
    {
     "name": "stderr",
     "output_type": "stream",
     "text": [
      "100%|██████████| 3000/3000 [1:57:22<00:00,  2.35s/it]\n"
     ]
    }
   ],
   "source": [
    "# now make a bunch of simulations (batch in size 50)\n",
    "batch = 1\n",
    "input_shape = (4,N,N)\n",
    "outdir = \"/data101/makinen/lemur_sims/pm_sims/N192_hires/\"\n",
    "\n",
    "# first do derivative\n",
    "#derv = []\n",
    "all_derv_keys = jnp.repeat(derv_keys, θ_der.shape[0], axis=0)\n",
    "all_derv_theta = jnp.tile(θ_der, (n_d, 1))\n",
    "\n",
    "for i in tqdm(range(n_d*4)):\n",
    "\n",
    "    numderv = simulator(all_derv_keys[i], all_derv_theta[i])\n",
    "    jnp.save(outdir + \"derv/\" + \"sim_%d\"%(i), numderv)\n"
   ]
  },
  {
   "cell_type": "code",
   "execution_count": null,
   "id": "4fd0a8e3-857f-4597-a936-5e19394cb68d",
   "metadata": {},
   "outputs": [],
   "source": [
    "derv.shape"
   ]
  },
  {
   "cell_type": "code",
   "execution_count": null,
   "id": "38736e8e-cd96-4e68-b84f-a42b623a46d6",
   "metadata": {},
   "outputs": [],
   "source": [
    "plt.imshow(derv[0, 0, 0, 3, ...])\n",
    "plt.colorbar()"
   ]
  },
  {
   "cell_type": "code",
   "execution_count": 43,
   "id": "6d9618d9-a937-4829-a948-a777cb246962",
   "metadata": {},
   "outputs": [
    {
     "data": {
      "text/plain": [
       "(750, 2, 2, 4, 128, 128)"
      ]
     },
     "execution_count": 43,
     "metadata": {},
     "output_type": "execute_result"
    }
   ],
   "source": [
    "derv.shape"
   ]
  },
  {
   "cell_type": "code",
   "execution_count": 56,
   "id": "f29b54b8-c442-42fe-bdd3-6ad4390f4d55",
   "metadata": {},
   "outputs": [
    {
     "data": {
      "text/plain": [
       "2"
      ]
     },
     "execution_count": 56,
     "metadata": {},
     "output_type": "execute_result"
    }
   ],
   "source": [
    "lpt_order"
   ]
  },
  {
   "cell_type": "code",
   "execution_count": 44,
   "id": "b97a1925-6c78-4774-925f-0455c394b79a",
   "metadata": {},
   "outputs": [
    {
     "data": {
      "text/plain": [
       "500"
      ]
     },
     "execution_count": 44,
     "metadata": {},
     "output_type": "execute_result"
    }
   ],
   "source": [
    "L"
   ]
  },
  {
   "cell_type": "code",
   "execution_count": 27,
   "id": "fcbcaee2-d982-475c-9b73-8beaa2deae95",
   "metadata": {},
   "outputs": [
    {
     "data": {
      "text/plain": [
       "'/data101/makinen/lemur_sims/pm_sims/'"
      ]
     },
     "execution_count": 27,
     "metadata": {},
     "output_type": "execute_result"
    }
   ],
   "source": [
    "outdir"
   ]
  },
  {
   "cell_type": "code",
   "execution_count": 47,
   "id": "73a8c9d6-9bd8-4762-9c50-b8b003775327",
   "metadata": {},
   "outputs": [
    {
     "name": "stderr",
     "output_type": "stream",
     "text": [
      "100%|██████████| 3000/3000 [1:57:19<00:00,  2.35s/it]\n"
     ]
    }
   ],
   "source": [
    "# now make a bunch of simulations (batch in size 50)\n",
    "batch = 1\n",
    "input_shape = (4,N,N)\n",
    "outdir = \"/data101/makinen/lemur_sims/pm_sims/N192_hires/\"\n",
    "\n",
    "# now fiducial\n",
    "   \n",
    "for i in tqdm(range(n_s)):\n",
    "    \n",
    "    #sims = jax.vmap(simulator)(fid_keys[i*batch:(i+1)*batch], jnp.ones((batch, θ_fid.shape[0]))*θ_fid)\n",
    "    #sims = jax.vmap(mysim)(fid_keys[i*batch:(i+1)*batch])\n",
    "    #fid.append(sims)\n",
    "\n",
    "    #fid = fid.at[i*batch:(i+1)*batch].set(\n",
    "    #                simulator(fid_keys[i], θ_fid)\n",
    "    #)\n",
    "    sim = simulator(fid_keys[i], θ_fid)\n",
    "\n",
    "    jnp.save(outdir + \"fid/\" + \"sim_%d\"%(i), sim)"
   ]
  },
  {
   "cell_type": "code",
   "execution_count": 48,
   "id": "c0e4d0ff-764a-4867-908a-18c20a9bec13",
   "metadata": {},
   "outputs": [
    {
     "data": {
      "text/plain": [
       "474"
      ]
     },
     "execution_count": 48,
     "metadata": {},
     "output_type": "execute_result"
    }
   ],
   "source": [
    "import gc\n",
    "gc.collect()"
   ]
  },
  {
   "cell_type": "code",
   "execution_count": null,
   "id": "fc92a49a-95aa-4a08-9821-e26a697ea86d",
   "metadata": {},
   "outputs": [],
   "source": [
    "outdir = \"/data101/makinen/lemur_sims/pm_sims/\"\n",
    "jnp.save(outdir + \"fid_S8_L_%d_N_%d_Nz_512_pm_Om_%d_s8_%d\"%(L, N, θ_fid[0]*10, θ_fid[1]*10), fid)"
   ]
  },
  {
   "cell_type": "code",
   "execution_count": null,
   "id": "997a3553-9f15-4ae6-8e35-0f96883f2d81",
   "metadata": {},
   "outputs": [],
   "source": [
    "# now make a bunch of simulations (batch in size 50)\n",
    "batch = 2\n",
    "input_shape = (4,N,N)\n",
    "\n",
    "# now fiducial\n",
    "fid = jnp.zeros((n_s,) + (input_shape))\n",
    "\n",
    "# would this compile faster if I just broadcasted the vmap over copies of θ_fid \n",
    "mysim = lambda s: simulator(s, θ=θ_fid)\n",
    "                            \n",
    "for i in tqdm(range(n_s)):\n",
    "    \n",
    "    #sims = jax.vmap(simulator)(fid_keys[i*batch:(i+1)*batch], jnp.ones((batch, θ_fid.shape[0]))*θ_fid)\n",
    "    #sims = jax.vmap(mysim)(fid_keys[i*batch:(i+1)*batch])\n",
    "    #fid.append(sims)\n",
    "\n",
    "    fid = fid.at[i].set(\n",
    "                    simulator(fid_keys[i], θ_fid)\n",
    "    )\n",
    "\n",
    "    \n",
    "\n",
    "#fid = jnp.conca"
   ]
  },
  {
   "cell_type": "code",
   "execution_count": 52,
   "id": "238c4c33-48e2-475b-a398-b6a212253323",
   "metadata": {},
   "outputs": [
    {
     "data": {
      "text/plain": [
       "((3000, 4, 128, 128), 500)"
      ]
     },
     "execution_count": 52,
     "metadata": {},
     "output_type": "execute_result"
    }
   ],
   "source": [
    "fid.shape, L"
   ]
  },
  {
   "cell_type": "code",
   "execution_count": null,
   "id": "b7c345a3-7c0c-49e8-aaa9-6a7e768b475d",
   "metadata": {},
   "outputs": [],
   "source": [
    "outdir = \"/data101/makinen/lemur_sims/pm_sims/\"\n",
    "jnp.save(outdir + \"fid_S8_L_%d_N_%d_Nz_512_pm_Om_%d_s8_%d\"%(L, N, θ_fid[0]*10, θ_fid[1]*10), fid)"
   ]
  },
  {
   "cell_type": "code",
   "execution_count": 33,
   "id": "1ae9fbcf-0091-4861-9718-37aa9b7d7729",
   "metadata": {},
   "outputs": [],
   "source": [
    "derv = jnp.load(outdir + \"derv_new_L_%d_N_%d_Nz_512_LPT%d_Om_%d_s8_%d.npy\"%(L, N, lpt_order, θ_fid[0]*10, θ_fid[1]*10))"
   ]
  },
  {
   "cell_type": "code",
   "execution_count": 57,
   "id": "ba1a09db-40cb-4544-b6e9-833c4b67dc9f",
   "metadata": {},
   "outputs": [
    {
     "data": {
      "text/plain": [
       "((3000, 4, 128, 128), (750, 2, 2, 4, 128, 128))"
      ]
     },
     "execution_count": 57,
     "metadata": {},
     "output_type": "execute_result"
    }
   ],
   "source": [
    "fid.shape, derv.shape"
   ]
  },
  {
   "cell_type": "code",
   "execution_count": 30,
   "id": "d8ba014d-604d-4144-a684-37814e174f9a",
   "metadata": {},
   "outputs": [
    {
     "data": {
      "text/plain": [
       "0"
      ]
     },
     "execution_count": 30,
     "metadata": {},
     "output_type": "execute_result"
    }
   ],
   "source": [
    "lpt_order"
   ]
  },
  {
   "cell_type": "markdown",
   "id": "e4ef0235-a9b6-482f-ae44-302436c1f6da",
   "metadata": {},
   "source": [
    "# generate a shitton of simulations over a prior"
   ]
  },
  {
   "cell_type": "code",
   "execution_count": 33,
   "id": "dd3a956c-b8fc-4c04-a21f-3227bf4eaf0e",
   "metadata": {},
   "outputs": [
    {
     "name": "stderr",
     "output_type": "stream",
     "text": [
      "  0%|          | 0/5000 [00:00<?, ?it/s]2024-06-06 15:04:08.981160: E external/xla/xla/service/slow_operation_alarm.cc:65] Constant folding an instruction is taking > 8s:\n",
      "\n",
      "  %slice.15446 = s64[36864,512,1]{2,1,0} slice(s64[36864,512,3]{2,1,0} %constant.69), slice={[0:36864], [0:512], [0:1]}, metadata={op_name=\"jit(simulator)/jit(main)/vmap(jit(all_los))/slice[start_indices=(0, 0, 0) limit_indices=(36864, 512, 1) strides=(1, 1, 1)]\" source_file=\"/tmp/ipykernel_628447/3202255381.py\" source_line=46}\n",
      "\n",
      "This isn't necessarily a bug; constant-folding is inherently a trade-off between compilation time and speed at runtime. XLA has some guards that attempt to keep constant folding from taking too long, but fundamentally you'll always be able to come up with an input program that takes a long time.\n",
      "\n",
      "If you'd like to file a bug, run with envvar XLA_FLAGS=--xla_dump_to=/tmp/foo and attach the results.\n",
      "2024-06-06 15:04:51.657264: E external/xla/xla/service/slow_operation_alarm.cc:133] The operation took 50.676226918s\n",
      "Constant folding an instruction is taking > 8s:\n",
      "\n",
      "  %slice.15446 = s64[36864,512,1]{2,1,0} slice(s64[36864,512,3]{2,1,0} %constant.69), slice={[0:36864], [0:512], [0:1]}, metadata={op_name=\"jit(simulator)/jit(main)/vmap(jit(all_los))/slice[start_indices=(0, 0, 0) limit_indices=(36864, 512, 1) strides=(1, 1, 1)]\" source_file=\"/tmp/ipykernel_628447/3202255381.py\" source_line=46}\n",
      "\n",
      "This isn't necessarily a bug; constant-folding is inherently a trade-off between compilation time and speed at runtime. XLA has some guards that attempt to keep constant folding from taking too long, but fundamentally you'll always be able to come up with an input program that takes a long time.\n",
      "\n",
      "If you'd like to file a bug, run with envvar XLA_FLAGS=--xla_dump_to=/tmp/foo and attach the results.\n",
      "2024-06-06 15:05:10.991272: E external/xla/xla/service/slow_operation_alarm.cc:65] Constant folding an instruction is taking > 16s:\n",
      "\n",
      "  %slice.15447 = s64[36864,512,1]{2,1,0} slice(s64[36864,512,3]{2,1,0} %constant.69), slice={[0:36864], [0:512], [1:2]}, metadata={op_name=\"jit(simulator)/jit(main)/vmap(jit(all_los))/slice[start_indices=(0, 0, 1) limit_indices=(36864, 512, 2) strides=(1, 1, 1)]\" source_file=\"/tmp/ipykernel_628447/3202255381.py\" source_line=46}\n",
      "\n",
      "This isn't necessarily a bug; constant-folding is inherently a trade-off between compilation time and speed at runtime. XLA has some guards that attempt to keep constant folding from taking too long, but fundamentally you'll always be able to come up with an input program that takes a long time.\n",
      "\n",
      "If you'd like to file a bug, run with envvar XLA_FLAGS=--xla_dump_to=/tmp/foo and attach the results.\n",
      "2024-06-06 15:05:47.153837: E external/xla/xla/service/slow_operation_alarm.cc:133] The operation took 52.162650686s\n",
      "Constant folding an instruction is taking > 16s:\n",
      "\n",
      "  %slice.15447 = s64[36864,512,1]{2,1,0} slice(s64[36864,512,3]{2,1,0} %constant.69), slice={[0:36864], [0:512], [1:2]}, metadata={op_name=\"jit(simulator)/jit(main)/vmap(jit(all_los))/slice[start_indices=(0, 0, 1) limit_indices=(36864, 512, 2) strides=(1, 1, 1)]\" source_file=\"/tmp/ipykernel_628447/3202255381.py\" source_line=46}\n",
      "\n",
      "This isn't necessarily a bug; constant-folding is inherently a trade-off between compilation time and speed at runtime. XLA has some guards that attempt to keep constant folding from taking too long, but fundamentally you'll always be able to come up with an input program that takes a long time.\n",
      "\n",
      "If you'd like to file a bug, run with envvar XLA_FLAGS=--xla_dump_to=/tmp/foo and attach the results.\n",
      "2024-06-06 15:06:22.544169: E external/xla/xla/service/slow_operation_alarm.cc:65] Constant folding an instruction is taking > 32s:\n",
      "\n",
      "  %slice.15448 = s64[36864,512,1]{2,1,0} slice(s64[36864,512,3]{2,1,0} %constant.69), slice={[0:36864], [0:512], [2:3]}, metadata={op_name=\"jit(simulator)/jit(main)/vmap(jit(all_los))/slice[start_indices=(0, 0, 2) limit_indices=(36864, 512, 3) strides=(1, 1, 1)]\" source_file=\"/tmp/ipykernel_628447/3202255381.py\" source_line=46}\n",
      "\n",
      "This isn't necessarily a bug; constant-folding is inherently a trade-off between compilation time and speed at runtime. XLA has some guards that attempt to keep constant folding from taking too long, but fundamentally you'll always be able to come up with an input program that takes a long time.\n",
      "\n",
      "If you'd like to file a bug, run with envvar XLA_FLAGS=--xla_dump_to=/tmp/foo and attach the results.\n",
      "2024-06-06 15:06:38.135252: E external/xla/xla/service/slow_operation_alarm.cc:133] The operation took 47.591191202s\n",
      "Constant folding an instruction is taking > 32s:\n",
      "\n",
      "  %slice.15448 = s64[36864,512,1]{2,1,0} slice(s64[36864,512,3]{2,1,0} %constant.69), slice={[0:36864], [0:512], [2:3]}, metadata={op_name=\"jit(simulator)/jit(main)/vmap(jit(all_los))/slice[start_indices=(0, 0, 2) limit_indices=(36864, 512, 3) strides=(1, 1, 1)]\" source_file=\"/tmp/ipykernel_628447/3202255381.py\" source_line=46}\n",
      "\n",
      "This isn't necessarily a bug; constant-folding is inherently a trade-off between compilation time and speed at runtime. XLA has some guards that attempt to keep constant folding from taking too long, but fundamentally you'll always be able to come up with an input program that takes a long time.\n",
      "\n",
      "If you'd like to file a bug, run with envvar XLA_FLAGS=--xla_dump_to=/tmp/foo and attach the results.\n",
      "100%|██████████| 5000/5000 [3:19:59<00:00,  2.40s/it]  \n"
     ]
    }
   ],
   "source": [
    "import jax.random as jrnd\n",
    "\n",
    "def get_S8(omegam, sigma8):\n",
    "    return sigma8 * (jnp.sqrt(omegam / 0.3))\n",
    "\n",
    "key1 = jrnd.PRNGKey(44)\n",
    "key2 = jrnd.PRNGKey(45)\n",
    "\n",
    "\n",
    "num_sims = 5000\n",
    "key,rng = jrnd.split(key1)\n",
    "\n",
    "# DIFFERENT RANDOM SEEDS !\n",
    "# omegams = jrnd.uniform(key1, shape=(num_sims,), minval=0.15, maxval=0.7)\n",
    "# S8s = jrnd.uniform(key2, shape=(num_sims,), minval=0.35, maxval=1.52)\n",
    "\n",
    "# smaller prior !\n",
    "omegams = jrnd.uniform(key1, shape=(num_sims,), minval=0.15, maxval=0.5)\n",
    "S8s = jrnd.uniform(key2, shape=(num_sims,), minval=0.35, maxval=1.0)\n",
    "\n",
    "θ_prior = jnp.stack([omegams, S8s], -1)\n",
    "\n",
    "prior_keys = jnp.arange(num_sims) + 345666\n",
    "\n",
    "outdir = \"/data101/makinen/lemur_sims/pm_sims/N192_hires/\"\n",
    "# save the prior parameter draws\n",
    "jnp.save(outdir + \"smaller_prior_theta\", θ_prior)\n",
    "\n",
    "# now make a bunch of simulations\n",
    "\n",
    "for i in tqdm(range(num_sims)):\n",
    "\n",
    "    sim = simulator(prior_keys[i], θ_prior[i])\n",
    "    jnp.save(outdir + \"smaller_prior/\" + \"sim_%d\"%(i), sim)\n"
   ]
  },
  {
   "cell_type": "code",
   "execution_count": 45,
   "id": "3bb59c5e-ffc9-458d-95c5-a5dc323bb566",
   "metadata": {},
   "outputs": [
    {
     "data": {
      "text/plain": [
       "250"
      ]
     },
     "execution_count": 45,
     "metadata": {},
     "output_type": "execute_result"
    }
   ],
   "source": [
    "L"
   ]
  },
  {
   "cell_type": "code",
   "execution_count": 49,
   "id": "e726cdbf-175b-4bdf-8b41-3f534f7c38cb",
   "metadata": {},
   "outputs": [],
   "source": [
    "outdir = \"/data101/makinen/lemur_sims/pm_sims/\"\n",
    "\n",
    "jnp.savez(outdir + \"prior_S8_L_%d_N_%d_Nz_512\"%(L, N),\n",
    "          prior_sims=prior_sims,\n",
    "          prior_theta=θ_prior\n",
    "         )"
   ]
  },
  {
   "cell_type": "code",
   "execution_count": 50,
   "id": "e324223d-f6ac-430a-a36b-66c94b655a12",
   "metadata": {},
   "outputs": [
    {
     "data": {
      "text/plain": [
       "(5000, 4, 64, 64)"
      ]
     },
     "execution_count": 50,
     "metadata": {},
     "output_type": "execute_result"
    }
   ],
   "source": [
    "prior_sims.shape"
   ]
  },
  {
   "cell_type": "code",
   "execution_count": 16,
   "id": "93d5b4db-a2ec-430b-b5e2-c6e83ac7d95e",
   "metadata": {},
   "outputs": [],
   "source": [
    "outdir = \"/data101/makinen/lemur_sims/first_analysis/\"\n",
    "jnp.save(outdir + \"prior_tomo_L_%d_N_%d_Nz_512_LPT%d\"%(L, N, lpt_order), prior_sims)"
   ]
  },
  {
   "cell_type": "code",
   "execution_count": 64,
   "id": "5d0e80ec-8a88-454d-99aa-4307023e7ff7",
   "metadata": {},
   "outputs": [
    {
     "name": "stdout",
     "output_type": "stream",
     "text": [
      "CPU times: user 138 ms, sys: 65.1 ms, total: 203 ms\n",
      "Wall time: 667 ms\n"
     ]
    }
   ],
   "source": [
    "%time kappatest = jax.block_until_ready(simulator(20, jnp.array([0.3, 0.8])))"
   ]
  },
  {
   "cell_type": "code",
   "execution_count": 51,
   "id": "6e6cfc1b-da18-4ed7-ab33-bd947c35b46a",
   "metadata": {},
   "outputs": [
    {
     "name": "stderr",
     "output_type": "stream",
     "text": [
      "/tmp/ipykernel_44481/3301866353.py:32: MatplotlibDeprecationWarning: The toggle_label function was deprecated in Matplotlib 3.8 and will be removed two minor releases later. Use ax.tick_params and colorbar.set_label instead.\n",
      "  ax.cax.toggle_label(True)\n"
     ]
    },
    {
     "data": {
      "image/jpeg": "[encoded data removed]",
      "text/plain": [
       "<Figure size 975x300 with 8 Axes>"
      ]
     },
     "metadata": {},
     "output_type": "display_data"
    }
   ],
   "source": [
    "import numpy as np\n",
    "import matplotlib.pyplot as plt\n",
    "from mpl_toolkits.axes_grid1 import ImageGrid\n",
    "\n",
    "# Set up figure and image grid\n",
    "fig = plt.figure(figsize=(9.75, 3))\n",
    "\n",
    "grid = ImageGrid(fig, 111,          # as in plt.subplot(111)\n",
    "                 nrows_ncols=(1,4),\n",
    "                 axes_pad=0.15,\n",
    "                 share_all=True,\n",
    "                 cbar_location=\"right\",\n",
    "                 cbar_mode=\"single\",\n",
    "                 cbar_size=\"7%\",\n",
    "                 cbar_pad=0.15,\n",
    "                 )\n",
    "\n",
    "for i,z in enumerate(z_means_analysis):\n",
    "    ax = grid[i]\n",
    "    im = ax.imshow(kappatest[i], \n",
    "                   # vmin=-kappa_extr, \n",
    "                   # vmax=kappa_extr, \n",
    "                   interpolation='spline36',\n",
    "                   cmap='magma'\n",
    "                  )\n",
    "    ax.set_xticks([])\n",
    "    ax.set_yticks([])\n",
    "    ax.set_title(\"z=%.1f\"%(z))\n",
    "    \n",
    "# Colorbar\n",
    "ax.cax.colorbar(im)\n",
    "ax.cax.toggle_label(True)\n",
    "\n",
    "#plt.tight_layout()    # Works, but may still require rect paramater to keep colorbar labels visible\n",
    "plt.show()"
   ]
  },
  {
   "cell_type": "code",
   "execution_count": null,
   "id": "e1b35d54-7839-4629-aea3-c17f369065c6",
   "metadata": {},
   "outputs": [],
   "source": []
  }
 ],
 "metadata": {
  "kernelspec": {
   "display_name": "Python 3 (ipykernel)",
   "language": "python",
   "name": "python3"
  },
  "language_info": {
   "codemirror_mode": {
    "name": "ipython",
    "version": 3
   },
   "file_extension": ".py",
   "mimetype": "text/x-python",
   "name": "python",
   "nbconvert_exporter": "python",
   "pygments_lexer": "ipython3",
   "version": "3.11.7"
  }
 },
 "nbformat": 4,
 "nbformat_minor": 5
}
