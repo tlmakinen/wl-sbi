{
 "cells": [
  {
   "cell_type": "code",
   "execution_count": 1,
   "id": "8c536dfc-5bd6-4fdd-b5d3-44adc68c9bef",
   "metadata": {},
   "outputs": [
    {
     "name": "stdout",
     "output_type": "stream",
     "text": [
      "Tesla V100-PCIE-32GB\n"
     ]
    }
   ],
   "source": [
    "import os\n",
    "\n",
    "# change JAX GPU memory preallocation fraction\n",
    "os.environ['XLA_PYTHON_CLIENT_MEM_FRACTION'] = '.95'\n",
    "\n",
    "from jax import config\n",
    "config.update(\"jax_enable_x64\", True)\n",
    "\n",
    "%load_ext autoreload\n",
    "%autoreload 2\n",
    "\n",
    "import jax\n",
    "\n",
    "!nvidia-smi --query-gpu=gpu_name --format=csv,noheader"
   ]
  },
  {
   "cell_type": "code",
   "execution_count": 2,
   "id": "37b654ba-c127-4f24-95b9-c82fca9a6011",
   "metadata": {},
   "outputs": [
    {
     "name": "stdout",
     "output_type": "stream",
     "text": [
      "The autoreload extension is already loaded. To reload it, use:\n",
      "  %reload_ext autoreload\n"
     ]
    }
   ],
   "source": [
    "%load_ext autoreload\n",
    "%autoreload 2"
   ]
  },
  {
   "cell_type": "code",
   "execution_count": 3,
   "id": "71cb3e7f-4709-44cc-ba23-8708ee275397",
   "metadata": {},
   "outputs": [],
   "source": [
    "from pmwd import (\n",
    "    Configuration,\n",
    "    Cosmology, SimpleLCDM,\n",
    "    boltzmann, linear_power, growth,\n",
    "    white_noise, linear_modes,\n",
    "    lpt,\n",
    "    nbody,\n",
    "    scatter,\n",
    ")\n",
    "from pmwd.pm_util import fftinv\n",
    "from pmwd.spec_util import powspec\n",
    "from pmwd.vis_util import simshow"
   ]
  },
  {
   "cell_type": "code",
   "execution_count": 4,
   "id": "117d17d8-ad21-488e-bab2-2e6f26aee244",
   "metadata": {},
   "outputs": [],
   "source": [
    "#from jax import config\n",
    "#config.update(\"jax_enable_x64\", True)\n",
    "\n",
    "import jax\n",
    "import jax.numpy as jnp\n",
    "\n",
    "import numpy as np\n",
    "from tqdm import tqdm\n",
    "from jax import lax\n",
    "from jax.typing import ArrayLike\n",
    "from functools import partial\n",
    "\n",
    "from tqdm import tqdm\n",
    "import matplotlib.pyplot as plt\n",
    "\n",
    "import alpaga\n",
    "\n",
    "from lemur import analysis, background, cosmology, limber, simulate, plot, utils, constants"
   ]
  },
  {
   "cell_type": "code",
   "execution_count": 5,
   "id": "d4ee39fd-89ba-4f42-add2-d4e1cd911689",
   "metadata": {},
   "outputs": [
    {
     "name": "stdout",
     "output_type": "stream",
     "text": [
      "gpu\n"
     ]
    }
   ],
   "source": [
    "from jax.lib import xla_bridge\n",
    "print(xla_bridge.get_backend().platform)"
   ]
  },
  {
   "cell_type": "code",
   "execution_count": 6,
   "id": "deb35b7b-9455-44a9-82b6-c43065c99497",
   "metadata": {},
   "outputs": [
    {
     "data": {
      "text/plain": [
       "2.34375"
      ]
     },
     "execution_count": 6,
     "metadata": {},
     "output_type": "execute_result"
    }
   ],
   "source": [
    "300 / 128"
   ]
  },
  {
   "cell_type": "code",
   "execution_count": 7,
   "id": "ab520ddf-9956-4ea5-a242-f43b32b9b24b",
   "metadata": {},
   "outputs": [
    {
     "data": {
      "text/plain": [
       "0.46875"
      ]
     },
     "execution_count": 7,
     "metadata": {},
     "output_type": "execute_result"
    }
   ],
   "source": [
    "res_multiscale = 240 / 512\n",
    "res_multiscale"
   ]
  },
  {
   "cell_type": "code",
   "execution_count": 8,
   "id": "22547783-8299-4745-ba6a-47a10b745123",
   "metadata": {},
   "outputs": [],
   "source": [
    "# Set up a simulation box -- now in BORG settings\n",
    "L = 250 #500 #500 #4000 #  # resolution\n",
    "N = 256 #128 # 128\n",
    "\n",
    "Lz = 4000\n",
    "Nz = 512\n",
    "\n",
    "\n",
    "#Lbox = (L, L, 5500)\n",
    "# need to set end of box to keep particle aspect the same\n",
    "Lbox = (L, L, Lz) #4000)\n",
    "Nmesh = (N, N, Nz)\n",
    "\n",
    "coord_obs = (L // 2, L // 2, 0)\n",
    "coord_obsN = (N // 2, N // 2, 0)\n",
    "\n",
    "# specifying los_coords will ask the Box to calculate the coordinates, which takes a while.\n",
    "# if you already have the coordinates, save them and set `los_coords=None`\n",
    "#box = alpaga.simgrid.Box(Lbox, Nmesh, coord_obs)#, los_coords=coord_obsN)\n",
    "\n",
    "#los_indices = jnp.load(\"los_indices.npy\")\n",
    "#los_indices = box.los_indices\n",
    "\n",
    "\n",
    "# Set the simulation parameters\n",
    "a_init = 0.01\n",
    "a_final = 1.0\n",
    "lpt_order = 2\n",
    "lightcone = True\n",
    "\n",
    "# simulation box physical terms (comoving grid)\n",
    "#Nx,Ny,Nz = box.Nmesh\n",
    "chi_grid = (jnp.arange(Nmesh[2]) + 0.5) * Lbox[2] / Nmesh[2]\n",
    "\n",
    "# tomographic bin means\n",
    "z_means_analysis = jnp.array([0.5, 0.75, 1.0, 1.25]) #jnp.array([0.5, 1.0, 1.5, 2.0])\n",
    "zstd = 0.14"
   ]
  },
  {
   "cell_type": "code",
   "execution_count": 9,
   "id": "a931ccfc-915a-45f9-8a6e-e57fd5257235",
   "metadata": {},
   "outputs": [],
   "source": [
    "from lemur.utils import *\n",
    "\n",
    "# make global\n",
    "spherical_cap, costheta_1 = get_pixel_geometry(Nmesh, coord_obsN)"
   ]
  },
  {
   "cell_type": "code",
   "execution_count": 10,
   "id": "c57f605d-7c15-4882-aed2-d6dc40fbca69",
   "metadata": {},
   "outputs": [],
   "source": [
    "los_indices = jnp.load(\"/data101/makinen/lemur_sims/los_indices_N_%d_Nz_512.npy\"%(N))\n",
    "#np.save(\"/data101/makinen/lemur_sims/los_indices_N_%d_Nz_512\"%(N), los_indices)"
   ]
  },
  {
   "cell_type": "code",
   "execution_count": 11,
   "id": "35a938c8-b52c-4c70-907c-7cde639bf834",
   "metadata": {},
   "outputs": [
    {
     "data": {
      "text/plain": [
       "1.953125"
      ]
     },
     "execution_count": 11,
     "metadata": {},
     "output_type": "execute_result"
    }
   ],
   "source": [
    "1000 / 512"
   ]
  },
  {
   "cell_type": "code",
   "execution_count": 12,
   "id": "42860942-e22a-49e4-86b9-a28ed5d55709",
   "metadata": {},
   "outputs": [
    {
     "data": {
      "text/plain": [
       "(1.953125, 1.953125)"
      ]
     },
     "execution_count": 12,
     "metadata": {},
     "output_type": "execute_result"
    }
   ],
   "source": [
    "1000 / 512, 250 / 128"
   ]
  },
  {
   "cell_type": "code",
   "execution_count": null,
   "id": "8ebe35dc-99c1-4468-849c-52231ad2a75c",
   "metadata": {},
   "outputs": [],
   "source": [
    "# a_start = 1. / (1. + 20.) # 0.015625\n",
    "# N_timesteps = N_timesteps\n",
    "\n",
    "# conf = Configuration(ptcl_spacing, ptcl_grid_shape, mesh_shape=mesh_shape,\n",
    "#                     a_nbody_maxstep=(1.0-a_start)/ N_timesteps\n",
    "#                     ) # 2x mesh shape"
   ]
  },
  {
   "cell_type": "code",
   "execution_count": 11,
   "id": "a039242f-9ff7-427f-9c08-043f8a4040ac",
   "metadata": {},
   "outputs": [],
   "source": [
    "# PMWD CONFIGURATION\n",
    "\n",
    "if jax.default_backend() == 'gpu':\n",
    "    ptcl_spacing = (L / N, L / N, Lz / Nz) #4000 / 512)  # Lagrangian space Cartesian particle grid spacing, in Mpc/h by default\n",
    "    ptcl_grid_shape = (N,N,Nz) #(256,) * 3\n",
    "else:\n",
    "    ptcl_spacing = 4.\n",
    "    ptcl_grid_shape = (64,) * 3\n",
    "\n",
    "conf = Configuration(ptcl_spacing, ptcl_grid_shape, mesh_shape=1) # 2x mesh shape"
   ]
  },
  {
   "cell_type": "code",
   "execution_count": 12,
   "id": "5b80277d-b78e-488e-8309-9d8f004df6e1",
   "metadata": {},
   "outputs": [
    {
     "name": "stdout",
     "output_type": "stream",
     "text": [
      "Configuration(ptcl_spacing=(0.9765625, 0.9765625, 7.8125),\n",
      "              ptcl_grid_shape=(256, 256, 512),\n",
      "              mesh_shape=(256, 256, 512),\n",
      "              cosmo_dtype=dtype('float64'),\n",
      "              pmid_dtype=dtype('int16'),\n",
      "              float_dtype=dtype('float32'),\n",
      "              k_pivot_Mpc=0.05,\n",
      "              T_cmb=2.7255,\n",
      "              M=1.98847e+40,\n",
      "              L=3.0856775815e+22,\n",
      "              T=3.0856775815e+17,\n",
      "              transfer_fit=True,\n",
      "              transfer_fit_nowiggle=False,\n",
      "              transfer_lgk_min=-4,\n",
      "              transfer_lgk_max=3,\n",
      "              transfer_lgk_maxstep=0.0078125,\n",
      "              growth_rtol=1.4901161193847656e-08,\n",
      "              growth_atol=1.4901161193847656e-08,\n",
      "              growth_inistep=(1, None),\n",
      "              lpt_order=2,\n",
      "              a_start=0.015625,\n",
      "              a_stop=1,\n",
      "              a_lpt_maxstep=0.0078125,\n",
      "              a_nbody_maxstep=0.015625,\n",
      "              symp_splits=((0, 0.5), (1, 0.5)),\n",
      "              chunk_size=16777216)\n",
      "Simulating 33554432 particles with a (256, 256, 512) mesh for 63 time steps.\n"
     ]
    }
   ],
   "source": [
    "print(conf)  # with other default parameters\n",
    "print(f'Simulating {conf.ptcl_num} particles with a {conf.mesh_shape} mesh for {conf.a_nbody_num} time steps.')"
   ]
  },
  {
   "cell_type": "code",
   "execution_count": 13,
   "id": "e2f0be39-fbac-4f34-bc03-8e038fededf6",
   "metadata": {},
   "outputs": [
    {
     "data": {
      "text/plain": [
       "8388608"
      ]
     },
     "execution_count": 13,
     "metadata": {},
     "output_type": "execute_result"
    }
   ],
   "source": [
    "128*128*512"
   ]
  },
  {
   "cell_type": "code",
   "execution_count": 14,
   "id": "1ca210fd-7b56-44e4-9af2-804686b96ca1",
   "metadata": {},
   "outputs": [
    {
     "data": {
      "text/plain": [
       "Array([3.217, 3.217, 0.402], dtype=float64)"
      ]
     },
     "execution_count": 14,
     "metadata": {},
     "output_type": "execute_result"
    }
   ],
   "source": [
    "jnp.pi / jnp.array(conf.ptcl_spacing)"
   ]
  },
  {
   "cell_type": "code",
   "execution_count": 15,
   "id": "388c0267-2c87-40b4-821e-c6618cceddf5",
   "metadata": {},
   "outputs": [],
   "source": [
    "simulator_args = dict(\n",
    "                Lbox = Lbox,\n",
    "                Nmesh = Nmesh,\n",
    "                coord_obs = (L // 2, L // 2, 0),\n",
    "                los_indices=los_indices,\n",
    "                zmeans=z_means_analysis,\n",
    "                zstds=jnp.ones(z_means_analysis.shape[0])*zstd,\n",
    "                spherical_cap=spherical_cap,\n",
    "                costheta_1=costheta_1,\n",
    "                lpt_order=lpt_order,\n",
    "                conf=conf\n",
    ")"
   ]
  },
  {
   "cell_type": "code",
   "execution_count": 16,
   "id": "687ae0c2-2e31-4cb5-b044-ff3f5ef8ea01",
   "metadata": {},
   "outputs": [
    {
     "data": {
      "text/plain": [
       "(250, 250, 4000)"
      ]
     },
     "execution_count": 16,
     "metadata": {},
     "output_type": "execute_result"
    }
   ],
   "source": [
    "Lbox"
   ]
  },
  {
   "cell_type": "code",
   "execution_count": 17,
   "id": "3a2b5d06-cf63-4f73-9b7c-97613375d057",
   "metadata": {},
   "outputs": [],
   "source": [
    "#cosmo = SimpleLCDM(conf)\n",
    "#modes = white_noise(seed, conf)\n",
    "\n",
    "def density_model(seed, cosmo, conf):\n",
    "    modes = white_noise(seed, conf)\n",
    "    cosmo = boltzmann(cosmo, conf)\n",
    "    modes = linear_modes(modes, cosmo, conf)\n",
    "    ptcl, obsvbl = lpt(modes, cosmo, conf)\n",
    "    ptcl, obsvbl = nbody(ptcl, obsvbl, cosmo, conf)\n",
    "    dens = scatter(ptcl, conf)\n",
    "    return dens"
   ]
  },
  {
   "cell_type": "code",
   "execution_count": 20,
   "id": "bf23bde7-cd9b-4fbb-94a7-51a03542963c",
   "metadata": {},
   "outputs": [
    {
     "data": {
      "text/plain": [
       "(0.9765625, 0.9765625, 7.8125)"
      ]
     },
     "execution_count": 20,
     "metadata": {},
     "output_type": "execute_result"
    }
   ],
   "source": [
    "conf.ptcl_spacing"
   ]
  },
  {
   "cell_type": "code",
   "execution_count": 21,
   "id": "8bbe9546-d0a2-4a74-8d65-4ffb8dc29ed5",
   "metadata": {},
   "outputs": [
    {
     "data": {
      "text/plain": [
       "3"
      ]
     },
     "execution_count": 21,
     "metadata": {},
     "output_type": "execute_result"
    }
   ],
   "source": [
    "conf.dim"
   ]
  },
  {
   "cell_type": "code",
   "execution_count": 22,
   "id": "d8500878-4d61-403c-891d-898e6df0011a",
   "metadata": {},
   "outputs": [],
   "source": [
    "cosmo = Cosmology.from_sigma8(\n",
    "        conf, sigma8=0.811, Omega_m=0.3, Omega_b=0.05, h=0.7, n_s=0.96)\n",
    "\n",
    "dens = density_model(0, cosmo, conf)"
   ]
  },
  {
   "cell_type": "code",
   "execution_count": 23,
   "id": "6c1544ec-64c6-4614-8d5b-d508bb2bf41e",
   "metadata": {},
   "outputs": [
    {
     "data": {
      "text/plain": [
       "(256, 256, 512)"
      ]
     },
     "execution_count": 23,
     "metadata": {},
     "output_type": "execute_result"
    }
   ],
   "source": [
    "dens.shape"
   ]
  },
  {
   "cell_type": "code",
   "execution_count": 24,
   "id": "f852b313-25ae-4781-9c8a-baec3ba2b705",
   "metadata": {},
   "outputs": [
    {
     "data": {
      "text/plain": [
       "Array(5.719e-08, dtype=float32)"
      ]
     },
     "execution_count": 24,
     "metadata": {},
     "output_type": "execute_result"
    }
   ],
   "source": [
    "(dens - dens.mean()).mean()"
   ]
  },
  {
   "cell_type": "code",
   "execution_count": 25,
   "id": "4f241c98-87af-4487-9553-d956f625fdb0",
   "metadata": {},
   "outputs": [
    {
     "data": {
      "image/jpeg": "[encoded data removed]",
      "text/plain": [
       "<Figure size 604.8x470.4 with 2 Axes>"
      ]
     },
     "metadata": {},
     "output_type": "display_data"
    }
   ],
   "source": [
    "simshow(dens[:32, :, :].mean(axis=0), norm='CosmicWebNorm');"
   ]
  },
  {
   "cell_type": "code",
   "execution_count": 18,
   "id": "9c71a759-09bb-4878-8097-b7888c0a82a7",
   "metadata": {},
   "outputs": [],
   "source": [
    "def get_sigma8(omegam, S8):\n",
    "    return S8 / (jnp.sqrt(omegam / 0.3))"
   ]
  },
  {
   "cell_type": "code",
   "execution_count": 19,
   "id": "676debed-9eb7-439d-8f72-ca8701af0472",
   "metadata": {},
   "outputs": [
    {
     "data": {
      "text/plain": [
       "(pmwd.cosmology.Cosmology,\n",
       " <module 'lemur.cosmology' from '/home/makinen/repositories/lemur/src/lemur/cosmology.py'>)"
      ]
     },
     "execution_count": 19,
     "metadata": {},
     "output_type": "execute_result"
    }
   ],
   "source": [
    "Cosmology, cosmology"
   ]
  },
  {
   "cell_type": "code",
   "execution_count": 20,
   "id": "6945639c-5f64-47a2-9f95-68227d5ee4a7",
   "metadata": {},
   "outputs": [],
   "source": [
    "@partial(jax.jit, static_argnums=(2,))\n",
    "def simulator(seed, θ,\n",
    "             simulator_args=simulator_args\n",
    "             ):\n",
    "    \n",
    "    #omegam,sigma8 = θ\n",
    "    omegam, S8 = θ\n",
    "    \n",
    "    sigma8 = get_sigma8(omegam, S8) # convert from S8 coords\n",
    "    \n",
    "    conf = simulator_args[\"conf\"]\n",
    "    cosmo_pmwd = Cosmology.from_sigma8(\n",
    "        conf, sigma8=sigma8, Omega_m=omegam, Omega_b=0.049, h=0.7, n_s=0.96)\n",
    "    \n",
    "    cosmo = cosmology.CosmologicalParameters(sigma8=sigma8, Omega_m=omegam)\n",
    "\n",
    "    Nmesh = simulator_args[\"Nmesh\"]\n",
    "    Lbox = simulator_args[\"Lbox\"]\n",
    "    zmeans = simulator_args[\"zmeans\"]\n",
    "    zstds = simulator_args[\"zstds\"]\n",
    "\n",
    "    # try creating the box internally\n",
    "    box = alpaga.simgrid.Box(Lbox, Nmesh, coord_obs)\n",
    "    Nx,Ny,Nz = box.Nmesh\n",
    "    \n",
    "    # Generate a white noise field\n",
    "    #wn = alpaga.simulate.generate_white_noise(box, seed)\n",
    "\n",
    "    # density field\n",
    "    delta_los = density_model(seed, cosmo_pmwd, conf)\n",
    "    delta_los -= delta_los.mean()\n",
    "\n",
    "    \n",
    "    #los_indices = np.load(\"/data101/makinen/lemur_sims/los_indices_N_%d_Nz_512.npy\"%(N))\n",
    "    los_indices = simulator_args[\"los_indices\"]\n",
    "\n",
    "    #@partial(jax.jit, static_argnames=[\"delta\"])\n",
    "    @jax.jit\n",
    "    def all_los(single_index, delta=delta_los):\n",
    "        \"\"\"\n",
    "        helper function to map los_indices to slice through\n",
    "        the delta box (will integrate in codebase soon)\n",
    "        \"\"\"\n",
    "    \n",
    "        def index_me(ind, delta=delta): # vmap over Nz\n",
    "            return delta[tuple(ind)]    \n",
    "    \n",
    "        return jax.vmap(index_me, in_axes=(0,))(single_index)\n",
    "        \n",
    "    delta_los = jax.vmap(all_los)(los_indices).reshape(Nx,Ny,Nz)\n",
    "\n",
    "    # now do convergence nonsense\n",
    "\n",
    "    # the corresponding scale factor grid changes with cosmology\n",
    "    # simulation box physical terms (comoving grid)\n",
    "    chi_grid = (jnp.arange(Nmesh[2]) + 0.5) * Lbox[2] / Nmesh[2]\n",
    "    a_grid = background.compute_scale_factor_at_comoving_distance(chi_grid, cosmo)\n",
    "    z_grid = a_to_z(a_grid)\n",
    "    \n",
    "    lensing_factor = 1.5 * cosmo.Omega_m * (cosmo.h * 100.)**2 / constants.c**2\n",
    "    chi_source = chi_grid[-1]\n",
    "    kernel = utils.calculate_lensing_efficiency(chi_grid, chi_source) / a_grid\n",
    "    \n",
    "    # kernel becomes r / costheta; integrate only up to spherical cap rmax\n",
    "    delta_los *= simulator_args[\"spherical_cap\"]\n",
    "    delta_los *= simulator_args[\"costheta_1\"]\n",
    "\n",
    "    # Convergence field in tomographic bins\n",
    "\n",
    "    # redshift bin weights vmap\n",
    "    dr = box.Lbox[-1] / box.Nmesh[-1]\n",
    "\n",
    "    #@partial(jax.jit, static_argnames=[\"delta_los\"])\n",
    "    @jax.jit\n",
    "    def get_tomobin(zmean, zstd, delta_los=delta_los):\n",
    "        \n",
    "        ws = get_weights_in_chi(z_grid, \n",
    "                                a_grid,\n",
    "                                chi_grid,\n",
    "                                zmean, \n",
    "                                std=zstd\n",
    "                               ) \n",
    "        \n",
    "        def fn(k_ij): #=ws):\n",
    "            \"\"\"\n",
    "            k_ij: 3D field slice k[i,j,:]\n",
    "            weights: (Nz,) weight array\n",
    "            \"\"\"\n",
    "            return jnp.sum(k_ij * ws * kernel * Jacobian(z_grid, cosmo) * dr) \n",
    "        \n",
    "        kappa_tomo = jax.vmap(jax.vmap(fn, in_axes=(0,)), in_axes=(1,))(delta_los)\n",
    "        kappa_tomo -= jnp.mean(kappa_tomo)\n",
    "\n",
    "        return kappa_tomo * lensing_factor\n",
    "\n",
    "    \n",
    "\n",
    "    return jnp.squeeze(jax.vmap(get_tomobin)(zmeans, zstds))"
   ]
  },
  {
   "cell_type": "code",
   "execution_count": 21,
   "id": "813961dd-715c-4c7c-a8ba-70261790d1fa",
   "metadata": {},
   "outputs": [
    {
     "data": {
      "text/plain": [
       "Array(0.8, dtype=float64, weak_type=True)"
      ]
     },
     "execution_count": 21,
     "metadata": {},
     "output_type": "execute_result"
    }
   ],
   "source": [
    "# get good coordinates for S8\n",
    "get_sigma8(0.3, 0.8)"
   ]
  },
  {
   "cell_type": "code",
   "execution_count": 30,
   "id": "4d9612ae-00ee-4821-aee6-57a813d9a724",
   "metadata": {},
   "outputs": [],
   "source": [
    "θ_fid = jnp.array([0.3, 0.8])\n",
    "\n",
    "θ_target = jnp.array([0.3, 0.811])"
   ]
  },
  {
   "cell_type": "code",
   "execution_count": 31,
   "id": "367872a9-a69d-417c-9028-a975f903fb8c",
   "metadata": {},
   "outputs": [
    {
     "name": "stderr",
     "output_type": "stream",
     "text": [
      "2024-05-23 14:22:18.549605: E external/xla/xla/service/slow_operation_alarm.cc:65] Constant folding an instruction is taking > 1s:\n",
      "\n",
      "  %slice.7965 = s64[65536,512,1]{2,1,0} slice(s64[65536,512,3]{2,1,0} %constant.55), slice={[0:65536], [0:512], [0:1]}, metadata={op_name=\"jit(simulator)/jit(main)/vmap(jit(all_los))/slice[start_indices=(0, 0, 0) limit_indices=(65536, 512, 1) strides=(1, 1, 1)]\" source_file=\"/tmp/ipykernel_3916991/3202255381.py\" source_line=46}\n",
      "\n",
      "This isn't necessarily a bug; constant-folding is inherently a trade-off between compilation time and speed at runtime. XLA has some guards that attempt to keep constant folding from taking too long, but fundamentally you'll always be able to come up with an input program that takes a long time.\n",
      "\n",
      "If you'd like to file a bug, run with envvar XLA_FLAGS=--xla_dump_to=/tmp/foo and attach the results.\n",
      "2024-05-23 14:23:45.573078: E external/xla/xla/service/slow_operation_alarm.cc:133] The operation took 1m28.023536348s\n",
      "Constant folding an instruction is taking > 1s:\n",
      "\n",
      "  %slice.7965 = s64[65536,512,1]{2,1,0} slice(s64[65536,512,3]{2,1,0} %constant.55), slice={[0:65536], [0:512], [0:1]}, metadata={op_name=\"jit(simulator)/jit(main)/vmap(jit(all_los))/slice[start_indices=(0, 0, 0) limit_indices=(65536, 512, 1) strides=(1, 1, 1)]\" source_file=\"/tmp/ipykernel_3916991/3202255381.py\" source_line=46}\n",
      "\n",
      "This isn't necessarily a bug; constant-folding is inherently a trade-off between compilation time and speed at runtime. XLA has some guards that attempt to keep constant folding from taking too long, but fundamentally you'll always be able to come up with an input program that takes a long time.\n",
      "\n",
      "If you'd like to file a bug, run with envvar XLA_FLAGS=--xla_dump_to=/tmp/foo and attach the results.\n",
      "2024-05-23 14:23:49.568331: E external/xla/xla/service/slow_operation_alarm.cc:65] Constant folding an instruction is taking > 2s:\n",
      "\n",
      "  %add.18017 = s64[65536,512]{1,0} add(s64[65536,512]{1,0} %constant.79602, s64[65536,512]{1,0} %broadcast.26138), metadata={op_name=\"jit(simulator)/jit(main)/vmap(jit(all_los))/add\" source_file=\"/tmp/ipykernel_3916991/3202255381.py\" source_line=46}\n",
      "\n",
      "This isn't necessarily a bug; constant-folding is inherently a trade-off between compilation time and speed at runtime. XLA has some guards that attempt to keep constant folding from taking too long, but fundamentally you'll always be able to come up with an input program that takes a long time.\n",
      "\n",
      "If you'd like to file a bug, run with envvar XLA_FLAGS=--xla_dump_to=/tmp/foo and attach the results.\n",
      "2024-05-23 14:23:50.554471: E external/xla/xla/service/slow_operation_alarm.cc:133] The operation took 2.986422071s\n",
      "Constant folding an instruction is taking > 2s:\n",
      "\n",
      "  %add.18017 = s64[65536,512]{1,0} add(s64[65536,512]{1,0} %constant.79602, s64[65536,512]{1,0} %broadcast.26138), metadata={op_name=\"jit(simulator)/jit(main)/vmap(jit(all_los))/add\" source_file=\"/tmp/ipykernel_3916991/3202255381.py\" source_line=46}\n",
      "\n",
      "This isn't necessarily a bug; constant-folding is inherently a trade-off between compilation time and speed at runtime. XLA has some guards that attempt to keep constant folding from taking too long, but fundamentally you'll always be able to come up with an input program that takes a long time.\n",
      "\n",
      "If you'd like to file a bug, run with envvar XLA_FLAGS=--xla_dump_to=/tmp/foo and attach the results.\n",
      "2024-05-23 14:23:54.554727: E external/xla/xla/service/slow_operation_alarm.cc:65] Constant folding an instruction is taking > 4s:\n",
      "\n",
      "  %slice.7966 = s64[65536,512,1]{2,1,0} slice(s64[65536,512,3]{2,1,0} %constant.55), slice={[0:65536], [0:512], [1:2]}, metadata={op_name=\"jit(simulator)/jit(main)/vmap(jit(all_los))/slice[start_indices=(0, 0, 1) limit_indices=(65536, 512, 2) strides=(1, 1, 1)]\" source_file=\"/tmp/ipykernel_3916991/3202255381.py\" source_line=46}\n",
      "\n",
      "This isn't necessarily a bug; constant-folding is inherently a trade-off between compilation time and speed at runtime. XLA has some guards that attempt to keep constant folding from taking too long, but fundamentally you'll always be able to come up with an input program that takes a long time.\n",
      "\n",
      "If you'd like to file a bug, run with envvar XLA_FLAGS=--xla_dump_to=/tmp/foo and attach the results.\n",
      "2024-05-23 14:25:20.780959: E external/xla/xla/service/slow_operation_alarm.cc:133] The operation took 1m30.226383147s\n",
      "Constant folding an instruction is taking > 4s:\n",
      "\n",
      "  %slice.7966 = s64[65536,512,1]{2,1,0} slice(s64[65536,512,3]{2,1,0} %constant.55), slice={[0:65536], [0:512], [1:2]}, metadata={op_name=\"jit(simulator)/jit(main)/vmap(jit(all_los))/slice[start_indices=(0, 0, 1) limit_indices=(65536, 512, 2) strides=(1, 1, 1)]\" source_file=\"/tmp/ipykernel_3916991/3202255381.py\" source_line=46}\n",
      "\n",
      "This isn't necessarily a bug; constant-folding is inherently a trade-off between compilation time and speed at runtime. XLA has some guards that attempt to keep constant folding from taking too long, but fundamentally you'll always be able to come up with an input program that takes a long time.\n",
      "\n",
      "If you'd like to file a bug, run with envvar XLA_FLAGS=--xla_dump_to=/tmp/foo and attach the results.\n",
      "2024-05-23 14:25:34.558200: E external/xla/xla/service/slow_operation_alarm.cc:65] Constant folding an instruction is taking > 8s:\n",
      "\n",
      "  %slice.7967 = s64[65536,512,1]{2,1,0} slice(s64[65536,512,3]{2,1,0} %constant.55), slice={[0:65536], [0:512], [2:3]}, metadata={op_name=\"jit(simulator)/jit(main)/vmap(jit(all_los))/slice[start_indices=(0, 0, 2) limit_indices=(65536, 512, 3) strides=(1, 1, 1)]\" source_file=\"/tmp/ipykernel_3916991/3202255381.py\" source_line=46}\n",
      "\n",
      "This isn't necessarily a bug; constant-folding is inherently a trade-off between compilation time and speed at runtime. XLA has some guards that attempt to keep constant folding from taking too long, but fundamentally you'll always be able to come up with an input program that takes a long time.\n",
      "\n",
      "If you'd like to file a bug, run with envvar XLA_FLAGS=--xla_dump_to=/tmp/foo and attach the results.\n",
      "2024-05-23 14:26:55.892008: E external/xla/xla/service/slow_operation_alarm.cc:133] The operation took 1m29.333954654s\n",
      "Constant folding an instruction is taking > 8s:\n",
      "\n",
      "  %slice.7967 = s64[65536,512,1]{2,1,0} slice(s64[65536,512,3]{2,1,0} %constant.55), slice={[0:65536], [0:512], [2:3]}, metadata={op_name=\"jit(simulator)/jit(main)/vmap(jit(all_los))/slice[start_indices=(0, 0, 2) limit_indices=(65536, 512, 3) strides=(1, 1, 1)]\" source_file=\"/tmp/ipykernel_3916991/3202255381.py\" source_line=46}\n",
      "\n",
      "This isn't necessarily a bug; constant-folding is inherently a trade-off between compilation time and speed at runtime. XLA has some guards that attempt to keep constant folding from taking too long, but fundamentally you'll always be able to come up with an input program that takes a long time.\n",
      "\n",
      "If you'd like to file a bug, run with envvar XLA_FLAGS=--xla_dump_to=/tmp/foo and attach the results.\n"
     ]
    },
    {
     "name": "stdout",
     "output_type": "stream",
     "text": [
      "CPU times: user 23min 37s, sys: 4min 52s, total: 28min 30s\n",
      "Wall time: 6min 43s\n",
      "CPU times: user 2.65 s, sys: 1.3 s, total: 3.95 s\n",
      "Wall time: 3.95 s\n"
     ]
    }
   ],
   "source": [
    "%time jax.block_until_ready(simulator(20, θ_target))\n",
    "%time kappatest = jax.block_until_ready(simulator(20, θ_target))"
   ]
  },
  {
   "cell_type": "code",
   "execution_count": 32,
   "id": "ca4c9f6c-b134-4595-a96b-d5f38dbe0d3d",
   "metadata": {},
   "outputs": [
    {
     "name": "stdout",
     "output_type": "stream",
     "text": [
      "CPU times: user 2.67 s, sys: 1.29 s, total: 3.96 s\n",
      "Wall time: 3.96 s\n"
     ]
    }
   ],
   "source": [
    "%time kappatest = jax.block_until_ready(simulator(20, θ_target))"
   ]
  },
  {
   "cell_type": "code",
   "execution_count": 33,
   "id": "d3c7a176-0fd2-4145-a2de-6fd6577c2383",
   "metadata": {},
   "outputs": [
    {
     "name": "stdout",
     "output_type": "stream",
     "text": [
      "Configuration(ptcl_spacing=(0.9765625, 0.9765625, 7.8125),\n",
      "              ptcl_grid_shape=(256, 256, 512),\n",
      "              mesh_shape=(256, 256, 512),\n",
      "              cosmo_dtype=dtype('float64'),\n",
      "              pmid_dtype=dtype('int16'),\n",
      "              float_dtype=dtype('float32'),\n",
      "              k_pivot_Mpc=0.05,\n",
      "              T_cmb=2.7255,\n",
      "              M=1.98847e+40,\n",
      "              L=3.0856775815e+22,\n",
      "              T=3.0856775815e+17,\n",
      "              transfer_fit=True,\n",
      "              transfer_fit_nowiggle=False,\n",
      "              transfer_lgk_min=-4,\n",
      "              transfer_lgk_max=3,\n",
      "              transfer_lgk_maxstep=0.0078125,\n",
      "              growth_rtol=1.4901161193847656e-08,\n",
      "              growth_atol=1.4901161193847656e-08,\n",
      "              growth_inistep=(1, None),\n",
      "              lpt_order=2,\n",
      "              a_start=0.015625,\n",
      "              a_stop=1,\n",
      "              a_lpt_maxstep=0.0078125,\n",
      "              a_nbody_maxstep=0.015625,\n",
      "              symp_splits=((0, 0.5), (1, 0.5)),\n",
      "              chunk_size=16777216)\n",
      "Simulating 33554432 particles with a (256, 256, 512) mesh for 63 time steps.\n"
     ]
    }
   ],
   "source": [
    "print(conf)  # with other default parameters\n",
    "print(f'Simulating {conf.ptcl_num} particles with a {conf.mesh_shape} mesh for {conf.a_nbody_num} time steps.')"
   ]
  },
  {
   "cell_type": "code",
   "execution_count": 34,
   "id": "14d24b2d-1eab-43a7-ac48-d96aa7fb3c41",
   "metadata": {},
   "outputs": [
    {
     "data": {
      "text/plain": [
       "Array(0.057, dtype=float64)"
      ]
     },
     "execution_count": 34,
     "metadata": {},
     "output_type": "execute_result"
    }
   ],
   "source": [
    "kappa_extr = kappatest[1, ...].max()\n",
    "kappa_extr"
   ]
  },
  {
   "cell_type": "code",
   "execution_count": 35,
   "id": "920a549b-03e9-43e4-8535-32a415b260d8",
   "metadata": {},
   "outputs": [
    {
     "data": {
      "text/plain": [
       "Array(-0.021, dtype=float64)"
      ]
     },
     "execution_count": 35,
     "metadata": {},
     "output_type": "execute_result"
    }
   ],
   "source": [
    "kappatest.min()"
   ]
  },
  {
   "cell_type": "code",
   "execution_count": 36,
   "id": "620bdda4-0bfa-4722-a7e6-e5dbfbdb64ca",
   "metadata": {},
   "outputs": [
    {
     "name": "stderr",
     "output_type": "stream",
     "text": [
      "/tmp/ipykernel_3916991/3301866353.py:32: MatplotlibDeprecationWarning: The toggle_label function was deprecated in Matplotlib 3.8 and will be removed two minor releases later. Use ax.tick_params and colorbar.set_label instead.\n",
      "  ax.cax.toggle_label(True)\n"
     ]
    },
    {
     "data": {
      "image/jpeg": "[encoded data removed]",
      "text/plain": [
       "<Figure size 975x300 with 8 Axes>"
      ]
     },
     "metadata": {},
     "output_type": "display_data"
    }
   ],
   "source": [
    "import numpy as np\n",
    "import matplotlib.pyplot as plt\n",
    "from mpl_toolkits.axes_grid1 import ImageGrid\n",
    "\n",
    "# Set up figure and image grid\n",
    "fig = plt.figure(figsize=(9.75, 3))\n",
    "\n",
    "grid = ImageGrid(fig, 111,          # as in plt.subplot(111)\n",
    "                 nrows_ncols=(1,4),\n",
    "                 axes_pad=0.15,\n",
    "                 share_all=True,\n",
    "                 cbar_location=\"right\",\n",
    "                 cbar_mode=\"single\",\n",
    "                 cbar_size=\"7%\",\n",
    "                 cbar_pad=0.15,\n",
    "                 )\n",
    "\n",
    "for i,z in enumerate(z_means_analysis):\n",
    "    ax = grid[i]\n",
    "    im = ax.imshow(kappatest[i], \n",
    "                   # vmin=-kappa_extr, \n",
    "                   # vmax=kappa_extr, \n",
    "                   interpolation='spline36',\n",
    "                   cmap='magma'\n",
    "                  )\n",
    "    ax.set_xticks([])\n",
    "    ax.set_yticks([])\n",
    "    ax.set_title(\"z=%.1f\"%(z))\n",
    "    \n",
    "# Colorbar\n",
    "ax.cax.colorbar(im)\n",
    "ax.cax.toggle_label(True)\n",
    "\n",
    "#plt.tight_layout()    # Works, but may still require rect paramater to keep colorbar labels visible\n",
    "plt.show()"
   ]
  },
  {
   "cell_type": "code",
   "execution_count": 37,
   "id": "d814fe02-29da-4039-8f1f-5ab39a4b106e",
   "metadata": {},
   "outputs": [
    {
     "data": {
      "text/plain": [
       "[<matplotlib.lines.Line2D at 0x7fb464c0f990>]"
      ]
     },
     "execution_count": 37,
     "metadata": {},
     "output_type": "execute_result"
    },
    {
     "data": {
      "image/jpeg": "[encoded data removed]",
      "text/plain": [
       "<Figure size 640x480 with 1 Axes>"
      ]
     },
     "metadata": {},
     "output_type": "display_data"
    }
   ],
   "source": [
    "ell,clsfoo = analysis.compute_auto_cross_angular_power_spectrum(kappatest[0], kappatest[0], chi_grid[-1], Lbox[0])\n",
    "plt.loglog(ell, clsfoo)"
   ]
  },
  {
   "cell_type": "code",
   "execution_count": 38,
   "id": "f8d97bd5-c5ff-4735-9b18-85caeb70961f",
   "metadata": {},
   "outputs": [],
   "source": [
    "outdir = \"/data101/makinen/lemur_sims/pm_sims/\"\n",
    "\n",
    "jnp.savez(outdir + \"test_L_%d_N_%d_Nz_512\"%(L, N),\n",
    "          kappa=kappatest,\n",
    "          theta=θ_target\n",
    "     )"
   ]
  },
  {
   "cell_type": "code",
   "execution_count": 39,
   "id": "177fbd4c-d2a0-4659-8b2c-f30384ca0e70",
   "metadata": {},
   "outputs": [
    {
     "data": {
      "text/plain": [
       "(250, '/data101/makinen/lemur_sims/pm_sims/')"
      ]
     },
     "execution_count": 39,
     "metadata": {},
     "output_type": "execute_result"
    }
   ],
   "source": [
    "outdir = \"/data101/makinen/lemur_sims/pm_sims/\"\n",
    "L, outdir"
   ]
  },
  {
   "cell_type": "code",
   "execution_count": 40,
   "id": "ea8c2c05-353b-4c3b-b960-a632beb27b8a",
   "metadata": {},
   "outputs": [],
   "source": [
    "outdir = \"/data101/makinen/lemur_sims/pm_sims/\"\n",
    "\n",
    "jnp.savez(outdir + \"target_L_%d_N_%d_Nz_512\"%(L, N),\n",
    "          kappa=kappatest,\n",
    "          theta=θ_target\n",
    "     )"
   ]
  },
  {
   "cell_type": "markdown",
   "id": "b2091584-9529-4b3c-86e8-f33331321930",
   "metadata": {},
   "source": [
    "## set up moped for the problem"
   ]
  },
  {
   "cell_type": "code",
   "execution_count": 22,
   "id": "e6bd7ad4-a299-4cfa-9ce8-f0b0d2a0cc07",
   "metadata": {},
   "outputs": [
    {
     "name": "stdout",
     "output_type": "stream",
     "text": [
      "[[0.288 0.8  ]\n",
      " [0.3   0.79 ]\n",
      " [0.311 0.8  ]\n",
      " [0.3   0.81 ]]\n"
     ]
    }
   ],
   "source": [
    "### ------------- IMNN PARAMETERS -------------\n",
    "#θ_fid = jnp.array([0.3, 0.800]) # CHANGE TO OmegaM=0.6\n",
    "θ_fid = jnp.array([0.3, 0.8])\n",
    "δθ = 2*jnp.array([0.0115, 0.01])\n",
    "\n",
    "θ_der = (θ_fid + jnp.einsum(\"i,jk->ijk\", jnp.array([-1., 1.]), jnp.diag(δθ) / 2.)).reshape((-1, 2))\n",
    "\n",
    "\n",
    "n_summaries = 2\n",
    "\n",
    "n_s = 3000\n",
    "n_d = 750\n",
    "\n",
    "n_params = 2\n",
    "n_summaries = n_params\n",
    "print(θ_der)"
   ]
  },
  {
   "cell_type": "code",
   "execution_count": 23,
   "id": "5465a9f1-94d4-4a68-8e5b-1e6a47b29ba8",
   "metadata": {},
   "outputs": [
    {
     "data": {
      "text/plain": [
       "(4, 2)"
      ]
     },
     "execution_count": 23,
     "metadata": {},
     "output_type": "execute_result"
    }
   ],
   "source": [
    "θ_der.shape"
   ]
  },
  {
   "cell_type": "code",
   "execution_count": 24,
   "id": "58412c91-2826-4fce-8df8-16a16b097225",
   "metadata": {},
   "outputs": [],
   "source": [
    "import jax.random as jrnd\n",
    "\n",
    "key1 = jrnd.PRNGKey(44)\n",
    "key2 = jrnd.PRNGKey(45)\n",
    "\n",
    "fid_keys = jnp.arange(n_s)\n",
    "derv_keys = jnp.arange(n_d) + 3000\n",
    "\n",
    "\n",
    "\n",
    "#derv_keys = jnp.repeat(derv_keys, θ_der.shape[0], axis=0)"
   ]
  },
  {
   "cell_type": "code",
   "execution_count": 30,
   "id": "0c4e62e5-f718-4670-9be3-5ff51804d9a2",
   "metadata": {},
   "outputs": [
    {
     "data": {
      "text/plain": [
       "Array([3000, 3000, 3000, 3000, 3001, 3001, 3001, 3001, 3002, 3002], dtype=int64)"
      ]
     },
     "execution_count": 30,
     "metadata": {},
     "output_type": "execute_result"
    }
   ],
   "source": [
    "jnp.repeat(derv_keys, θ_der.shape[0], axis=0)[:10]"
   ]
  },
  {
   "cell_type": "code",
   "execution_count": 34,
   "id": "8149e57e-534d-4d31-ab52-4aa47d685513",
   "metadata": {},
   "outputs": [
    {
     "data": {
      "text/plain": [
       "Array([[0.288, 0.8  ],\n",
       "       [0.3  , 0.79 ],\n",
       "       [0.311, 0.8  ],\n",
       "       [0.3  , 0.81 ],\n",
       "       [0.288, 0.8  ],\n",
       "       [0.3  , 0.79 ],\n",
       "       [0.311, 0.8  ],\n",
       "       [0.3  , 0.81 ],\n",
       "       [0.288, 0.8  ],\n",
       "       [0.3  , 0.79 ]], dtype=float64)"
      ]
     },
     "execution_count": 34,
     "metadata": {},
     "output_type": "execute_result"
    }
   ],
   "source": [
    "jnp.tile(θ_der, (n_d, 1))[:10]"
   ]
  },
  {
   "cell_type": "code",
   "execution_count": 37,
   "id": "ca3c36f0-cc37-4053-b2e9-7aee56c72dca",
   "metadata": {},
   "outputs": [
    {
     "data": {
      "text/plain": [
       "3000"
      ]
     },
     "execution_count": 37,
     "metadata": {},
     "output_type": "execute_result"
    }
   ],
   "source": [
    "n_d * 4"
   ]
  },
  {
   "cell_type": "code",
   "execution_count": 36,
   "id": "334da702-1a4d-4a0f-b563-9528de6c19d9",
   "metadata": {},
   "outputs": [
    {
     "name": "stderr",
     "output_type": "stream",
     "text": [
      "  0%|          | 2/750 [00:12<1:15:05,  6.02s/it]\n"
     ]
    },
    {
     "ename": "KeyboardInterrupt",
     "evalue": "",
     "output_type": "error",
     "traceback": [
      "\u001b[0;31m---------------------------------------------------------------------------\u001b[0m",
      "\u001b[0;31mKeyboardInterrupt\u001b[0m                         Traceback (most recent call last)",
      "Cell \u001b[0;32mIn[36], line 13\u001b[0m\n\u001b[1;32m      9\u001b[0m all_derv_theta \u001b[38;5;241m=\u001b[39m jnp\u001b[38;5;241m.\u001b[39mtile(θ_der, (n_d, \u001b[38;5;241m1\u001b[39m))\n\u001b[1;32m     11\u001b[0m \u001b[38;5;28;01mfor\u001b[39;00m i \u001b[38;5;129;01min\u001b[39;00m tqdm(\u001b[38;5;28mrange\u001b[39m(n_d)):\n\u001b[0;32m---> 13\u001b[0m     numderv \u001b[38;5;241m=\u001b[39m \u001b[43msimulator\u001b[49m\u001b[43m(\u001b[49m\u001b[43mall_derv_keys\u001b[49m\u001b[43m[\u001b[49m\u001b[43mi\u001b[49m\u001b[43m]\u001b[49m\u001b[43m,\u001b[49m\u001b[43m \u001b[49m\u001b[43mall_derv_theta\u001b[49m\u001b[43m[\u001b[49m\u001b[43mi\u001b[49m\u001b[43m]\u001b[49m\u001b[43m)\u001b[49m\n\u001b[1;32m     14\u001b[0m     jnp\u001b[38;5;241m.\u001b[39msave(outdir \u001b[38;5;241m+\u001b[39m \u001b[38;5;124m\"\u001b[39m\u001b[38;5;124mN256/derv/\u001b[39m\u001b[38;5;124m\"\u001b[39m \u001b[38;5;241m+\u001b[39m \u001b[38;5;124m\"\u001b[39m\u001b[38;5;124msim_\u001b[39m\u001b[38;5;132;01m%d\u001b[39;00m\u001b[38;5;124m\"\u001b[39m\u001b[38;5;241m%\u001b[39m(i), numderv)\n",
      "\u001b[0;31mKeyboardInterrupt\u001b[0m: "
     ]
    }
   ],
   "source": [
    "# now make a bunch of simulations (batch in size 50)\n",
    "batch = 1\n",
    "input_shape = (4,N,N)\n",
    "\n",
    "\n",
    "# first do derivative\n",
    "#derv = []\n",
    "all_derv_keys = jnp.repeat(derv_keys, θ_der.shape[0], axis=0)\n",
    "all_derv_theta = jnp.tile(θ_der, (n_d, 1))\n",
    "\n",
    "for i in tqdm(range(n_d*4)):\n",
    "\n",
    "    numderv = simulator(all_derv_keys[i], all_derv_theta[i])\n",
    "    jnp.save(outdir + \"N256/derv/\" + \"sim_%d\"%(i), numderv)\n"
   ]
  },
  {
   "cell_type": "code",
   "execution_count": null,
   "id": "4fd0a8e3-857f-4597-a936-5e19394cb68d",
   "metadata": {},
   "outputs": [],
   "source": [
    "derv.shape"
   ]
  },
  {
   "cell_type": "code",
   "execution_count": null,
   "id": "38736e8e-cd96-4e68-b84f-a42b623a46d6",
   "metadata": {},
   "outputs": [],
   "source": [
    "plt.imshow(derv[0, 0, 0, 3, ...])\n",
    "plt.colorbar()"
   ]
  },
  {
   "cell_type": "code",
   "execution_count": 43,
   "id": "6d9618d9-a937-4829-a948-a777cb246962",
   "metadata": {},
   "outputs": [
    {
     "data": {
      "text/plain": [
       "(750, 2, 2, 4, 128, 128)"
      ]
     },
     "execution_count": 43,
     "metadata": {},
     "output_type": "execute_result"
    }
   ],
   "source": [
    "derv.shape"
   ]
  },
  {
   "cell_type": "code",
   "execution_count": 56,
   "id": "f29b54b8-c442-42fe-bdd3-6ad4390f4d55",
   "metadata": {},
   "outputs": [
    {
     "data": {
      "text/plain": [
       "2"
      ]
     },
     "execution_count": 56,
     "metadata": {},
     "output_type": "execute_result"
    }
   ],
   "source": [
    "lpt_order"
   ]
  },
  {
   "cell_type": "code",
   "execution_count": 44,
   "id": "b97a1925-6c78-4774-925f-0455c394b79a",
   "metadata": {},
   "outputs": [
    {
     "data": {
      "text/plain": [
       "500"
      ]
     },
     "execution_count": 44,
     "metadata": {},
     "output_type": "execute_result"
    }
   ],
   "source": [
    "L"
   ]
  },
  {
   "cell_type": "code",
   "execution_count": null,
   "id": "d1b15f6f-3eda-4ff3-983a-3df204d8840e",
   "metadata": {},
   "outputs": [],
   "source": [
    "outdir = \"/data101/makinen/lemur_sims/pm_sims/\"\n",
    "jnp.save(outdir + \"derv_S8_smallstep_L_%d_N_%d_Nz_512_pm_Om_%d_s8_%d\"%(L, N, θ_fid[0]*10, θ_fid[1]*10), derv)"
   ]
  },
  {
   "cell_type": "code",
   "execution_count": 25,
   "id": "2f71480f-7e3e-4966-b365-8eb31d43928f",
   "metadata": {},
   "outputs": [],
   "source": [
    "del derv"
   ]
  },
  {
   "cell_type": "code",
   "execution_count": 27,
   "id": "fcbcaee2-d982-475c-9b73-8beaa2deae95",
   "metadata": {},
   "outputs": [
    {
     "data": {
      "text/plain": [
       "'/data101/makinen/lemur_sims/pm_sims/'"
      ]
     },
     "execution_count": 27,
     "metadata": {},
     "output_type": "execute_result"
    }
   ],
   "source": [
    "outdir"
   ]
  },
  {
   "cell_type": "code",
   "execution_count": 26,
   "id": "73a8c9d6-9bd8-4762-9c50-b8b003775327",
   "metadata": {},
   "outputs": [
    {
     "name": "stderr",
     "output_type": "stream",
     "text": [
      "100%|██████████| 3000/3000 [3:18:41<00:00,  3.97s/it]  \n"
     ]
    }
   ],
   "source": [
    "# now make a bunch of simulations (batch in size 50)\n",
    "batch = 1\n",
    "input_shape = (4,N,N)\n",
    "outdir = \"/data101/makinen/lemur_sims/pm_sims/\"\n",
    "\n",
    "# now fiducial\n",
    "   \n",
    "for i in tqdm(range(n_s)):\n",
    "    \n",
    "    #sims = jax.vmap(simulator)(fid_keys[i*batch:(i+1)*batch], jnp.ones((batch, θ_fid.shape[0]))*θ_fid)\n",
    "    #sims = jax.vmap(mysim)(fid_keys[i*batch:(i+1)*batch])\n",
    "    #fid.append(sims)\n",
    "\n",
    "    #fid = fid.at[i*batch:(i+1)*batch].set(\n",
    "    #                simulator(fid_keys[i], θ_fid)\n",
    "    #)\n",
    "    sim = simulator(fid_keys[i], θ_fid)\n",
    "\n",
    "    jnp.save(outdir + \"N256/fid/\" + \"sim_%d\"%(i), sim)"
   ]
  },
  {
   "cell_type": "code",
   "execution_count": 48,
   "id": "c0e4d0ff-764a-4867-908a-18c20a9bec13",
   "metadata": {},
   "outputs": [
    {
     "data": {
      "text/plain": [
       "1784"
      ]
     },
     "execution_count": 48,
     "metadata": {},
     "output_type": "execute_result"
    }
   ],
   "source": [
    "import gc\n",
    "gc.collect()"
   ]
  },
  {
   "cell_type": "code",
   "execution_count": null,
   "id": "fc92a49a-95aa-4a08-9821-e26a697ea86d",
   "metadata": {},
   "outputs": [],
   "source": [
    "outdir = \"/data101/makinen/lemur_sims/pm_sims/\"\n",
    "jnp.save(outdir + \"fid_S8_L_%d_N_%d_Nz_512_pm_Om_%d_s8_%d\"%(L, N, θ_fid[0]*10, θ_fid[1]*10), fid)"
   ]
  },
  {
   "cell_type": "code",
   "execution_count": null,
   "id": "997a3553-9f15-4ae6-8e35-0f96883f2d81",
   "metadata": {},
   "outputs": [],
   "source": [
    "# now make a bunch of simulations (batch in size 50)\n",
    "batch = 2\n",
    "input_shape = (4,N,N)\n",
    "\n",
    "# now fiducial\n",
    "fid = jnp.zeros((n_s,) + (input_shape))\n",
    "\n",
    "# would this compile faster if I just broadcasted the vmap over copies of θ_fid \n",
    "mysim = lambda s: simulator(s, θ=θ_fid)\n",
    "                            \n",
    "for i in tqdm(range(n_s)):\n",
    "    \n",
    "    #sims = jax.vmap(simulator)(fid_keys[i*batch:(i+1)*batch], jnp.ones((batch, θ_fid.shape[0]))*θ_fid)\n",
    "    #sims = jax.vmap(mysim)(fid_keys[i*batch:(i+1)*batch])\n",
    "    #fid.append(sims)\n",
    "\n",
    "    fid = fid.at[i].set(\n",
    "                    simulator(fid_keys[i], θ_fid)\n",
    "    )\n",
    "\n",
    "    \n",
    "\n",
    "#fid = jnp.conca"
   ]
  },
  {
   "cell_type": "code",
   "execution_count": 52,
   "id": "238c4c33-48e2-475b-a398-b6a212253323",
   "metadata": {},
   "outputs": [
    {
     "data": {
      "text/plain": [
       "((3000, 4, 128, 128), 500)"
      ]
     },
     "execution_count": 52,
     "metadata": {},
     "output_type": "execute_result"
    }
   ],
   "source": [
    "fid.shape, L"
   ]
  },
  {
   "cell_type": "code",
   "execution_count": null,
   "id": "b7c345a3-7c0c-49e8-aaa9-6a7e768b475d",
   "metadata": {},
   "outputs": [],
   "source": [
    "outdir = \"/data101/makinen/lemur_sims/pm_sims/\"\n",
    "jnp.save(outdir + \"fid_S8_L_%d_N_%d_Nz_512_pm_Om_%d_s8_%d\"%(L, N, θ_fid[0]*10, θ_fid[1]*10), fid)"
   ]
  },
  {
   "cell_type": "code",
   "execution_count": 33,
   "id": "1ae9fbcf-0091-4861-9718-37aa9b7d7729",
   "metadata": {},
   "outputs": [],
   "source": [
    "derv = jnp.load(outdir + \"derv_new_L_%d_N_%d_Nz_512_LPT%d_Om_%d_s8_%d.npy\"%(L, N, lpt_order, θ_fid[0]*10, θ_fid[1]*10))"
   ]
  },
  {
   "cell_type": "code",
   "execution_count": 57,
   "id": "ba1a09db-40cb-4544-b6e9-833c4b67dc9f",
   "metadata": {},
   "outputs": [
    {
     "data": {
      "text/plain": [
       "((3000, 4, 128, 128), (750, 2, 2, 4, 128, 128))"
      ]
     },
     "execution_count": 57,
     "metadata": {},
     "output_type": "execute_result"
    }
   ],
   "source": [
    "fid.shape, derv.shape"
   ]
  },
  {
   "cell_type": "code",
   "execution_count": 30,
   "id": "d8ba014d-604d-4144-a684-37814e174f9a",
   "metadata": {},
   "outputs": [
    {
     "data": {
      "text/plain": [
       "0"
      ]
     },
     "execution_count": 30,
     "metadata": {},
     "output_type": "execute_result"
    }
   ],
   "source": [
    "lpt_order"
   ]
  },
  {
   "cell_type": "markdown",
   "id": "29cefb36-b0a9-4cff-9e1d-6f9d4ae9faf1",
   "metadata": {},
   "source": [
    "### now take $C_\\ell$s"
   ]
  },
  {
   "cell_type": "code",
   "execution_count": 94,
   "id": "af956128-216f-48c0-b652-1aadd8d3818c",
   "metadata": {},
   "outputs": [
    {
     "data": {
      "text/plain": [
       "Array([[1, 1],\n",
       "       [1, 2],\n",
       "       [1, 3],\n",
       "       [2, 2],\n",
       "       [2, 3],\n",
       "       [3, 3]], dtype=int64)"
      ]
     },
     "execution_count": 94,
     "metadata": {},
     "output_type": "execute_result"
    }
   ],
   "source": [
    "num_tomo = 3\n",
    "\n",
    "def indices_vector(num_tomo=num_tomo):\n",
    "   indices = []\n",
    "   cc = 0\n",
    "   for catA in range(0,num_tomo,1):\n",
    "      for catB in range(catA,num_tomo,1):\n",
    "        indices.append([catA, catB])\n",
    "        cc += 1\n",
    "   return indices\n",
    "\n",
    "indices = jnp.array(indices_vector())\n",
    "indices += 1\n",
    "indices"
   ]
  },
  {
   "cell_type": "code",
   "execution_count": null,
   "id": "bb92866f-3262-4c94-97ad-03c3502a13e6",
   "metadata": {},
   "outputs": [],
   "source": []
  },
  {
   "cell_type": "code",
   "execution_count": 26,
   "id": "d89ef78b-46d9-4dd4-a615-71a24561d7d2",
   "metadata": {
    "collapsed": true,
    "jupyter": {
     "outputs_hidden": true
    }
   },
   "outputs": [
    {
     "name": "stderr",
     "output_type": "stream",
     "text": [
      "  0%|          | 0/60 [00:00<?, ?it/s]\n"
     ]
    },
    {
     "ename": "NameError",
     "evalue": "name 'indices' is not defined",
     "output_type": "error",
     "traceback": [
      "\u001b[0;31m---------------------------------------------------------------------------\u001b[0m",
      "\u001b[0;31mNameError\u001b[0m                                 Traceback (most recent call last)",
      "Cell \u001b[0;32mIn[26], line 24\u001b[0m\n\u001b[1;32m     21\u001b[0m batch \u001b[38;5;241m=\u001b[39m \u001b[38;5;241m50\u001b[39m\n\u001b[1;32m     23\u001b[0m \u001b[38;5;28;01mfor\u001b[39;00m i \u001b[38;5;129;01min\u001b[39;00m tqdm(\u001b[38;5;28mrange\u001b[39m(fid\u001b[38;5;241m.\u001b[39mshape[\u001b[38;5;241m0\u001b[39m] \u001b[38;5;241m/\u001b[39m\u001b[38;5;241m/\u001b[39m batch)):\n\u001b[0;32m---> 24\u001b[0m     f_ \u001b[38;5;241m=\u001b[39m \u001b[43mjax\u001b[49m\u001b[38;5;241;43m.\u001b[39;49m\u001b[43mvmap\u001b[49m\u001b[43m(\u001b[49m\u001b[43mallbins\u001b[49m\u001b[43m)\u001b[49m\u001b[43m(\u001b[49m\u001b[43mfid\u001b[49m\u001b[43m[\u001b[49m\u001b[43mi\u001b[49m\u001b[38;5;241;43m*\u001b[39;49m\u001b[43mbatch\u001b[49m\u001b[43m:\u001b[49m\u001b[43m(\u001b[49m\u001b[43mi\u001b[49m\u001b[38;5;241;43m+\u001b[39;49m\u001b[38;5;241;43m1\u001b[39;49m\u001b[43m)\u001b[49m\u001b[38;5;241;43m*\u001b[39;49m\u001b[43mbatch\u001b[49m\u001b[43m]\u001b[49m\u001b[43m)\u001b[49m\u001b[38;5;241m.\u001b[39mreshape(\u001b[38;5;241m-\u001b[39m\u001b[38;5;241m1\u001b[39m, \u001b[38;5;28mlen\u001b[39m(indices)\u001b[38;5;241m*\u001b[39m(num_bins)) \u001b[38;5;66;03m#[..., ::3]\u001b[39;00m\n\u001b[1;32m     25\u001b[0m     fid_cls\u001b[38;5;241m.\u001b[39mappend(f_)\n\u001b[1;32m     27\u001b[0m fid_cls \u001b[38;5;241m=\u001b[39m jnp\u001b[38;5;241m.\u001b[39mconcatenate(fid_cls)\n",
      "    \u001b[0;31m[... skipping hidden 3 frame]\u001b[0m\n",
      "Cell \u001b[0;32mIn[26], line 17\u001b[0m, in \u001b[0;36mallbins\u001b[0;34m(tomo_data)\u001b[0m\n\u001b[1;32m     15\u001b[0m \u001b[38;5;28;01mdef\u001b[39;00m \u001b[38;5;21mallbins\u001b[39m(tomo_data):\n\u001b[1;32m     16\u001b[0m     gps \u001b[38;5;241m=\u001b[39m \u001b[38;5;28;01mlambda\u001b[39;00m i: get_spec(i, tomo_data)\n\u001b[0;32m---> 17\u001b[0m     \u001b[38;5;28;01mreturn\u001b[39;00m jax\u001b[38;5;241m.\u001b[39mvmap(gps)(\u001b[43mindices\u001b[49m)\n",
      "\u001b[0;31mNameError\u001b[0m: name 'indices' is not defined"
     ]
    }
   ],
   "source": [
    "chi_grid = (jnp.arange(Nmesh[2]) + 0.5) * Lbox[2] / Nmesh[2]\n",
    "chi_source = chi_grid[-1]\n",
    "\n",
    "Nx,Ny,Nz = Nmesh\n",
    "\n",
    "end = 10 #64\n",
    "skip = 1\n",
    "#num_bins = Nx // 2 // 4\n",
    "num_bins = jnp.ones(Nx//2)[:end:skip].shape[0]\n",
    "\n",
    "def get_spec(index, tomo_data):\n",
    "    return analysis.compute_auto_cross_angular_power_spectrum(tomo_data[index[0]], tomo_data[index[1]],\n",
    "                                                    chi_source, Lbox[0])[1][:end:skip]\n",
    "\n",
    "def allbins(tomo_data):\n",
    "    gps = lambda i: get_spec(i, tomo_data)\n",
    "    return jax.vmap(gps)(indices)\n",
    "\n",
    "\n",
    "fid_cls = []\n",
    "batch = 50\n",
    "\n",
    "for i in tqdm(range(fid.shape[0] // batch)):\n",
    "    f_ = jax.vmap(allbins)(fid[i*batch:(i+1)*batch]).reshape(-1, len(indices)*(num_bins)) #[..., ::3]\n",
    "    fid_cls.append(f_)\n",
    "\n",
    "fid_cls = jnp.concatenate(fid_cls)\n",
    "\n",
    "derv_cls = []\n",
    "batch = 50\n",
    "for i in tqdm(range(1000 // batch)):\n",
    "    d_  = jax.vmap(allbins)(derv.reshape(-1, 4, Nx, Ny)[i*batch:(i+1)*batch]) \n",
    "    derv_cls.append(d_)\n",
    "    \n",
    "derv_cls = jnp.concatenate(derv_cls).reshape(n_d, 2, n_params, len(indices)*(num_bins))\n",
    "\n",
    "#derv_cls = jax.vmap(allbins)(derv.reshape(-1, 4, Nx, Ny)).reshape(n_d, 2, n_params, len(indices)*(num_bins)) #[..., ::3]\n",
    "\n",
    "derv_cls.shape, fid_cls.shape"
   ]
  },
  {
   "cell_type": "code",
   "execution_count": 27,
   "id": "5260e928-05f2-48a5-ac90-a78ce1be96fc",
   "metadata": {},
   "outputs": [],
   "source": [
    "ell,clex = analysis.compute_angular_power_spectrum(fid[0, 0, ...], chi_source, Lbox[0])"
   ]
  },
  {
   "cell_type": "code",
   "execution_count": 28,
   "id": "6ca04e77-8e27-46e4-9579-7d493a0c8c4b",
   "metadata": {
    "collapsed": true,
    "jupyter": {
     "outputs_hidden": true
    }
   },
   "outputs": [
    {
     "ename": "NameError",
     "evalue": "name 'cut' is not defined",
     "output_type": "error",
     "traceback": [
      "\u001b[0;31m---------------------------------------------------------------------------\u001b[0m",
      "\u001b[0;31mNameError\u001b[0m                                 Traceback (most recent call last)",
      "Cell \u001b[0;32mIn[28], line 1\u001b[0m\n\u001b[0;32m----> 1\u001b[0m ell[\u001b[43mcut\u001b[49m]\n",
      "\u001b[0;31mNameError\u001b[0m: name 'cut' is not defined"
     ]
    }
   ],
   "source": [
    "ell[cut]"
   ]
  },
  {
   "cell_type": "code",
   "execution_count": 32,
   "id": "fde74e7f-170f-4b36-95fe-27c03fabe649",
   "metadata": {},
   "outputs": [
    {
     "data": {
      "text/plain": [
       "[<matplotlib.lines.Line2D at 0x7f8398f11a50>]"
      ]
     },
     "execution_count": 32,
     "metadata": {},
     "output_type": "execute_result"
    },
    {
     "data": {
      "image/png": "[encoded data removed]",
      "text/plain": [
       "<Figure size 640x480 with 1 Axes>"
      ]
     },
     "metadata": {},
     "output_type": "display_data"
    }
   ],
   "source": [
    "cut = 15\n",
    "plt.loglog(ell[:cut], clex[:cut])"
   ]
  },
  {
   "cell_type": "code",
   "execution_count": 123,
   "id": "99ad68f9-27e9-40d6-b1d2-b061febd7be1",
   "metadata": {},
   "outputs": [],
   "source": [
    "import numpy as np\n",
    "\n",
    "fid_cls = np.log(fid_cls)\n",
    "\n",
    "# get covariance from fiducial sims\n",
    "C = np.cov(fid_cls.reshape(-1, fid_cls.shape[-1]), rowvar=False)\n",
    "invC = np.linalg.inv(C)\n",
    "\n",
    "\n",
    "mu = np.mean(fid_cls, 0)\n",
    "\n",
    "# next mean of derivatives\n",
    "\n",
    "# get derivatives\n",
    "δθ = 2*jnp.array([0.0115, 0.015])\n",
    "n_param = 2\n",
    "\n",
    "x_mp = np.log(derv_cls)\n",
    "\n",
    "# compute finite-differences for derivatives\n",
    "_dervs = (x_mp[:, 1, :, :] - x_mp[:, 0, :, :]) / np.expand_dims(np.expand_dims(δθ, 0), -1)\n",
    "\n",
    "mu_dervs = np.mean(_dervs, 0)"
   ]
  },
  {
   "cell_type": "code",
   "execution_count": 124,
   "id": "ad0c612a-c34c-4d8e-a48e-1bfe2a55de11",
   "metadata": {},
   "outputs": [
    {
     "data": {
      "text/plain": [
       "<matplotlib.colorbar.Colorbar at 0x7fd8ce8c6c90>"
      ]
     },
     "execution_count": 124,
     "metadata": {},
     "output_type": "execute_result"
    },
    {
     "data": {
      "image/png": "[encoded data removed]",
      "text/plain": [
       "<Figure size 640x480 with 2 Axes>"
      ]
     },
     "metadata": {},
     "output_type": "display_data"
    }
   ],
   "source": [
    "# visualize covariance matrix\n",
    "plt.imshow((C), vmin=0)\n",
    "plt.colorbar()"
   ]
  },
  {
   "cell_type": "code",
   "execution_count": 125,
   "id": "b60dd04a-e6c0-4e49-ace2-61fe229c7b02",
   "metadata": {},
   "outputs": [
    {
     "name": "stdout",
     "output_type": "stream",
     "text": [
      "minimum eigenvalue 0.000430830732473951\n",
      "maximum eigenvalue 1.4579150815354889\n"
     ]
    }
   ],
   "source": [
    "# check that covariance is well-estimated\n",
    "eigs,evecs = np.linalg.eig(C)\n",
    "print('minimum eigenvalue', np.min(eigs))\n",
    "print('maximum eigenvalue', np.max(eigs))"
   ]
  },
  {
   "cell_type": "code",
   "execution_count": 126,
   "id": "7886803f-14cd-44b3-9781-ce9975172ef7",
   "metadata": {},
   "outputs": [],
   "source": [
    "F = 0.5 * np.abs(np.einsum(\"ij,jl,kl->ik\", mu_dervs, invC, mu_dervs))"
   ]
  },
  {
   "cell_type": "code",
   "execution_count": 127,
   "id": "a58d81fe-58ef-43c1-8a22-f5325c38f773",
   "metadata": {},
   "outputs": [
    {
     "data": {
      "text/plain": [
       "array([[32599.38599445,  3576.44061422],\n",
       "       [ 3576.44061422,  1036.64180952]])"
      ]
     },
     "execution_count": 127,
     "metadata": {},
     "output_type": "execute_result"
    }
   ],
   "source": [
    "F # lpt1, L500, N256"
   ]
  },
  {
   "cell_type": "code",
   "execution_count": 87,
   "id": "88def5f6-f278-4e0e-8140-b9f6181fb3e3",
   "metadata": {},
   "outputs": [
    {
     "data": {
      "text/plain": [
       "array([[143330.74504813,   5456.72426063],\n",
       "       [  5456.72426063,   1508.20848602]])"
      ]
     },
     "execution_count": 87,
     "metadata": {},
     "output_type": "execute_result"
    }
   ],
   "source": [
    "F"
   ]
  },
  {
   "cell_type": "code",
   "execution_count": 27,
   "id": "723780f9-661b-4ee8-bcbe-8e99a436078e",
   "metadata": {},
   "outputs": [],
   "source": [
    "#@title fisher code\n",
    "import matplotlib.pyplot as plt\n",
    "from matplotlib.patches import Ellipse\n",
    "\n",
    "def plot_fisher_ellipse(fisher_matrix, mean=None, ax=None, color='blue', \n",
    "                        alpha=1.0, linestyle='-',\n",
    "                       label=\"\"):\n",
    "    \"\"\"\n",
    "    Plots a Fisher information matrix ellipse.\n",
    "\n",
    "    Parameters:\n",
    "        fisher_matrix (numpy.ndarray): Fisher information matrix.\n",
    "        mean (numpy.ndarray, optional): Mean vector. Defaults to None, in which case the ellipse will be centered at (0, 0).\n",
    "        ax (matplotlib.axes.Axes, optional): Axes to plot on. If not provided, a new figure will be created.\n",
    "        color (str, optional): Color of the ellipse. Defaults to 'blue'.\n",
    "        alpha (float, optional): Transparency of the ellipse. Defaults to 0.5.\n",
    "        linestyle (str, optional): Linestyle of the ellipse. Defaults to '-'.\n",
    "\n",
    "    Returns:\n",
    "        matplotlib.axes.Axes: Axes object with the ellipse plotted.\n",
    "    \"\"\"\n",
    "    if ax is None:\n",
    "        _, ax = plt.subplots()\n",
    "\n",
    "    # Invert the Fisher information matrix to get the covariance matrix\n",
    "    covariance_matrix = np.linalg.inv(fisher_matrix)\n",
    "\n",
    "    # Calculate eigenvalues and eigenvectors of the covariance matrix\n",
    "    eigenvalues, eigenvectors = np.linalg.eigh(covariance_matrix)\n",
    "    order = eigenvalues.argsort()[::-1]\n",
    "    eigenvalues = eigenvalues[order]\n",
    "    eigenvectors = eigenvectors[:, order]\n",
    "\n",
    "    # Calculate ellipse angle\n",
    "    angle = np.degrees(np.arctan2(*eigenvectors[:, 0][::-1]))\n",
    "\n",
    "    # If mean is provided, set the center of the ellipse accordingly\n",
    "    if mean is not None:\n",
    "        center = mean\n",
    "    else:\n",
    "        center = np.zeros_like(covariance_matrix.shape[0])\n",
    "\n",
    "    # Create ellipse for 1-sigma contour\n",
    "    ellipse = Ellipse(xy=center,\n",
    "                      width=2 * np.sqrt(eigenvalues[0]),\n",
    "                      height=2 * np.sqrt(eigenvalues[1]),\n",
    "                      angle=angle,\n",
    "                      edgecolor=color,\n",
    "                      linestyle=linestyle,\n",
    "                      facecolor='none',\n",
    "                      alpha=alpha,\n",
    "                      label=label)\n",
    "\n",
    "    # Create ellipse for 2-sigma contour\n",
    "    ellipse2 = Ellipse(xy=center,\n",
    "                       width=2 * 2 * np.sqrt(eigenvalues[0]),\n",
    "                       height=2 * 2 * np.sqrt(eigenvalues[1]),\n",
    "                       angle=angle,\n",
    "                       edgecolor=color,\n",
    "                       linestyle=linestyle,\n",
    "                       facecolor='none',\n",
    "                       alpha=alpha)\n",
    "\n",
    "    ax.add_patch(ellipse)\n",
    "    ax.add_patch(ellipse2)\n",
    "    #ax.set_aspect('equal', 'box')\n",
    "    ax.autoscale()\n",
    "    return ax"
   ]
  },
  {
   "cell_type": "code",
   "execution_count": 28,
   "id": "5d16636d-837b-43c2-a594-0769b012634d",
   "metadata": {},
   "outputs": [
    {
     "data": {
      "image/png": "[encoded data removed]",
      "text/plain": [
       "<Figure size 640x480 with 1 Axes>"
      ]
     },
     "metadata": {},
     "output_type": "display_data"
    }
   ],
   "source": [
    "# Example usage:\n",
    "fisher_matrix = F# Example Fisher information matrix\n",
    "\n",
    "mean = θ_fid # Example mean vector\n",
    "plot_fisher_ellipse(fisher_matrix, mean=mean)\n",
    "plt.xlabel(r'$\\Omega_m$')\n",
    "plt.ylabel(r'$\\sigma_8$')\n",
    "#plt.title('Fisher Information Matrix Ellipse')\n",
    "plt.grid(True)\n",
    "plt.show()\n",
    "\n",
    "# lpt=2"
   ]
  },
  {
   "cell_type": "markdown",
   "id": "72579420-2ac8-4421-82ef-d56d1a66b3c3",
   "metadata": {},
   "source": [
    "### plot all fishers together"
   ]
  },
  {
   "cell_type": "code",
   "execution_count": 65,
   "id": "d90ff833-7570-42bf-9966-2954b9079348",
   "metadata": {},
   "outputs": [
    {
     "data": {
      "text/plain": [
       "2"
      ]
     },
     "execution_count": 65,
     "metadata": {},
     "output_type": "execute_result"
    }
   ],
   "source": [
    "lpt_order"
   ]
  },
  {
   "cell_type": "code",
   "execution_count": 128,
   "id": "35ba3cf6-8a26-417e-883c-fef45b0f320a",
   "metadata": {},
   "outputs": [
    {
     "data": {
      "image/png": "[encoded data removed]",
      "text/plain": [
       "<Figure size 640x480 with 1 Axes>"
      ]
     },
     "metadata": {},
     "output_type": "display_data"
    }
   ],
   "source": [
    "# for 1000 mpc window, L=256\n",
    "lpt_orders = [0, 1, 2]\n",
    "\n",
    "F_lpt1_3tomo = np.array([[7481.87735313,  121.0116209 ],\n",
    "       [ 121.0116209 ,  257.86654146]])\n",
    "\n",
    "F_lpt1_3tomo_N256 = np.array([[143330.74504813,   5456.72426063],\n",
    "       [  5456.72426063,   1508.20848602]])\n",
    "\n",
    "F_lpt2_3tomo_N256 = np.array([[184716.98278826,   3015.6886297 ],\n",
    "       [  3015.6886297 ,   1941.91558852]]\n",
    ")\n",
    "\n",
    "fishers = [\n",
    "    F,\n",
    "    F_lpt1_3tomo_N256,\n",
    "    F_lpt2_3tomo_N256,\n",
    "]\n",
    "\n",
    "\n",
    "mean = θ_fid # Example mean vector\n",
    "\n",
    "colours =[\"blue\", \"orange\", \"red\"]\n",
    "\n",
    "for i,f in enumerate(fishers): \n",
    "    if i==0:\n",
    "        ax = plot_fisher_ellipse(f, mean=mean, color=colours[i], label=\"LPT=%d\"%(lpt_orders[i]))\n",
    "    else:\n",
    "        plot_fisher_ellipse(f, mean=mean, ax=ax, color=colours[i], label=\"LPT=%d\"%(lpt_orders[i]))\n",
    "\n",
    "plt.legend(framealpha=0.0)\n",
    "\n",
    "plt.xlabel(r'$\\Omega_m$')\n",
    "plt.ylabel(r'$\\sigma_8$')\n",
    "#plt.title('Fisher Information Matrix Ellipse')\n",
    "\n",
    "#plt.grid(True)\n",
    "plt.show()"
   ]
  },
  {
   "cell_type": "code",
   "execution_count": 39,
   "id": "558b3230-7dfa-4342-9b4d-c97fa5a455b3",
   "metadata": {},
   "outputs": [
    {
     "data": {
      "text/plain": [
       "[13.40811634250064, 9.521694163330123, 9.836164989709502]"
      ]
     },
     "execution_count": 39,
     "metadata": {},
     "output_type": "execute_result"
    }
   ],
   "source": [
    "[0.5*np.log(np.linalg.det(f)) for f in fishers]"
   ]
  },
  {
   "cell_type": "code",
   "execution_count": 476,
   "id": "37c4d88c-1407-49e5-87ac-83affb6e6506",
   "metadata": {},
   "outputs": [],
   "source": [
    "F_lpt1_3tomo = np.array([[7481.87735313,  121.0116209 ],\n",
    "       [ 121.0116209 ,  257.86654146]])"
   ]
  },
  {
   "cell_type": "code",
   "execution_count": null,
   "id": "5fcbd87f-1141-4ffe-bc9b-976fec42aaae",
   "metadata": {},
   "outputs": [],
   "source": [
    "F_lpt1_3tomo_N256 = np.array([[[143330.74504813,   5456.72426063],\n",
    "       [  5456.72426063,   1508.20848602]])"
   ]
  },
  {
   "cell_type": "markdown",
   "id": "e4ef0235-a9b6-482f-ae44-302436c1f6da",
   "metadata": {},
   "source": [
    "# generate a shitton of simulations over a prior"
   ]
  },
  {
   "cell_type": "code",
   "execution_count": 48,
   "id": "dd3a956c-b8fc-4c04-a21f-3227bf4eaf0e",
   "metadata": {},
   "outputs": [
    {
     "name": "stderr",
     "output_type": "stream",
     "text": [
      "100%|██████████| 2500/2500 [15:54<00:00,  2.62it/s]\n"
     ]
    }
   ],
   "source": [
    "import jax.random as jrnd\n",
    "\n",
    "def get_S8(omegam, sigma8):\n",
    "    return sigma8 * (jnp.sqrt(omegam / 0.3))\n",
    "\n",
    "key1 = jrnd.PRNGKey(44)\n",
    "key2 = jrnd.PRNGKey(45)\n",
    "\n",
    "\n",
    "num_sims = 5000\n",
    "key,rng = jrnd.split(key1)\n",
    "\n",
    "# DIFFERENT RANDOM SEEDS !\n",
    "omegams = jrnd.uniform(key1, shape=(num_sims,), minval=0.15, maxval=0.7)\n",
    "# sigma8s = jrnd.uniform(key2, shape=(num_sims,), minval=0.5, maxval=1.0)\n",
    "\n",
    "# S8s = get_S8(omegams, sigma8s)\n",
    "\n",
    "S8s = jrnd.uniform(key2, shape=(num_sims,), minval=0.35, maxval=1.52)\n",
    "\n",
    "θ_prior = jnp.stack([omegams, S8s], -1)\n",
    "\n",
    "prior_keys = jnp.arange(num_sims) + 345666\n",
    "\n",
    "\n",
    "\n",
    "# now make a bunch of simulations (batch in size 50)\n",
    "batch = 2\n",
    "input_shape = (4,N,N)\n",
    "\n",
    "# now fiducial\n",
    "prior_sims = jnp.zeros((num_sims,) + (input_shape))\n",
    "\n",
    "# would this compile faster if I just broadcasted the vmap over copies of θ_fid \n",
    "mysim = lambda s: simulator(s, θ=θ_fid)\n",
    "                            \n",
    "for i in tqdm(range(num_sims // batch)):\n",
    "    \n",
    "    #sims = jax.vmap(simulator)(fid_keys[i*batch:(i+1)*batch], jnp.ones((batch, θ_fid.shape[0]))*θ_fid)\n",
    "    #sims = jax.vmap(mysim)(fid_keys[i*batch:(i+1)*batch])\n",
    "    #fid.append(sims)\n",
    "\n",
    "    prior_sims = prior_sims.at[i*batch:(i+1)*batch].set(\n",
    "                    jax.vmap(simulator)(prior_keys[i*batch:(i+1)*batch], θ_prior[i*batch:(i+1)*batch]))\n",
    "\n",
    "#prior_sims = jnp.concatenate(prior_sims)"
   ]
  },
  {
   "cell_type": "code",
   "execution_count": 45,
   "id": "3bb59c5e-ffc9-458d-95c5-a5dc323bb566",
   "metadata": {},
   "outputs": [
    {
     "data": {
      "text/plain": [
       "250"
      ]
     },
     "execution_count": 45,
     "metadata": {},
     "output_type": "execute_result"
    }
   ],
   "source": [
    "L"
   ]
  },
  {
   "cell_type": "code",
   "execution_count": 49,
   "id": "e726cdbf-175b-4bdf-8b41-3f534f7c38cb",
   "metadata": {},
   "outputs": [],
   "source": [
    "outdir = \"/data101/makinen/lemur_sims/pm_sims/\"\n",
    "\n",
    "jnp.savez(outdir + \"prior_S8_L_%d_N_%d_Nz_512\"%(L, N),\n",
    "          prior_sims=prior_sims,\n",
    "          prior_theta=θ_prior\n",
    "         )"
   ]
  },
  {
   "cell_type": "code",
   "execution_count": 50,
   "id": "e324223d-f6ac-430a-a36b-66c94b655a12",
   "metadata": {},
   "outputs": [
    {
     "data": {
      "text/plain": [
       "(5000, 4, 64, 64)"
      ]
     },
     "execution_count": 50,
     "metadata": {},
     "output_type": "execute_result"
    }
   ],
   "source": [
    "prior_sims.shape"
   ]
  },
  {
   "cell_type": "code",
   "execution_count": 16,
   "id": "93d5b4db-a2ec-430b-b5e2-c6e83ac7d95e",
   "metadata": {},
   "outputs": [],
   "source": [
    "outdir = \"/data101/makinen/lemur_sims/first_analysis/\"\n",
    "jnp.save(outdir + \"prior_tomo_L_%d_N_%d_Nz_512_LPT%d\"%(L, N, lpt_order), prior_sims)"
   ]
  },
  {
   "cell_type": "code",
   "execution_count": 64,
   "id": "5d0e80ec-8a88-454d-99aa-4307023e7ff7",
   "metadata": {},
   "outputs": [
    {
     "name": "stdout",
     "output_type": "stream",
     "text": [
      "CPU times: user 138 ms, sys: 65.1 ms, total: 203 ms\n",
      "Wall time: 667 ms\n"
     ]
    }
   ],
   "source": [
    "%time kappatest = jax.block_until_ready(simulator(20, jnp.array([0.3, 0.8])))"
   ]
  },
  {
   "cell_type": "code",
   "execution_count": 65,
   "id": "6e6cfc1b-da18-4ed7-ab33-bd947c35b46a",
   "metadata": {},
   "outputs": [
    {
     "name": "stderr",
     "output_type": "stream",
     "text": [
      "/tmp/ipykernel_1888333/3301866353.py:32: MatplotlibDeprecationWarning: The toggle_label function was deprecated in Matplotlib 3.8 and will be removed two minor releases later. Use ax.tick_params and colorbar.set_label instead.\n",
      "  ax.cax.toggle_label(True)\n"
     ]
    },
    {
     "data": {
      "image/jpeg": "[encoded data removed]",
      "text/plain": [
       "<Figure size 975x300 with 8 Axes>"
      ]
     },
     "metadata": {},
     "output_type": "display_data"
    }
   ],
   "source": [
    "import numpy as np\n",
    "import matplotlib.pyplot as plt\n",
    "from mpl_toolkits.axes_grid1 import ImageGrid\n",
    "\n",
    "# Set up figure and image grid\n",
    "fig = plt.figure(figsize=(9.75, 3))\n",
    "\n",
    "grid = ImageGrid(fig, 111,          # as in plt.subplot(111)\n",
    "                 nrows_ncols=(1,4),\n",
    "                 axes_pad=0.15,\n",
    "                 share_all=True,\n",
    "                 cbar_location=\"right\",\n",
    "                 cbar_mode=\"single\",\n",
    "                 cbar_size=\"7%\",\n",
    "                 cbar_pad=0.15,\n",
    "                 )\n",
    "\n",
    "for i,z in enumerate(z_means_analysis):\n",
    "    ax = grid[i]\n",
    "    im = ax.imshow(kappatest[i], \n",
    "                   # vmin=-kappa_extr, \n",
    "                   # vmax=kappa_extr, \n",
    "                   interpolation='spline36',\n",
    "                   cmap='magma'\n",
    "                  )\n",
    "    ax.set_xticks([])\n",
    "    ax.set_yticks([])\n",
    "    ax.set_title(\"z=%.1f\"%(z))\n",
    "    \n",
    "# Colorbar\n",
    "ax.cax.colorbar(im)\n",
    "ax.cax.toggle_label(True)\n",
    "\n",
    "#plt.tight_layout()    # Works, but may still require rect paramater to keep colorbar labels visible\n",
    "plt.show()"
   ]
  },
  {
   "cell_type": "code",
   "execution_count": null,
   "id": "e1b35d54-7839-4629-aea3-c17f369065c6",
   "metadata": {},
   "outputs": [],
   "source": []
  }
 ],
 "metadata": {
  "kernelspec": {
   "display_name": "Python 3 (ipykernel)",
   "language": "python",
   "name": "python3"
  },
  "language_info": {
   "codemirror_mode": {
    "name": "ipython",
    "version": 3
   },
   "file_extension": ".py",
   "mimetype": "text/x-python",
   "name": "python",
   "nbconvert_exporter": "python",
   "pygments_lexer": "ipython3",
   "version": "3.11.5"
  }
 },
 "nbformat": 4,
 "nbformat_minor": 5
}
