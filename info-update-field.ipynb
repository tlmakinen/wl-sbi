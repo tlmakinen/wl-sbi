{
 "cells": [
  {
   "cell_type": "markdown",
   "id": "91376f5d-c6e5-4c1d-8d68-0ea60d1933cc",
   "metadata": {},
   "source": [
    "## run a field-level IMNN on simulations with noise"
   ]
  },
  {
   "cell_type": "code",
   "execution_count": 2,
   "id": "73713e9f-5656-4793-95a4-6784961767b0",
   "metadata": {},
   "outputs": [
    {
     "name": "stdout",
     "output_type": "stream",
     "text": [
      "/home/makinen/repositories/wl-sbi/imnn_scripts\n"
     ]
    },
    {
     "name": "stderr",
     "output_type": "stream",
     "text": [
      "/home/makinen/venvs/lemur/lib64/python3.11/site-packages/IPython/core/magics/osm.py:417: UserWarning: using dhist requires you to install the `pickleshare` library.\n",
      "  self.shell.db['dhist'] = compress_dhist(dhist)[-100:]\n"
     ]
    }
   ],
   "source": [
    "cd imnn_scripts/"
   ]
  },
  {
   "cell_type": "code",
   "execution_count": 96,
   "id": "71dd8cd7-0598-4d97-88dd-ba8982e2d788",
   "metadata": {},
   "outputs": [
    {
     "name": "stdout",
     "output_type": "stream",
     "text": [
      "The autoreload extension is already loaded. To reload it, use:\n",
      "  %reload_ext autoreload\n"
     ]
    }
   ],
   "source": [
    "import math\n",
    "import jax\n",
    "import jax.numpy as jnp\n",
    "import jax_cosmo as jc\n",
    "import optax\n",
    "import matplotlib.pyplot as plt\n",
    "from functools import partial\n",
    "import flax.linen as nn\n",
    "\n",
    "import jax.random as jr\n",
    "\n",
    "import cloudpickle as pickle\n",
    "\n",
    "\n",
    "np = jnp\n",
    "\n",
    "from imnns import *\n",
    "\n",
    "def save_obj(obj, name ):\n",
    "    with open(name + '.pkl', 'wb') as f:\n",
    "        pickle.dump(obj, f)\n",
    "        \n",
    "def load_obj(name):\n",
    "    with open(name, 'rb') as f:\n",
    "        return pickle.load(f)\n",
    "\n",
    "\n",
    "%load_ext autoreload\n",
    "%autoreload 2"
   ]
  },
  {
   "cell_type": "markdown",
   "id": "964ef6d9-26da-46a5-83a3-0f57839a2348",
   "metadata": {},
   "source": [
    "### info-update imnn"
   ]
  },
  {
   "cell_type": "code",
   "execution_count": 4,
   "id": "698cac7e-da1e-49b4-8448-6b94cf36774f",
   "metadata": {},
   "outputs": [],
   "source": [
    "from imnns import _check_input\n",
    "from progress_bar import *\n",
    "\n",
    "\n",
    "class _updateIMNN:\n",
    "\n",
    "    def __init__(self, n_s, n_d, n_params, n_summaries, input_shape, θ_fid,\n",
    "                 model, optimiser, key_or_state, \n",
    "                 existing_statistic=None,\n",
    "                 dummy_graph_input=None, \n",
    "                 no_invC=False, \n",
    "                 do_reg=True,\n",
    "                 evidence=False):\n",
    "        \n",
    "        self.dummy_graph_input=dummy_graph_input\n",
    "        self.existing_statistic = existing_statistic\n",
    "        self._initialise_parameters(\n",
    "            n_s, n_d, n_params, n_summaries, input_shape, θ_fid)\n",
    "        self._initialise_model(model, optimiser, key_or_state)\n",
    "        self._initialise_history()\n",
    "        self.no_invC=no_invC\n",
    "        self.do_reg=do_reg\n",
    "        self.evidence=evidence\n",
    "\n",
    "\n",
    "    def _initialise_parameters(self, n_s, n_d, n_params, n_summaries,\n",
    "                               input_shape, θ_fid):\n",
    "        \n",
    "        self.n_s = n_s \n",
    "        self.n_d = n_d\n",
    "        self.n_params = n_params\n",
    "        self.n_summaries = n_summaries\n",
    "        self.input_shape = input_shape\n",
    "        self.θ_fid = θ_fid\n",
    "\n",
    "        self.validate = False\n",
    "        self.simulate = False\n",
    "        self._run_with_pbar = False\n",
    "        self._run_without_pbar = False\n",
    "\n",
    "        self.F = None\n",
    "        self.invF = None\n",
    "        self.C = None\n",
    "        self.invC = None\n",
    "        self.μ = None\n",
    "        self.dμ_dθ = None\n",
    "\n",
    "        self._model_initialiser = None\n",
    "        self.model = None\n",
    "        self._opt_initialiser = None\n",
    "        self._update = None\n",
    "        self._get_parameters = None\n",
    "        self.state = None\n",
    "        self.initial_w = None\n",
    "        self.final_w = None\n",
    "        self.best_w = None\n",
    "        self.w = None\n",
    "\n",
    "        self.history = None\n",
    "\n",
    "        if self.existing_statistic:\n",
    "            self._get_existing_stats(self.existing_statistic)\n",
    "\n",
    "    def _initialise_model(self, model, optimiser, key_or_state):\n",
    "\n",
    "        # initialize FLAX model here\n",
    "        self._model_initialiser = model.init\n",
    "        self.model = model.apply\n",
    "\n",
    "        # unpack optimiser\n",
    "        self._opt_initialiser, self._update = optimiser\n",
    "\n",
    "        #state, key = _check_state(key_or_state)\n",
    "        key = key_or_state\n",
    "\n",
    "        if key is not None:\n",
    "            key = key #_check_input(key, (2,), \"key_or_state\")\n",
    "            if self.dummy_graph_input is None:\n",
    "                dummy_x = jax.random.uniform(key, self.input_shape)\n",
    "            else:\n",
    "                dummy_x = self.dummy_graph_input\n",
    "\n",
    "            # INITIAL PARAMS\n",
    "            self.initial_w = self._model_initialiser(key, dummy_x)\n",
    "            \n",
    "            # DUMMY OUTPUT\n",
    "            output = self.model(self.initial_w, dummy_x)\n",
    "            # check to see if right shape\n",
    "            # check_model_output(output.shape, (self.n_summaries,))\n",
    "            # INITIAL STATE\n",
    "            self.state = self._opt_initialiser(self.initial_w)\n",
    "\n",
    "\n",
    "        else:\n",
    "            self.state = state\n",
    "            try:\n",
    "                self._get_parameters(self.state)\n",
    "            except Exception:\n",
    "                raise TypeError(\"`state` is not valid for extracting \" +\n",
    "                                \"parameters from\")\n",
    "\n",
    "        self.dummy_x = dummy_x\n",
    "        self.initial_w = self._model_initialiser(key, dummy_x)\n",
    "        self.final_w = self._model_initialiser(key, dummy_x)\n",
    "        self.best_w = self._model_initialiser(key, dummy_x)\n",
    "        self.w = self._model_initialiser(key, dummy_x)\n",
    "\n",
    "\n",
    "    def _initialise_history(self):\n",
    "\n",
    "        self.history = {\n",
    "            \"detF\": np.zeros((0,)),\n",
    "            \"detC\": np.zeros((0,)),\n",
    "            \"detinvC\": np.zeros((0,)),\n",
    "            \"Λ2\": np.zeros((0,)),\n",
    "            \"r\": np.zeros((0,)),\n",
    "            \"val_detF\": np.zeros((0,)),\n",
    "            \"val_detC\": np.zeros((0,)),\n",
    "            \"val_detinvC\": np.zeros((0,)),\n",
    "            \"val_Λ2\": np.zeros((0,)),\n",
    "            \"val_r\": np.zeros((0,)),\n",
    "            \"max_detF\": np.float32(0.)\n",
    "        }\n",
    "\n",
    "    def _set_history(self, results):\n",
    "        keys = [\"detF\", \"detC\", \"detinvC\", \"Λ2\", \"r\"]\n",
    "        for result, key in zip(results, keys):\n",
    "            self.history[key] = np.hstack([self.history[key], result[:, 0]])\n",
    "            if self.validate:\n",
    "                self.history[f\"val_{key}\"] = np.hstack(\n",
    "                    [self.history[f\"val_{key}\"], result[:, 1]])\n",
    "\n",
    "    def _set_inputs(self, rng, max_iterations):\n",
    "\n",
    "        if self.validate:\n",
    "            shape = (max_iterations, 2)\n",
    "        else:\n",
    "            shape = (max_iterations, 1)\n",
    "\n",
    "        return (\n",
    "            self.history[\"max_detF\"], self.best_w, np.zeros(shape),\n",
    "            np.zeros(shape), np.zeros(shape), np.zeros(shape), np.zeros(shape),\n",
    "            np.int32(0), np.int32(0), self.state, self.w, rng)\n",
    "\n",
    "    def fit(self, λ, ϵ, γ=1000., rng=None, patience=100, min_iterations=100,\n",
    "            max_iterations=int(1e5), print_rate=None, best=True):\n",
    "\n",
    "        @jax.jit\n",
    "        def _fit(inputs):\n",
    "\n",
    "            return jax.lax.while_loop(\n",
    "                partial(self._fit_cond, patience=patience,\n",
    "                        max_iterations=max_iterations),\n",
    "                partial(self._fit, λ=λ, α=α, γ=γ, min_iterations=min_iterations),\n",
    "                inputs)\n",
    "\n",
    "        def _fit_pbar(inputs):\n",
    "\n",
    "            return jax.lax.while_loop(\n",
    "                progress_bar(max_iterations, patience, print_rate)(\n",
    "                    partial(self._fit_cond, patience=patience,\n",
    "                            max_iterations=max_iterations)),\n",
    "                jax.jit(\n",
    "                    partial(self._fit, λ=λ, α=α,  γ=γ,\n",
    "                            min_iterations=min_iterations)),\n",
    "                inputs)\n",
    "\n",
    "        λ = λ \n",
    "        ϵ = ϵ \n",
    "        γ = γ \n",
    "        α = self.get_α(λ, ϵ)\n",
    "        patience = patience \n",
    "        min_iterations = min_iterations \n",
    "        max_iterations = max_iterations \n",
    "        best = best\n",
    "        if self.simulate and (rng is None):\n",
    "            raise ValueError(\"`rng` is necessary when simulating.\")\n",
    "        rng = rng\n",
    "        inputs = self._set_inputs(rng, max_iterations)\n",
    "        if print_rate is None:\n",
    "            if self._run_with_pbar:\n",
    "                raise ValueError(\n",
    "                    \"Cannot run IMNN without progress bar after running \" +\n",
    "                    \"with progress bar. Either set `print_rate` to an int \" +\n",
    "                    \"or reinitialise the IMNN.\")\n",
    "            else:\n",
    "                self._run_without_pbar = True\n",
    "                results = _fit(inputs)\n",
    "        else:\n",
    "            if self._run_without_pbar:\n",
    "                raise ValueError(\n",
    "                    \"Cannot run IMNN with progress bar after running \" +\n",
    "                    \"without progress bar. Either set `print_rate` to None \" +\n",
    "                    \"or reinitialise the IMNN.\")\n",
    "            else:\n",
    "                print_rate = print_rate # _check_type(print_rate, int, \"print_rate\")\n",
    "                self._run_with_pbar = True\n",
    "                results = _fit_pbar(inputs)\n",
    "        self.history[\"max_detF\"] = results[0]\n",
    "        self.best_w = results[1]\n",
    "        self._set_history(\n",
    "            (results[2][:results[7]],\n",
    "             results[3][:results[7]],\n",
    "             results[4][:results[7]],\n",
    "             results[5][:results[7]],\n",
    "             results[6][:results[7]]))\n",
    "        if len(results) == 12:\n",
    "            self.state = results[-3]\n",
    "        self.final_w = results[-2] #self._get_parameters(self.state)\n",
    "        if best:\n",
    "            w = self.best_w\n",
    "        else:\n",
    "            w = self.final_w\n",
    "        self.set_F_statistics(w, key=rng)\n",
    "\n",
    "    def _get_fitting_keys(self, rng):\n",
    "        if rng is not None:\n",
    "            return jax.random.split(rng, num=3)\n",
    "        else:\n",
    "            return None, None, None\n",
    "\n",
    "    def get_α(self, λ, ϵ):\n",
    "        return - math.log(ϵ * (λ - 1.) + ϵ ** 2. / (1 + ϵ)) / ϵ\n",
    "\n",
    "    #@progress_bar_scan(num_samples)\n",
    "    def _fit(self, inputs, λ=None, α=None, γ=None,  min_iterations=None):\n",
    "\n",
    "        max_detF, best_w, detF, detC, detinvC, Λ2, r, \\\n",
    "            counter, patience_counter, state, w, rng = inputs\n",
    "        rng, training_key, validation_key = self._get_fitting_keys(rng)\n",
    "\n",
    "\n",
    "        grad, results = jax.grad(\n",
    "            self._get_loss, argnums=0, has_aux=True)(w, λ, α, γ, training_key)\n",
    "\n",
    "        #if self.pass_params:\n",
    "        updates, state = self._update(grad, state, w)\n",
    "\n",
    "        w = optax.apply_updates(w, updates) # UPDATE PARAMS\n",
    "\n",
    "        detF, detC, detinvC, Λ2, r = self._update_history(\n",
    "            results, (detF, detC, detinvC, Λ2, r), counter, 0)\n",
    "        if self.validate:\n",
    "            F, C, invC, *_ = self._get_F_statistics(\n",
    "                w, key=validation_key, validate=True)\n",
    "            _Λ2 = self._get_regularisation(C, invC)\n",
    "            _r = self._get_regularisation_strength(_Λ2, λ, α)\n",
    "            results = (F, C, invC, _Λ2, _r)\n",
    "            detF, detC, detinvC, Λ2, r = self._update_history(\n",
    "                results, (detF, detC, detinvC, Λ2, r), counter, 1)\n",
    "        _detF = np.linalg.det(results[0])\n",
    "        patience_counter, counter, _, max_detF, __, best_w = \\\n",
    "            jax.lax.cond(\n",
    "                np.greater(_detF, max_detF),\n",
    "                self._update_loop_vars,\n",
    "                lambda inputs: self._check_loop_vars(inputs, min_iterations),\n",
    "                (patience_counter, counter, _detF, max_detF, w, best_w))\n",
    "        return (max_detF, best_w, detF, detC, detinvC, Λ2, r,\n",
    "                counter + np.int32(1), patience_counter, state, w, rng)\n",
    "\n",
    "    def _fit_cond(self, inputs, patience, max_iterations):\n",
    "        return np.logical_and(\n",
    "            np.less(inputs[-4], patience),\n",
    "            np.less(inputs[-5], max_iterations))\n",
    "\n",
    "    def _update_loop_vars(self, inputs):\n",
    "        patience_counter, counter, detF, max_detF, w, best_w = inputs\n",
    "        return (np.int32(0), counter, detF, detF, w, w)\n",
    "\n",
    "    def _check_loop_vars(self, inputs, min_iterations):\n",
    "        patience_counter, counter, detF, max_detF, w, best_w = inputs\n",
    "        patience_counter = jax.lax.cond(\n",
    "            np.greater(counter, min_iterations),\n",
    "            lambda patience_counter: patience_counter + np.int32(1),\n",
    "            lambda patience_counter: patience_counter,\n",
    "            patience_counter)\n",
    "        return (patience_counter, counter, detF, max_detF, w, best_w)\n",
    "\n",
    "    def _update_history(self, inputs, history, counter, ind):\n",
    "        F, C, invC, _Λ2, _r = inputs\n",
    "        detF, detC, detinvC, Λ2, r = history\n",
    "        detF = detF.at[counter, ind].set(np.linalg.det(F))\n",
    "        detC = detC.at[counter, ind].set(np.linalg.det(C))\n",
    "        detinvC = detinvC.at[counter, ind].set(np.linalg.det(invC))\n",
    "        Λ2 = Λ2.at[counter, ind].set(_Λ2)\n",
    "        r = r.at[counter, ind].set(_r)\n",
    "        return detF, detC, detinvC, Λ2, r\n",
    "\n",
    "\n",
    "    # INFORMATION UPDATE STUFF\n",
    "    def _get_existing_stats(self, existing_statistic):\n",
    "        # if not self.existing_statistic:\n",
    "        #     raise ValueError(\n",
    "        #             \"This IMNN has not been initialised as an information-update \" +\n",
    "        #             \"IMNN. Pleasereinitialise the IMNN with an existing statistic.\")\n",
    "        # else:\n",
    "        self.n_t = existing_statistic[\"n_t\"]\n",
    "        self.μ_t = existing_statistic[\"mean_derivatives\"]\n",
    "        self.C_t = existing_statistic[\"covariance\"]\n",
    "        self.C_t_inv = np.linalg.inv(self.C_t)\n",
    "        self.F_t = existing_statistic[\"Fisher\"]\n",
    "        self.summaries_t = existing_statistic[\"fid_summaries\"] # could also pass a function to get these from fiducial ?\n",
    "        \n",
    "        \n",
    "\n",
    "    def _slogdet(self, matrix):\n",
    "        lndet = np.linalg.slogdet(matrix)\n",
    "        return lndet[0] * lndet[1]\n",
    "\n",
    "    def _construct_derivatives(self, derivatives):\n",
    "        return derivatives\n",
    "\n",
    "    def set_F_statistics(self, w=None, key=None, validate=True):\n",
    "\n",
    "        if validate and ((not self.validate) and (not self.simulate)):\n",
    "            validate = False\n",
    "        if w is not None:\n",
    "            self.w = w\n",
    "        self.F, self.C, self.invC, self.dμ_dθ, self.μ, self.F_loss = \\\n",
    "            self._get_F_statistics(key=key, validate=validate)\n",
    "        self.invF = np.linalg.inv(self.F)\n",
    "\n",
    "    def _get_F_statistics(self, w=None, key=None, validate=False):\n",
    "        \n",
    "        if w is None:\n",
    "            w = self.w\n",
    "        summaries, derivatives = self.get_summaries(\n",
    "            w=w, key=key, validate=validate)\n",
    "        return self._calculate_F_statistics(summaries, derivatives)\n",
    "\n",
    "    @partial(jax.jit, static_argnums=0)\n",
    "    def _calculate_F_statistics(self, summaries, derivatives):\n",
    "        derivatives = self._construct_derivatives(derivatives)\n",
    "        μ = np.mean(summaries, axis=0)\n",
    "        C = np.cov(summaries, rowvar=False)\n",
    "        if self.n_summaries == 1:\n",
    "            C = np.array([[C]])\n",
    "        invC = np.linalg.inv(C)\n",
    "\n",
    "        if self.no_invC:\n",
    "            invC_loss = np.eye(self.n_summaries)\n",
    "        else:\n",
    "            invC_loss = invC\n",
    "            \n",
    "        dμ_dθ = np.mean(derivatives, axis=0)\n",
    "\n",
    "        # NOW DO INFORMATION UPDATE OPTION\n",
    "        if self.existing_statistic is not None:\n",
    "            # calculate covariance between imnn summaries and existing summaries\n",
    "            u = np.cov(self.summaries_t[:self.n_s], summaries, rowvar=False)\n",
    "            u = u[:self.n_t, self.n_t:] # lower block diagonal vector TODO: CHECK THIS SHAPE IN EINSUM\n",
    "            \n",
    "            Λ_info = dμ_dθ - np.einsum(\"ij,jk,kl->il\", self.μ_t, self.C_t_inv, u)\n",
    "            Σ = C - jnp.einsum(\"ji,jk,kl->il\", u, self.C_t_inv, u)\n",
    "            invΣ = np.linalg.inv(Σ)\n",
    "            F = self.F_t + np.einsum(\"ij,jk,lk->il\", Λ_info, invΣ, Λ_info)\n",
    "            F_loss = F\n",
    "\n",
    "            # TODO: CHECK THIS\n",
    "            #C = Σ\n",
    "            #invC = invΣ\n",
    "\n",
    "        else:\n",
    "            F = np.einsum(\"ij,ik,kl->jl\", dμ_dθ, invC, dμ_dθ)\n",
    "            F_loss = np.einsum(\"ij,ik,kl->jl\", dμ_dθ, invC_loss, dμ_dθ)\n",
    "\n",
    "        \n",
    "        return (F, C, invC, dμ_dθ, μ, F_loss)\n",
    "\n",
    "    @partial(jax.jit, static_argnums=0)\n",
    "    def _get_regularisation_strength(self, Λ2, λ, α):\n",
    "        return λ * Λ2 / (Λ2 + np.exp(-α * Λ2))\n",
    "\n",
    "    @partial(jax.jit, static_argnums=0)\n",
    "    def _get_regularisation(self, C, invC):\n",
    "        if self.no_invC:\n",
    "            if self.evidence:\n",
    "                #reg = -(np.log(np.linalg.det(C)) - np.trace(C) + self.n_params)\n",
    "                reg = np.trace(C)\n",
    "            else:\n",
    "                reg = np.linalg.norm(C - np.eye(self.n_summaries))\n",
    "\n",
    "        else:\n",
    "            reg = np.linalg.norm(C - np.eye(self.n_summaries)) + \\\n",
    "                np.linalg.norm(invC - np.eye(self.n_summaries))\n",
    "        return reg\n",
    "\n",
    "    def _get_loss(self, w, λ, α, γ, key=None):\n",
    "        summaries, derivatives = self.get_summaries(w=w, key=key)\n",
    "        return self._calculate_loss(summaries, derivatives, λ, α, γ)\n",
    "\n",
    "    def _calculate_loss(self, summaries, derivatives, λ, α, γ):\n",
    "        F, C, invC, dμ_dθ, _, F_loss = self._calculate_F_statistics(\n",
    "            summaries, derivatives)\n",
    "        lndetF = self._slogdet(F_loss)\n",
    "        Λ2 = self._get_regularisation(C, invC)\n",
    "        if self.do_reg:\n",
    "            r = self._get_regularisation_strength(Λ2, λ, α)\n",
    "        else:\n",
    "            r = γ*0.5\n",
    "        return - lndetF + r * Λ2, (F, C, invC, Λ2, r)\n",
    "\n",
    "    def get_summaries(self, w=None, key=None, validate=False):\n",
    "        raise ValueError(\"`get_summaries` not implemented\")\n",
    "\n",
    "    def get_estimate(self, d):\n",
    "\n",
    "        @jax.jit\n",
    "        def single_element(d):\n",
    "            return self.θ_fid + np.einsum(\n",
    "                \"ij,kj,kl,l->i\",\n",
    "                self.invF,\n",
    "                self.dμ_dθ,\n",
    "                self.invC,\n",
    "                self.model(self.w, d) - self.μ)\n",
    "\n",
    "        @jax.jit\n",
    "        def multiple_elements(d):\n",
    "\n",
    "            def fn(d):\n",
    "                return self.model(self.w, d)\n",
    "            return self.θ_fid + np.einsum(\n",
    "                \"ij,kj,kl,ml->mi\",\n",
    "                self.invF,\n",
    "                self.dμ_dθ,\n",
    "                self.invC,\n",
    "                jax.vmap(fn)(d) - self.μ)\n",
    "\n",
    "        _check_statistics_set(self.invF, self.dμ_dθ, self.invC, self.μ)\n",
    "        # check shape: array or graph ?\n",
    "        if self.dummy_graph_input is None:\n",
    "          if len(d.shape) == 1:\n",
    "              return single_element(d)\n",
    "          else:\n",
    "              return multiple_elements(d)\n",
    "        else:\n",
    "            return single_element(d)\n",
    "\n",
    "    def _setup_plot(self, ax=None, expected_detF=None, figsize=(5, 15)):\n",
    "\n",
    "        if ax is None:\n",
    "            fig, ax = plt.subplots(3, 1, sharex=True, figsize=figsize)\n",
    "            plt.subplots_adjust(hspace=0.05)\n",
    "        ax = [x for x in ax] + [ax[2].twinx()]\n",
    "        if expected_detF is not None:\n",
    "            ax[0].axhline(expected_detF, linestyle=\"dashed\", color=\"black\")\n",
    "        ax[0].set_ylabel(r\"$|{\\bf F}|$\")\n",
    "        ax[1].axhline(1, linestyle=\"dashed\", color=\"black\")\n",
    "        ax[1].set_ylabel(r\"$|{\\bf C}|$ and $|{\\bf C}^{-1}|$\")\n",
    "        ax[1].set_yscale(\"log\")\n",
    "        ax[2].set_xlabel(\"Number of iterations\")\n",
    "        ax[2].set_ylabel(r\"$\\Lambda_2$\")\n",
    "        ax[3].set_ylabel(r\"$r$\")\n",
    "        return ax\n",
    "\n",
    "    def plot(self, ax=None, expected_detF=None, colour=\"C0\", figsize=(5, 15),\n",
    "             label=\"\", filename=None, ncol=1):\n",
    "\n",
    "        if ax is None:\n",
    "            ax = self._setup_plot(expected_detF=expected_detF, figsize=figsize)\n",
    "        ax[0].set_xlim(\n",
    "            0, max(self.history[\"detF\"].shape[0] - 1, ax[0].get_xlim()[-1]))\n",
    "        ax[0].plot(self.history[\"detF\"], color=colour,\n",
    "                   label=r\"{} $|F|$ (training)\".format(label))\n",
    "        ax[1].set_xlim(\n",
    "            0, max(self.history[\"detF\"].shape[0] - 1, ax[0].get_xlim()[-1]))\n",
    "        ax[1].plot(self.history[\"detC\"], color=colour,\n",
    "                   label=r\"{} $|C|$ (training)\".format(label))\n",
    "        ax[1].plot(self.history[\"detinvC\"], linestyle=\"dotted\", color=colour,\n",
    "                   label=label + r\" $|C^{-1}|$ (training)\")\n",
    "        ax[3].set_xlim(\n",
    "            0, max(self.history[\"detF\"].shape[0] - 1, ax[0].get_xlim()[-1]))\n",
    "        ax[2].plot(self.history[\"Λ2\"], color=colour,\n",
    "                   label=r\"{} $\\Lambda_2$ (training)\".format(label))\n",
    "        ax[3].plot(self.history[\"r\"], color=colour, linestyle=\"dashed\",\n",
    "                   label=r\"{} $r$ (training)\".format(label))\n",
    "        if self.validate:\n",
    "            ax[0].plot(self.history[\"val_detF\"], color=colour,\n",
    "                       label=r\"{} $|F|$ (validation)\".format(label),\n",
    "                       linestyle=\"dotted\")\n",
    "            ax[1].plot(self.history[\"val_detC\"], color=colour,\n",
    "                       label=r\"{} $|C|$ (validation)\".format(label),\n",
    "                       linestyle=\"dotted\")\n",
    "            ax[1].plot(self.history[\"val_detinvC\"],\n",
    "                       color=colour,\n",
    "                       label=label + r\" $|C^{-1}|$ (validation)\",\n",
    "                       linestyle=\"dashdot\")\n",
    "            ax[2].plot(self.history[\"val_Λ2\"], color=colour,\n",
    "                       label=r\"{} $\\Lambda_2$ (validation)\".format(label),\n",
    "                       linestyle=\"dotted\")\n",
    "            ax[3].plot(self.history[\"val_r\"], color=colour,\n",
    "                       label=r\"{} $r$ (validation)\".format(label),\n",
    "                       linestyle=\"dashdot\")\n",
    "        h1, l1 = ax[2].get_legend_handles_labels()\n",
    "        h2, l2 = ax[3].get_legend_handles_labels()\n",
    "        ax[0].legend(bbox_to_anchor=(1.0, 1.0), frameon=False, ncol=ncol)\n",
    "        ax[1].legend(frameon=False, bbox_to_anchor=(1.0, 1.0), ncol=ncol * 2)\n",
    "        ax[3].legend(h1 + h2, l1 + l2, bbox_to_anchor=(1.05, 1.0),\n",
    "                     frameon=False, ncol=ncol * 2)\n",
    "\n",
    "        if filename is not None:\n",
    "            plt.savefig(filename, bbox_inches=\"tight\", transparent=True)\n",
    "        return ax\n",
    "\n",
    "\n",
    "\n",
    "\n",
    "##### NUM GRAD IMNN #####\n",
    "## PUT IN NOISE NUMERICAL GRAD IMNN\n",
    "\n",
    "class NumericalGradientIMNN(_updateIMNN):\n",
    "    \"\"\"Information maximising neural network fit using numerical derivatives\n",
    "    \"\"\"\n",
    "    def __init__(self, n_s, n_d, n_params, n_summaries, input_shape, θ_fid,\n",
    "                 model, optimiser, key_or_state, fiducial, derivative, δθ,\n",
    "                 validation_fiducial=None, validation_derivative=None, \n",
    "                    existing_statistic=None,\n",
    "                 dummy_graph_input=None,\n",
    "                 no_invC=False, do_reg=True, evidence=False):\n",
    "\n",
    "        super().__init__(\n",
    "            n_s=n_s,\n",
    "            n_d=n_d,\n",
    "            n_params=n_params,\n",
    "            n_summaries=n_summaries,\n",
    "            input_shape=input_shape,\n",
    "            θ_fid=θ_fid,\n",
    "            model=model,\n",
    "            key_or_state=key_or_state,\n",
    "            optimiser=optimiser,\n",
    "            existing_statistic=existing_statistic,\n",
    "            dummy_graph_input=dummy_graph_input,\n",
    "            no_invC=no_invC,\n",
    "            do_reg=do_reg,\n",
    "            evidence=evidence)\n",
    "        self._set_data(δθ, fiducial, derivative, validation_fiducial,\n",
    "                       validation_derivative)\n",
    "        self.dummy_graph_input = dummy_graph_input\n",
    "\n",
    "    def _set_data(self, δθ, fiducial, derivative, validation_fiducial,\n",
    "                  validation_derivative):\n",
    "        self.δθ = np.expand_dims(\n",
    "            _check_input(δθ, (self.n_params,), \"δθ\"), (0, 1))\n",
    "        if self.dummy_graph_input is None:\n",
    "          self.fiducial = _check_input(\n",
    "              fiducial, (self.n_s,) + self.input_shape, \"fiducial\")\n",
    "          self.derivative = _check_input(\n",
    "              derivative, (self.n_d, 2, self.n_params) + self.input_shape,\n",
    "              \"derivative\")\n",
    "          if ((validation_fiducial is not None)\n",
    "                  and (validation_derivative is not None)):\n",
    "              self.validation_fiducial = _check_input(\n",
    "                  validation_fiducial, (self.n_s,) + self.input_shape,\n",
    "                  \"validation_fiducial\")\n",
    "              self.validation_derivative = _check_input(\n",
    "                  validation_derivative,\n",
    "                  (self.n_d, 2, self.n_params) + self.input_shape,\n",
    "                  \"validation_derivative\")\n",
    "              self.validate = True\n",
    "        else:\n",
    "          self.fiducial = fiducial\n",
    "          self.derivative = derivative\n",
    "\n",
    "          if ((validation_fiducial is not None)\n",
    "                  and (validation_derivative is not None)):\n",
    "              self.validation_fiducial = validation_fiducial\n",
    "              self.validation_derivative =  validation_derivative\n",
    "              self.validate = True\n",
    "\n",
    "\n",
    "    def _collect_input(self, key, validate=False):\n",
    "        if validate:\n",
    "            fiducial = self.validation_fiducial\n",
    "            derivative = self.validation_derivative\n",
    "        else:\n",
    "            fiducial = self.fiducial\n",
    "            derivative = self.derivative\n",
    "        return fiducial, derivative\n",
    "\n",
    "    def get_summaries(self, w, key=None, validate=False):\n",
    "        \n",
    "        d, d_mp = self._collect_input(key, validate=validate)\n",
    "        \n",
    "        \n",
    "        if self.dummy_graph_input is None:\n",
    "          _model = lambda d: self.model(w, d)\n",
    "          x = jax.vmap(_model)(d)\n",
    "          x_mp = np.reshape(\n",
    "              jax.vmap(_model)(\n",
    "                    d_mp.reshape(\n",
    "                      (self.n_d * 2 * self.n_params,) + self.input_shape)),\n",
    "              (self.n_d, 2, self.n_params, self.n_summaries))\n",
    "        else:\n",
    "          # if operating on graph data, we need to vmap the implicit\n",
    "          # batch dimension\n",
    "          _model = lambda d: self.model(w, d)\n",
    "          x = jax.vmap(_model)(d)\n",
    "          x_mp = np.reshape(\n",
    "              jax.vmap(_model)(d_mp),\n",
    "              (self.n_d, 2, self.n_params, self.n_summaries))\n",
    "\n",
    "        return x, x_mp\n",
    "\n",
    "    def _construct_derivatives(self, x_mp):\n",
    "        return np.swapaxes(x_mp[:, 1] - x_mp[:, 0], 1, 2) / self.δθ\n",
    "\n",
    "\n",
    "\n",
    "\n",
    "\n",
    "# NOISE NUMERICAL GRADIENT IMNN\n",
    "class NoiseNumericalGradientIMNN(_updateIMNN):\n",
    "    \"\"\"Information maximising neural network fit with simulations on-the-fly\n",
    "    \"\"\"\n",
    "    def __init__(self, n_s, n_d, n_params, n_summaries, input_shape, θ_fid, δθ,\n",
    "                 model, optimiser, key_or_state,\n",
    "                 noise_simulator, \n",
    "                 fiducial, derivative,\n",
    "                 validation_fiducial=None, validation_derivative=None, \n",
    "                 existing_statistic=None,\n",
    "                 dummy_graph_input=None,\n",
    "                 no_invC=False, do_reg=True,\n",
    "                 evidence=False):\n",
    "        \"\"\"Constructor method\n",
    "\n",
    "        Initialises all IMNN attributes, constructs neural network and its\n",
    "        initial parameter values and creates history dictionary. Also checks\n",
    "        validity of simulator and sets the ``simulate`` attribute to ``True``.\n",
    "\n",
    "        Parameters\n",
    "        ----------\n",
    "        n_s : int\n",
    "            Number of simulations used to calculate summary covariance\n",
    "        n_d : int\n",
    "            Number of simulations used to calculate mean of summary derivative\n",
    "        n_params : int\n",
    "            Number of model parameters\n",
    "        n_summaries : int\n",
    "            Number of summaries, i.e. outputs of the network\n",
    "        input_shape : tuple\n",
    "            The shape of a single input to the network\n",
    "        θ_fid : float(n_params,)\n",
    "            The value of the fiducial parameter values used to generate inputs\n",
    "        model : tuple, len=2\n",
    "            Tuple containing functions to initialise neural network\n",
    "            ``fn(rng: int(2), input_shape: tuple) -> tuple, list`` and the\n",
    "            neural network as a function of network parameters and inputs\n",
    "            ``fn(w: list, d: float(None, input_shape)) -> float(None, n_summari\n",
    "            es)``.\n",
    "            (Essentibly stax-like, see `jax.experimental.stax <https://jax.read\n",
    "            thedocs.io/en/stable/jax.experimental.stax.html>`_))\n",
    "        optimiser : tuple, len=3\n",
    "            Tuple containing functions to generate the optimiser state\n",
    "            ``fn(x0: list) -> :obj:state``, to update the state from a list of\n",
    "            gradients ``fn(i: int, g: list, state: :obj:state) -> :obj:state``\n",
    "            and to extract network parameters from the state\n",
    "            ``fn(state: :obj:state) -> list``.\n",
    "            (See `jax.experimental.optimizers <https://jax.readthedocs.io/en/st\n",
    "            able/jax.experimental.optimizers.html>`_)\n",
    "        key_or_state : int(2) or :obj:state\n",
    "            Either a stateless random number generator or the state object of\n",
    "            an preinitialised optimiser\n",
    "        simulator : fn\n",
    "            A function that generates a single simulation from a random number\n",
    "            generator and a tuple (or array) of parameter values at which to\n",
    "            generate the simulations. For the purposes of use in LFI/ABC\n",
    "            afterwards it is also useful for the simulator to be able to\n",
    "            broadcast to a batch of simulations on the zeroth axis\n",
    "            ``fn(int(2,), float([None], n_params)) ->\n",
    "            float([None], input_shape)``\n",
    "        dummy_graph_input : jraph.GraphsTuple or 'jax.numpy.DeviceArray'\n",
    "            Either a (padded) graph input or device array. If supplied ignores \n",
    "            `input_shape` parameter\n",
    "        \"\"\"\n",
    "        super().__init__(\n",
    "            n_s=n_s,\n",
    "            n_d=n_d,\n",
    "            n_params=n_params,\n",
    "            n_summaries=n_summaries,\n",
    "            input_shape=input_shape,\n",
    "            θ_fid=θ_fid,\n",
    "            model=model,\n",
    "            optimiser=optimiser,\n",
    "            key_or_state=key_or_state,\n",
    "            existing_statistic=existing_statistic,\n",
    "            dummy_graph_input=dummy_graph_input,\n",
    "            no_invC=no_invC,\n",
    "            do_reg=do_reg,\n",
    "            evidence=evidence)\n",
    "\n",
    "        self.existing_statistic = existing_statistic\n",
    "        self.simulator = noise_simulator\n",
    "        #self.simulate = True\n",
    "        self.dummy_graph_input = dummy_graph_input\n",
    "        self.θ_der = (θ_fid + np.einsum(\"i,jk->ijk\", np.array([-1., 1.]), \n",
    "                                        np.diag(δθ) / 2.)).reshape((-1, 2))\n",
    "        self.δθ = np.expand_dims(\n",
    "            _check_input(δθ, (self.n_params,), \"δθ\"), (0, 1))\n",
    "        \n",
    "        # NUMERICAL GRADIENT SETUP\n",
    "        self._set_data(δθ, fiducial, derivative, validation_fiducial,\n",
    "                       validation_derivative)\n",
    "\n",
    "\n",
    "    def _set_data(self, δθ, fiducial, derivative, validation_fiducial,\n",
    "                  validation_derivative):\n",
    "        \"\"\"Checks and sets data attributes with the correct shape\n",
    "        \"\"\"\n",
    "        self.δθ = np.expand_dims(\n",
    "            _check_input(δθ, (self.n_params,), \"δθ\"), (0, 1))\n",
    "        if self.dummy_graph_input is None:\n",
    "          self.fiducial = _check_input(\n",
    "              fiducial, (self.n_s,) + self.input_shape, \"fiducial\")\n",
    "          self.derivative = _check_input(\n",
    "              derivative, (self.n_d, 2, self.n_params) + self.input_shape,\n",
    "              \"derivative\")\n",
    "          if ((validation_fiducial is not None)\n",
    "                  and (validation_derivative is not None)):\n",
    "              self.validation_fiducial = _check_input(\n",
    "                  validation_fiducial, (self.n_s,) + self.input_shape,\n",
    "                  \"validation_fiducial\")\n",
    "              self.validation_derivative = _check_input(\n",
    "                  validation_derivative,\n",
    "                  (self.n_d, 2, self.n_params) + self.input_shape,\n",
    "                  \"validation_derivative\")\n",
    "              self.validate = True\n",
    "        else:\n",
    "          self.fiducial = fiducial\n",
    "          self.derivative = derivative\n",
    "\n",
    "          if ((validation_fiducial is not None)\n",
    "                  and (validation_derivative is not None)):\n",
    "              self.validation_fiducial = validation_fiducial\n",
    "              self.validation_derivative =  validation_derivative\n",
    "              self.validate = True\n",
    "\n",
    "\n",
    "    def _collect_input(self, key, validate=False):\n",
    "        \"\"\" Returns validation or fitting sets\n",
    "        \"\"\"\n",
    "        if validate:\n",
    "            fiducial = self.validation_fiducial\n",
    "            derivative = self.validation_derivative\n",
    "        else:\n",
    "            fiducial = self.fiducial\n",
    "            derivative = self.derivative\n",
    "            \n",
    "        # add noise to data and make cuts\n",
    "        keys = np.array(jax.random.split(key, num=self.n_s))\n",
    "        fiducial = jax.vmap(self.simulator)(keys, fiducial)\n",
    "        \n",
    "        _shape = derivative.shape\n",
    "        derivative = jax.vmap(self.simulator)(\n",
    "                np.repeat(keys[:self.n_d], 2*self.n_params, axis=0),\n",
    "                derivative.reshape(\n",
    "                      (self.n_d * 2 * self.n_params,) + self.input_shape)).reshape(_shape)\n",
    "                      \n",
    "        return fiducial, derivative\n",
    "\n",
    "    def _get_fitting_keys(self, rng):\n",
    "        \"\"\"Generates random numbers for simulation\n",
    "\n",
    "        Parameters\n",
    "        ----------\n",
    "        rng : int(2,)\n",
    "            A random number generator\n",
    "\n",
    "        Returns\n",
    "        -------\n",
    "        int(2,), int(2,), int(2,)\n",
    "            A new random number generator and random number generators for\n",
    "            fitting (and validation)\n",
    "        \"\"\"\n",
    "        return jax.random.split(rng, num=3)\n",
    "\n",
    "    def get_summaries(self, w, key=None, validate=False):\n",
    "        \"\"\"Gets all network outputs and derivatives wrt model parameters\n",
    "        \"\"\"\n",
    "        d, d_mp = self._collect_input(key, validate=validate)\n",
    "        \n",
    "        \n",
    "        if self.dummy_graph_input is None:\n",
    "          _model = lambda d: self.model(w, d)\n",
    "          x = jax.vmap(_model)(d)\n",
    "          x_mp = np.reshape(\n",
    "              jax.vmap(_model)(\n",
    "                    d_mp.reshape(\n",
    "                      (self.n_d * 2 * self.n_params,) + self.input_shape)),\n",
    "              (self.n_d, 2, self.n_params, self.n_summaries))\n",
    "\n",
    "        else:\n",
    "          # if operating on graph data, we need to vmap the implicit\n",
    "          # batch dimension\n",
    "          _model = lambda d: self.model(w, d)\n",
    "          x = jax.vmap(_model)(d)\n",
    "          x_mp = np.reshape(\n",
    "              jax.vmap(_model)(d_mp),\n",
    "              (self.n_d, 2, self.n_params, self.n_summaries))\n",
    "\n",
    "        return x, x_mp\n",
    "\n",
    "    def _construct_derivatives(self, x_mp):\n",
    "        \"\"\"Builds derivatives of the network outputs wrt model parameters\n",
    "        \"\"\"\n",
    "        return np.swapaxes(x_mp[:, 1] - x_mp[:, 0], 1, 2) / self.δθ\n",
    "\n"
   ]
  },
  {
   "cell_type": "markdown",
   "id": "4afc6958-d094-4c72-ae39-95cd768ff791",
   "metadata": {},
   "source": [
    "### pull in simulations and compute MOPED for Cls"
   ]
  },
  {
   "cell_type": "code",
   "execution_count": 11,
   "id": "bdd64aa3-6390-4e51-ba8f-ecb32977536a",
   "metadata": {},
   "outputs": [],
   "source": [
    "from lemur import analysis, background, cosmology, limber, simulate, plot, utils, constants\n",
    "from moped import *\n",
    "\n",
    "def indices_vector(num_tomo):\n",
    "   indices = []\n",
    "   cc = 0\n",
    "   for catA in range(0,num_tomo,1):\n",
    "      for catB in range(catA,num_tomo,1):\n",
    "        indices.append([catA, catB])\n",
    "        cc += 1\n",
    "   return indices\n",
    "\n",
    "cl_cut = 15 # 29\n",
    "skip = 1\n",
    "num_tomo = 4\n",
    "Lgrid = (1000, 1000, 5500)\n",
    "Nmesh = (128,128,512)\n",
    "num_bins = jnp.ones(Nmesh[0]//2)[:cl_cut:skip].shape[0]\n",
    "chi_grid = (jnp.arange(Nmesh[2]) + 0.5) * Lgrid[2] / Nmesh[2]\n",
    "chi_source = chi_grid[-1]\n",
    "indices = jnp.array(indices_vector(num_tomo))\n",
    "\n",
    "def get_spec(index, tomo_data):\n",
    "    return analysis.compute_auto_cross_angular_power_spectrum(tomo_data[index[0]], tomo_data[index[1]],\n",
    "                                                chi_source, Lgrid[0])[1][:cl_cut:skip]\n",
    "\n",
    "def cls_allbins(tomo_data):\n",
    "    gps = lambda i: get_spec(i, tomo_data)\n",
    "    return jax.vmap(gps)(indices)\n"
   ]
  },
  {
   "cell_type": "code",
   "execution_count": 12,
   "id": "b2d36d99-4157-4e49-88f4-02df063dba6a",
   "metadata": {},
   "outputs": [
    {
     "name": "stdout",
     "output_type": "stream",
     "text": [
      "[[0.2885 0.8   ]\n",
      " [0.3    0.785 ]\n",
      " [0.3115 0.8   ]\n",
      " [0.3    0.815 ]]\n"
     ]
    },
    {
     "name": "stderr",
     "output_type": "stream",
     "text": [
      "100%|██████████| 60/60 [00:00<00:00, 72.81it/s]\n",
      "100%|██████████| 20/20 [00:00<00:00, 88.53it/s]\n"
     ]
    }
   ],
   "source": [
    "from tqdm import tqdm as tq\n",
    "\n",
    "### ------------- IMNN PARAMETERS -------------\n",
    "θ_fid = jnp.array([0.3, 0.800]) # CHANGE TO OmegaM=0.6\n",
    "δθ = 2*jnp.array([0.0115, 0.015])\n",
    "\n",
    "θ_der = (θ_fid + jnp.einsum(\"i,jk->ijk\", jnp.array([-1., 1.]), jnp.diag(δθ) / 2.)).reshape((-1, 2))\n",
    "\n",
    "\n",
    "n_summaries = 2\n",
    "\n",
    "n_s = 1500\n",
    "n_d = 125\n",
    "\n",
    "n_params = 2\n",
    "n_summaries = n_params\n",
    "print(θ_der)\n",
    "\n",
    "z_means_analysis = jnp.array([0.5, 1.0, 1.5, 2.0])\n",
    "N = 128\n",
    "L = 500\n",
    "lpt_order = 2\n",
    "outdir = \"/data101/makinen/lemur_sims/first_analysis/\"\n",
    "\n",
    "\n",
    "fid = jnp.load(outdir + \"fid_tomo_L_%d_N_%d_Nz_512_LPT%d.npy\"%(L, N, lpt_order))\n",
    "derv = jnp.load(outdir + \"derv_tomo_L_%d_N_%d_Nz_512_LPT%d.npy\"%(L, N, lpt_order))\n",
    "\n",
    "\n",
    "# ----- DO MOPED WITH ALL SIMS (NOISEFREE) -----\n",
    "fid_cls = []\n",
    "batch = 50\n",
    "for i in tq(range(fid.shape[0] // batch)):\n",
    "    f_ = jax.vmap(cls_allbins)(fid[i*batch:(i+1)*batch]).reshape(-1, len(indices)*(num_bins))\n",
    "    fid_cls.append(f_)\n",
    "\n",
    "fid_cls = jnp.concatenate(fid_cls)\n",
    "\n",
    "derv_cls = []\n",
    "batch = 50\n",
    "for i in tq(range(1000 // batch)):\n",
    "    d_  = jax.vmap(cls_allbins)(derv.reshape(-1, num_tomo, Nmesh[0], Nmesh[1])[i*batch:(i+1)*batch]) \n",
    "    derv_cls.append(d_)\n",
    "\n",
    "derv_cls = jnp.concatenate(derv_cls).reshape(n_d*2, 2, n_params, len(indices)*(num_bins))\n",
    "# ----- -----\n",
    "\n",
    "\n",
    "# now initialise MOPED object\n"
   ]
  },
  {
   "cell_type": "code",
   "execution_count": 14,
   "id": "a0dd11b3-b5fb-4c63-9d6c-9dfb348e706e",
   "metadata": {},
   "outputs": [
    {
     "name": "stdout",
     "output_type": "stream",
     "text": [
      "moped 2 F: [[16165.745   6566.4326]\n",
      " [ 6566.4326  2849.7559]] moped 1 F: [[16165.711   6566.3877]\n",
      " [ 6566.4287  2849.7432]]\n",
      "moped 2 F: 2950392.0 moped 1 F: 2950408.0\n"
     ]
    }
   ],
   "source": [
    "mymoped = MOPED(n_param=2, n_d=n_d*2, n_s=n_s*2, \n",
    "                input_shape=fid_cls[0].shape, \n",
    "                fiducial=fid_cls, \n",
    "                derivatives=derv_cls, \n",
    "                δθ=δθ, \n",
    "                θ_fid=θ_fid\n",
    "               )\n",
    "\n",
    "moped_summs = mymoped.compress(fid_cls)\n",
    "\n",
    "# next we're going to do a second moped compression to get the derivatives into a smaller space.\n",
    "# you can check to see that the fisher is the same for both !\n",
    "mymoped2 = MOPED(\n",
    "                n_param=2, n_d=n_d*2, n_s=n_s*2, \n",
    "                input_shape=(2,), \n",
    "                fiducial=mymoped.compress(fid_cls), \n",
    "                derivatives=mymoped.compress(derv_cls.reshape((-1,) + fid_cls[0].shape)).reshape(n_d*2, 2, 2, 2), \n",
    "                δθ=δθ, \n",
    "                θ_fid=θ_fid\n",
    ")\n",
    "\n",
    "print(\"moped 2 F:\", mymoped2.F, \"moped 1 F:\", mymoped.F)\n",
    "print(\"moped 2 F:\", jnp.linalg.det(mymoped2.F), \"moped 1 F:\", jnp.linalg.det(mymoped.F))\n",
    "\n",
    "moped_statistic = dict(\n",
    "        n_t = 2,\n",
    "        mean_derivatives = mymoped2.mu_dervs,\n",
    "        covariance = mymoped.invF,\n",
    "        Fisher = mymoped.F,\n",
    "        fid_summaries=mymoped.compress(fid_cls),\n",
    ")"
   ]
  },
  {
   "cell_type": "code",
   "execution_count": 15,
   "id": "f43cc873-de0e-420f-b682-22d0a64fe020",
   "metadata": {},
   "outputs": [
    {
     "data": {
      "text/plain": [
       "(((1500, 4, 128, 128), (125, 2, 2, 4, 128, 128)),\n",
       " ((1500, 4, 128, 128), (125, 2, 2, 4, 128, 128)))"
      ]
     },
     "execution_count": 15,
     "metadata": {},
     "output_type": "execute_result"
    }
   ],
   "source": [
    "# split into train and val sets\n",
    "\n",
    "val_fid = fid[n_s:]\n",
    "val_derv = derv[n_d:]\n",
    "\n",
    "fid = fid[:n_s]\n",
    "derv = derv[:n_d]\n",
    "\n",
    "(fid.shape, derv.shape), (val_fid.shape, val_derv.shape)"
   ]
  },
  {
   "cell_type": "code",
   "execution_count": 16,
   "id": "a86e84f2-f64d-46f3-b42b-e2d567d70c71",
   "metadata": {},
   "outputs": [
    {
     "name": "stderr",
     "output_type": "stream",
     "text": [
      "/home/makinen/venvs/lemur/lib64/python3.11/site-packages/jax/_src/numpy/array_methods.py:66: UserWarning: Explicitly requested dtype <class 'jax.numpy.int64'> requested in astype is not available, and will be truncated to dtype int32. To enable more dtypes, set the jax_enable_x64 configuration option or the JAX_ENABLE_X64 shell environment variable. See https://github.com/google/jax#current-gotchas for more.\n",
      "  return lax_numpy.astype(arr, dtype)\n"
     ]
    },
    {
     "data": {
      "text/plain": [
       "Array([7.0345641e-06, 2.1050846e-05, 3.6201880e-05, 5.0535422e-05],      dtype=float32)"
      ]
     },
     "execution_count": 16,
     "metadata": {},
     "output_type": "execute_result"
    }
   ],
   "source": [
    "def compute_variance_catalog(zmean=z_means_analysis):\n",
    "\n",
    "    N0 = 128\n",
    "    N1 = 128\n",
    "    N2 = 512\n",
    "    L0 = 1000.\n",
    "    L1 = 1000.\n",
    "    L2 = 5500.\n",
    "    \n",
    "    Ncat = 4\n",
    "\n",
    "    cosmo = jc.Planck15(Omega_c=0.3, sigma8=0.8) # no sigma8-dependence \n",
    "    rms = 0.3 / 2. # from review (corrected w Hall comment)\n",
    "    a = 1. / (1. + zmean)\n",
    "    dist = jc.background.radial_comoving_distance(cosmo, a, log10_amin=-3, steps=256)\n",
    "    angle = 2. * jnp.arctan((L0/N0/2) / dist)\n",
    "    arcmin_angle = angle * 180. / np.pi * 60.\n",
    "    arcmin2_pix = arcmin_angle**2\n",
    "    sources = 30. / Ncat * arcmin2_pix\n",
    "    return rms**2 / sources\n",
    "\n",
    "noisevars = compute_variance_catalog()\n",
    "\n",
    "noisevars"
   ]
  },
  {
   "cell_type": "code",
   "execution_count": 17,
   "id": "c983126c-ea39-45c4-9d71-3157d20569e0",
   "metadata": {},
   "outputs": [],
   "source": [
    "@jax.jit\n",
    "def rotate_sim(k, sim):\n",
    "    k = k % 4\n",
    "\n",
    "    condition1 = (k > 0)\n",
    "    condition2 = (k > 1)\n",
    "    condition3 = (k > 2)\n",
    "    condition4 = (k == 3)\n",
    "\n",
    "    # if k == 0:\n",
    "    def kzero(k):\n",
    "        return sim\n",
    "    # if k == 1:\n",
    "    def kone(k):\n",
    "        return jnp.rot90(sim, k=1, axes=(1,2))\n",
    "    # if k == 2:\n",
    "    def ktwo(k):\n",
    "        return jnp.rot90(sim, k=2, axes=(1,2))\n",
    "    def kthree(k):\n",
    "        return jnp.rot90(sim, k=3, axes=(1,2))\n",
    "\n",
    "    # if >2, use kthree, else use ktwo\n",
    "    def biggerthantwo(k):\n",
    "        return jax.lax.cond(condition3, true_fun=kthree, false_fun=ktwo, operand=k)\n",
    "\n",
    "    # if > 1, return biggerthan2, else use kone\n",
    "    def biggerthanone(k):\n",
    "        return jax.lax.cond(condition2, true_fun=biggerthantwo, false_fun=kone, operand=k)\n",
    "\n",
    "    # if >0 , return biggerthan1, else use kzero\n",
    "    sim = jax.lax.cond(condition1, true_fun=biggerthanone, false_fun=kzero, operand=k)\n",
    "\n",
    "    return sim\n",
    "\n",
    "@partial(jax.jit, static_argnums=(3,4))\n",
    "def noise_simulator(key, sim, noisescale=1.0, rot=True, noisevars=noisevars):\n",
    "    key1,key2 = jr.split(key)\n",
    "    # do rotations of simulations\n",
    "    k = jr.choice(key1, jnp.array([0,1,2,3]), shape=())\n",
    "    if rot:\n",
    "     sim = rotate_sim(k, sim)\n",
    "    else:\n",
    "     sim = sim\n",
    "\n",
    "    # now add noise\n",
    "    # this generates white noise across all pixels and then increases the amplitude\n",
    "    sim = sim.at[...].add(jr.normal(key2, shape=(4,N,N)) * noisescale * jnp.sqrt(noisevars).reshape(4,1,1))\n",
    "    return sim"
   ]
  },
  {
   "cell_type": "code",
   "execution_count": 16,
   "id": "765fbec1-c58a-4c7a-acc6-a8b575bfbc9b",
   "metadata": {
    "scrolled": true
   },
   "outputs": [
    {
     "data": {
      "text/plain": [
       "(10, 10)"
      ]
     },
     "execution_count": 16,
     "metadata": {},
     "output_type": "execute_result"
    }
   ],
   "source": [
    "jnp.log(cls_allbins(fid[0])).shape"
   ]
  },
  {
   "cell_type": "code",
   "execution_count": 7,
   "id": "33b051e7-b964-4edc-869f-ce2de45817d3",
   "metadata": {
    "collapsed": true,
    "jupyter": {
     "outputs_hidden": true
    }
   },
   "outputs": [
    {
     "ename": "NameError",
     "evalue": "name 'key' is not defined",
     "output_type": "error",
     "traceback": [
      "\u001b[0;31m---------------------------------------------------------------------------\u001b[0m",
      "\u001b[0;31mNameError\u001b[0m                                 Traceback (most recent call last)",
      "Cell \u001b[0;32mIn[7], line 1\u001b[0m\n\u001b[0;32m----> 1\u001b[0m plt\u001b[38;5;241m.\u001b[39mimshow(noise_simulator(\u001b[43mkey\u001b[49m, fid[\u001b[38;5;241m0\u001b[39m, \u001b[38;5;241m.\u001b[39m\u001b[38;5;241m.\u001b[39m\u001b[38;5;241m.\u001b[39m])[\u001b[38;5;241m3\u001b[39m, \u001b[38;5;241m.\u001b[39m\u001b[38;5;241m.\u001b[39m\u001b[38;5;241m.\u001b[39m])\n\u001b[1;32m      2\u001b[0m plt\u001b[38;5;241m.\u001b[39mcolorbar()\n",
      "\u001b[0;31mNameError\u001b[0m: name 'key' is not defined"
     ]
    }
   ],
   "source": [
    "plt.imshow(noise_simulator(key, fid[0, ...])[3, ...])\n",
    "plt.colorbar()"
   ]
  },
  {
   "cell_type": "markdown",
   "id": "25a6db1e-16aa-4473-aeec-c14175839c60",
   "metadata": {},
   "source": [
    "## network code"
   ]
  },
  {
   "cell_type": "code",
   "execution_count": 71,
   "id": "13aef113-87ad-46b4-adec-8b220fbec4e3",
   "metadata": {},
   "outputs": [],
   "source": [
    "from typing import Any, Callable, Sequence, Optional, Union\n",
    "from flax.core import freeze, unfreeze\n",
    "import flax.linen as nn\n",
    "\n",
    "import jax\n",
    "import jax.numpy as jnp\n",
    "\n",
    "Array = Any\n",
    "\n",
    "\n",
    "class InceptBlock(nn.Module):\n",
    "    \"\"\"Inception block submodule\"\"\"\n",
    "    filters: Sequence[int]\n",
    "    strides: Union[None, int, Sequence[int]]\n",
    "    dims: int\n",
    "    do_5x5: bool = True\n",
    "    do_3x3: bool = True\n",
    "    #input_shape: Sequence[int]\n",
    "\n",
    "    @nn.compact\n",
    "    def __call__(self, x):\n",
    "\n",
    "        outs = []\n",
    "        \n",
    "        if self.do_5x5:\n",
    "        # 5x5 filter\n",
    "          x1 = nn.Conv(features=self.filters[0], kernel_size=(1,)*self.dims, strides=None)(x)\n",
    "          x1 = nn.Conv(features=self.filters[0], kernel_size=(5,)*self.dims, strides=self.strides)(x1)\n",
    "          outs.append(x1)\n",
    "          \n",
    "        if self.do_3x3:\n",
    "        # 3x3 filter\n",
    "          x2 = nn.Conv(features=self.filters[1], kernel_size=(1,)*self.dims, strides=None)(x)\n",
    "          x2 = nn.Conv(features=self.filters[1], kernel_size=(3,)*self.dims, strides=self.strides)(x2)\n",
    "          outs.append(x2)\n",
    "\n",
    "        # 1x1\n",
    "        x3 = nn.Conv(features=self.filters[2], kernel_size=(1,)*self.dims, strides=None)(x)\n",
    "        x3 = nn.Conv(features=self.filters[2], kernel_size=(1,)*self.dims, strides=self.strides)(x3)\n",
    "        outs.append(x3)\n",
    "        \n",
    "        # maxpool and avgpool\n",
    "        x4 = nn.max_pool(x, (3,)*self.dims, padding='SAME')\n",
    "        x4 = nn.Conv(features=self.filters[3], kernel_size=(1,)*self.dims, strides=self.strides)(x4)\n",
    "        outs.append(x4)\n",
    "                    \n",
    "        x = jnp.concatenate(outs, axis=-1)\n",
    "        \n",
    "        return x   \n",
    "\n",
    "\n",
    "class MLP(nn.Module):\n",
    "  features: Sequence[int]\n",
    "\n",
    "  @nn.compact\n",
    "  def __call__(self, x):\n",
    "    for feat in self.features[:-1]:\n",
    "      x = nn.swish(nn.Dense(feat)(x))\n",
    "    x = nn.Dense(self.features[-1])(x)\n",
    "    return x\n",
    "\n",
    "\n",
    "class InceptNet(nn.Module):\n",
    "    \"\"\"An incept net architecture\"\"\"\n",
    "    filters: Sequence[int]\n",
    "    mlp_features: Sequence[int]\n",
    "    div_factor: float = 0.02\n",
    "    n_params: int = 2\n",
    "    act: Callable = nn.swish\n",
    "    \n",
    "    @nn.compact\n",
    "    def __call__(self, x):\n",
    "        dim = 2\n",
    "\n",
    "        # add in Cls information\n",
    "        # cls = cls_allbins(jax.lax.stop_gradient(x)).reshape(-1)\n",
    "        # cls = jax.lax.stop_gradient(jnp.log(cls))\n",
    "        # cls += 20.0\n",
    "        # cls = MLP(self.mlp_features)(cls)\n",
    "\n",
    "        # do field-level net\n",
    "        x = jnp.transpose(x, (1, 2, 0))\n",
    "        x /= self.div_factor\n",
    "        x += 1.5\n",
    "        x = x[..., jnp.newaxis] # expand dims for   \n",
    "\n",
    "        fs = 4\n",
    "        fs2 = 4\n",
    "        \n",
    "        x = InceptBlock([fs, fs2, fs2, fs], strides=(4,4,2), dims=3, do_5x5=False)(x) # 32\n",
    "        x = nn.swish(x)\n",
    "        \n",
    "\n",
    "        x = InceptBlock([fs, fs2*2, fs2*2, fs], strides=(4,4,2), dims=3, do_5x5=False)(x) # 16\n",
    "        x = self.act(x)\n",
    "        x = jnp.squeeze(x) # SQUEEZE for DIM=2\n",
    "        x = InceptBlock([fs, fs2*8, fs2*8, fs], strides=2, dims=2, do_5x5=False)(x) # 4\n",
    "        x = self.act(x)\n",
    "        x = InceptBlock([fs, fs2*16, fs2*16, fs], strides=2, dims=2, do_5x5=False)(x) # 2\n",
    "        x = self.act(x)\n",
    "        x = InceptBlock([fs, fs2*16, fs2*16, fs], strides=2, dims=2, do_5x5=False, do_3x3=False)(x) # 1\n",
    "        x = self.act(x)     \n",
    "        x = nn.Conv(features=self.n_params, kernel_size=(1,)*dim, strides=None)(x)\n",
    "        x = x.reshape(-1)\n",
    "        \n",
    "        # combine Cls information\n",
    "        # x = jnp.concatenate([x, cls])\n",
    "        # x = nn.Dense(50)(x)\n",
    "        # x1 = nn.swish(x)\n",
    "        # x = nn.Dense(50)(x1)\n",
    "        # x = nn.swish(x + x1)\n",
    "        # x = nn.Dense(self.n_params)(x)\n",
    "        \n",
    "        return x\n"
   ]
  },
  {
   "cell_type": "code",
   "execution_count": 72,
   "id": "da56a8a5-812d-489a-bbfc-dd88cc696417",
   "metadata": {},
   "outputs": [],
   "source": [
    "filters = (8,32,32,8)\n",
    "model = InceptNet(filters=filters, mlp_features=[100, 100, 100])\n",
    "w = model.init(jr.PRNGKey(8), jnp.zeros((4, N, N)))\n",
    "\n",
    "outs = model.apply(w, fid[0])"
   ]
  },
  {
   "cell_type": "code",
   "execution_count": 73,
   "id": "44ff7002-2637-44d5-b99a-bde46ae0e7db",
   "metadata": {},
   "outputs": [
    {
     "data": {
      "text/plain": [
       "Array([ 0.14444438, -0.20772734], dtype=float32)"
      ]
     },
     "execution_count": 73,
     "metadata": {},
     "output_type": "execute_result"
    }
   ],
   "source": [
    "outs"
   ]
  },
  {
   "cell_type": "code",
   "execution_count": 74,
   "id": "20ba8fd6-76f7-4440-a61f-5328ce4150d6",
   "metadata": {},
   "outputs": [
    {
     "data": {
      "text/plain": [
       "(150, 150)"
      ]
     },
     "execution_count": 74,
     "metadata": {},
     "output_type": "execute_result"
    }
   ],
   "source": [
    "mymoped.C.shape"
   ]
  },
  {
   "cell_type": "code",
   "execution_count": 83,
   "id": "b1589282-6ca6-46cb-b26f-3a68725dfe4d",
   "metadata": {},
   "outputs": [],
   "source": [
    "filters = (8,32,32,8)\n",
    "\n",
    "model = InceptNet(filters=filters, mlp_features=[100, 100, 100])\n",
    "\n",
    "lr_schedule = optax.exponential_decay(init_value=1e-3, \n",
    "                        transition_begin=150,\n",
    "                        transition_steps=400, \n",
    "                        decay_rate=0.5, \n",
    "                        end_value=1e-6\n",
    "                       )\n",
    "\n",
    "\n",
    "optimiser = optax.adam(learning_rate=1e-3) # 1e-5\n",
    "\n",
    "\n",
    "model_key = jr.PRNGKey(44)\n",
    "key = jr.PRNGKey(55)\n",
    "rng, key = jr.split(key)\n",
    "input_shape = (4, N, N)\n",
    "\n",
    "\n",
    "moped_statistic_long = dict(\n",
    "        n_t = 150,\n",
    "        mean_derivatives = mymoped.mu_dervs,\n",
    "        covariance = mymoped.C,\n",
    "        Fisher = mymoped.F,\n",
    "        fid_summaries=fid_cls,\n",
    ")\n",
    "\n",
    "\n",
    "\n",
    "IMNN =  NoiseNumericalGradientIMNN(\n",
    "    n_s=n_s, n_d=n_d, n_params=n_params, n_summaries=n_summaries,\n",
    "    input_shape=input_shape, θ_fid=θ_fid, δθ=δθ, model=model,\n",
    "    optimiser=optimiser, key_or_state=jnp.array(model_key),\n",
    "    noise_simulator=(lambda rng, d: noise_simulator(\n",
    "           rng, d)),\n",
    "    fiducial=fid, \n",
    "    derivative=derv,\n",
    "    validation_fiducial=val_fid,\n",
    "    validation_derivative=val_derv,\n",
    "    existing_statistic=moped_statistic,\n",
    "    #no_invC=True, # True\n",
    "    do_reg=True, # False\n",
    "    #evidence=True # True\n",
    ")"
   ]
  },
  {
   "cell_type": "code",
   "execution_count": 84,
   "id": "0f808424-effa-4c35-bfcc-c7957fcfc5ae",
   "metadata": {},
   "outputs": [],
   "source": [
    "IMNN.set_F_statistics(w, key)"
   ]
  },
  {
   "cell_type": "code",
   "execution_count": 85,
   "id": "558fd0a9-09f3-4703-8219-d57ed78fd358",
   "metadata": {},
   "outputs": [
    {
     "data": {
      "text/plain": [
       "Array([[16201.968,  6511.804],\n",
       "       [ 6511.845,  3001.64 ]], dtype=float32)"
      ]
     },
     "execution_count": 85,
     "metadata": {},
     "output_type": "execute_result"
    }
   ],
   "source": [
    "IMNN.F"
   ]
  },
  {
   "cell_type": "code",
   "execution_count": 152,
   "id": "afaaa3bd-49bb-4ecf-b33d-0c6b6008a6e4",
   "metadata": {},
   "outputs": [
    {
     "data": {
      "text/plain": [
       "Array([[18660.38  ,  9293.817 ],\n",
       "       [ 9293.793 ,  4860.1533]], dtype=float32)"
      ]
     },
     "execution_count": 152,
     "metadata": {},
     "output_type": "execute_result"
    }
   ],
   "source": [
    "IMNN.F"
   ]
  },
  {
   "cell_type": "code",
   "execution_count": 25,
   "id": "5ac0743c-2d90-4f9c-a967-f96910d8b281",
   "metadata": {},
   "outputs": [
    {
     "data": {
      "text/plain": [
       "Array(2950408., dtype=float32)"
      ]
     },
     "execution_count": 25,
     "metadata": {},
     "output_type": "execute_result"
    }
   ],
   "source": [
    "jnp.linalg.det(mymoped.F)"
   ]
  },
  {
   "cell_type": "code",
   "execution_count": 86,
   "id": "fd7812a1-11ef-4af4-aed0-f0eac11bd3c4",
   "metadata": {},
   "outputs": [
    {
     "data": {
      "application/vnd.jupyter.widget-view+json": {
       "model_id": "30014d3a1045441594abc4179e3c41e5",
       "version_major": 2,
       "version_minor": 0
      },
      "text/plain": [
       "0it [00:00, ?it/s]"
      ]
     },
     "metadata": {},
     "output_type": "display_data"
    }
   ],
   "source": [
    "key,rng = jax.random.split(key) # set patience to 120 ?\n",
    "IMNN.fit(10.0, 0.001, γ=1.0, rng=jnp.array(rng), print_rate=2, patience=200, max_iterations=100000)"
   ]
  },
  {
   "cell_type": "code",
   "execution_count": 87,
   "id": "5343113d-faf1-4d48-9876-fbcecb1418e2",
   "metadata": {},
   "outputs": [
    {
     "data": {
      "image/png": "[encoded data removed]",
      "text/plain": [
       "<Figure size 500x1500 with 4 Axes>"
      ]
     },
     "metadata": {},
     "output_type": "display_data"
    }
   ],
   "source": [
    "ax = IMNN.plot(expected_detF=jnp.linalg.det(mymoped.F))\n",
    "ax[0].set_yscale(\"log\")"
   ]
  },
  {
   "cell_type": "code",
   "execution_count": 88,
   "id": "67b29603-a673-4ecc-8359-a432d24b0519",
   "metadata": {},
   "outputs": [
    {
     "data": {
      "text/plain": [
       "(Array([[19580.484 ,  1844.105 ],\n",
       "        [ 1844.1455,  9491.938 ]], dtype=float32),\n",
       " Array([[16165.711 ,  6566.3877],\n",
       "        [ 6566.4287,  2849.7432]], dtype=float32))"
      ]
     },
     "execution_count": 88,
     "metadata": {},
     "output_type": "execute_result"
    }
   ],
   "source": [
    "IMNN.F, mymoped.F"
   ]
  },
  {
   "cell_type": "code",
   "execution_count": 89,
   "id": "271a2b89-4535-4188-b0fc-748a8cca58bf",
   "metadata": {},
   "outputs": [
    {
     "data": {
      "text/plain": [
       "Array(61.840923, dtype=float32)"
      ]
     },
     "execution_count": 89,
     "metadata": {},
     "output_type": "execute_result"
    }
   ],
   "source": [
    "jnp.linalg.det(IMNN.F) / jnp.linalg.det(mymoped.F)"
   ]
  },
  {
   "cell_type": "code",
   "execution_count": 90,
   "id": "e4c3d1b3-72fc-47d1-bc4b-41ae1ec24c74",
   "metadata": {
    "jupyter": {
     "source_hidden": true
    }
   },
   "outputs": [],
   "source": [
    "#@title fisher code\n",
    "import matplotlib.pyplot as plt\n",
    "from matplotlib.patches import Ellipse\n",
    "\n",
    "def plot_fisher_ellipse(fisher_matrix, mean=None, ax=None, color='blue', \n",
    "                        alpha=1.0, linestyle='-',\n",
    "                       label=\"\"):\n",
    "    \"\"\"\n",
    "    Plots a Fisher information matrix ellipse.\n",
    "\n",
    "    Parameters:\n",
    "        fisher_matrix (numpy.ndarray): Fisher information matrix.\n",
    "        mean (numpy.ndarray, optional): Mean vector. Defaults to None, in which case the ellipse will be centered at (0, 0).\n",
    "        ax (matplotlib.axes.Axes, optional): Axes to plot on. If not provided, a new figure will be created.\n",
    "        color (str, optional): Color of the ellipse. Defaults to 'blue'.\n",
    "        alpha (float, optional): Transparency of the ellipse. Defaults to 0.5.\n",
    "        linestyle (str, optional): Linestyle of the ellipse. Defaults to '-'.\n",
    "\n",
    "    Returns:\n",
    "        matplotlib.axes.Axes: Axes object with the ellipse plotted.\n",
    "    \"\"\"\n",
    "    if ax is None:\n",
    "        _, ax = plt.subplots()\n",
    "\n",
    "    # Invert the Fisher information matrix to get the covariance matrix\n",
    "    covariance_matrix = np.linalg.inv(fisher_matrix)\n",
    "\n",
    "    # Calculate eigenvalues and eigenvectors of the covariance matrix\n",
    "    eigenvalues, eigenvectors = np.linalg.eigh(covariance_matrix)\n",
    "    order = eigenvalues.argsort()[::-1]\n",
    "    eigenvalues = eigenvalues[order]\n",
    "    eigenvectors = eigenvectors[:, order]\n",
    "\n",
    "    # Calculate ellipse angle\n",
    "    angle = np.degrees(np.arctan2(*eigenvectors[:, 0][::-1]))\n",
    "\n",
    "    # If mean is provided, set the center of the ellipse accordingly\n",
    "    if mean is not None:\n",
    "        center = mean\n",
    "    else:\n",
    "        center = np.zeros_like(covariance_matrix.shape[0])\n",
    "\n",
    "    # Create ellipse for 1-sigma contour\n",
    "    ellipse = Ellipse(xy=center,\n",
    "                      width=2 * np.sqrt(eigenvalues[0]),\n",
    "                      height=2 * np.sqrt(eigenvalues[1]),\n",
    "                      angle=angle,\n",
    "                      edgecolor=color,\n",
    "                      linestyle=linestyle,\n",
    "                      facecolor='none',\n",
    "                      alpha=alpha,\n",
    "                      label=label)\n",
    "\n",
    "    # Create ellipse for 2-sigma contour\n",
    "    ellipse2 = Ellipse(xy=center,\n",
    "                       width=2 * 2 * np.sqrt(eigenvalues[0]),\n",
    "                       height=2 * 2 * np.sqrt(eigenvalues[1]),\n",
    "                       angle=angle,\n",
    "                       edgecolor=color,\n",
    "                       linestyle=linestyle,\n",
    "                       facecolor='none',\n",
    "                       alpha=alpha)\n",
    "\n",
    "    ax.add_patch(ellipse)\n",
    "    ax.add_patch(ellipse2)\n",
    "    #ax.set_aspect('equal', 'box')\n",
    "    ax.autoscale()\n",
    "    return ax"
   ]
  },
  {
   "cell_type": "code",
   "execution_count": 99,
   "id": "3d714345-9604-431d-bb04-4675e5bc70bb",
   "metadata": {},
   "outputs": [
    {
     "data": {
      "image/png": "[encoded data removed]",
      "text/plain": [
       "<Figure size 640x480 with 1 Axes>"
      ]
     },
     "metadata": {},
     "output_type": "display_data"
    }
   ],
   "source": [
    "mean = θ_fid # Example mean vector\n",
    "\n",
    "fishers = [mymoped.F, IMNN.F]\n",
    "colours =[\"orange\", \"blue\"]\n",
    "labels = [\"Cls\", \"info-update IMNN with Cls + field\"]\n",
    "\n",
    "for i,f in enumerate(fishers): \n",
    "    if i==0:\n",
    "        ax = plot_fisher_ellipse(f, mean=mean, color=colours[i], label=labels[i])\n",
    "    else:\n",
    "        plot_fisher_ellipse(f, mean=mean, ax=ax, color=colours[i], label=labels[i])\n",
    "\n",
    "plt.legend(framealpha=0.0)\n",
    "\n",
    "plt.xlabel(r'$\\Omega_m$')\n",
    "plt.ylabel(r'$\\sigma_8$')\n",
    "#plt.title('Fisher Information Matrix Ellipse')\n",
    "\n",
    "#plt.grid(True)\n",
    "plt.show()"
   ]
  },
  {
   "cell_type": "code",
   "execution_count": 97,
   "id": "6a48ad15-104a-44ec-80c0-a7ee2610c522",
   "metadata": {},
   "outputs": [
    {
     "data": {
      "text/plain": [
       "'/data101/makinen/lemur_sims/first_analysis/'"
      ]
     },
     "execution_count": 97,
     "metadata": {},
     "output_type": "execute_result"
    }
   ],
   "source": [
    "outdir"
   ]
  },
  {
   "cell_type": "code",
   "execution_count": 98,
   "id": "72c5e793-8edc-4c3d-9b19-5dfcb15e5e4f",
   "metadata": {},
   "outputs": [],
   "source": [
    "save_obj(IMNN.w, outdir + \"imnn_weights/weights_info_update_0\")"
   ]
  },
  {
   "cell_type": "code",
   "execution_count": 25,
   "id": "154442ce-ac4c-4022-a9f4-fabb5e60414d",
   "metadata": {},
   "outputs": [
    {
     "data": {
      "text/plain": [
       "(Array(23189664., dtype=float32), Array(3576376., dtype=float32))"
      ]
     },
     "execution_count": 25,
     "metadata": {},
     "output_type": "execute_result"
    }
   ],
   "source": [
    "cls_fisher = jnp.array([[43024.10446928, 21026.27814774],\n",
    "        [21026.27814774, 10814.72853386]])\n",
    "\n",
    "jnp.linalg.det(cls_fisher), jnp.linalg.det(IMNN.F)"
   ]
  },
  {
   "cell_type": "code",
   "execution_count": 26,
   "id": "acca289d-290d-4bef-b040-bcccca23aa19",
   "metadata": {},
   "outputs": [
    {
     "data": {
      "text/plain": [
       "Array(6.4841237, dtype=float32)"
      ]
     },
     "execution_count": 26,
     "metadata": {},
     "output_type": "execute_result"
    }
   ],
   "source": [
    "jnp.linalg.det(cls_fisher) / jnp.linalg.det(IMNN.F)"
   ]
  },
  {
   "cell_type": "code",
   "execution_count": null,
   "id": "b24a08de-f962-4499-ac33-00f4f86801af",
   "metadata": {},
   "outputs": [],
   "source": [
    "# decay schedule: work on fisher after covariance converges after 100 steps"
   ]
  },
  {
   "cell_type": "code",
   "execution_count": 78,
   "id": "7b2b4643-45a9-4df9-8b88-7cf4d863768d",
   "metadata": {},
   "outputs": [
    {
     "data": {
      "text/plain": [
       "(2, 2)"
      ]
     },
     "execution_count": 78,
     "metadata": {},
     "output_type": "execute_result"
    }
   ],
   "source": [
    "IMNN.dμ_dθ.shape"
   ]
  },
  {
   "cell_type": "code",
   "execution_count": 45,
   "id": "8d22f4cc-0294-4d9b-9ff3-359c0ec59b16",
   "metadata": {},
   "outputs": [
    {
     "data": {
      "text/plain": [
       "(4, 4)"
      ]
     },
     "execution_count": 45,
     "metadata": {},
     "output_type": "execute_result"
    }
   ],
   "source": [
    "jnp.cov(IMNN.dμ_dθ, IMNN.dμ_dθ).shape"
   ]
  },
  {
   "cell_type": "code",
   "execution_count": 96,
   "id": "25c09614-355b-475d-bbd1-b78a3e559e3c",
   "metadata": {},
   "outputs": [],
   "source": [
    "# imnn update formula\n",
    "\n",
    "# update formula\n",
    "# with two new numbers from x = fnn(d; w)\n",
    "# μ = <t>_,θ\n",
    "# old and new covars\n",
    "# u = cov(t, x)\n",
    "# C = old cov = cov(t,t) = moped fisher\n",
    "\n",
    "# some dummy variables\n",
    "moped_summaries_d = jnp.ones((2,2))\n",
    "\n",
    "mu_imnn_d = jnp.ones((2,2)) * 0.77 \n",
    "\n",
    "\n",
    "C_moped = jnp.eye(2)*23 # 2x2 FIXED = F^-1\n",
    "\n",
    "C_imnn = jnp.eye(2)\n",
    "\n",
    "μ_t = moped_summaries_d # FIXED\n",
    "\n",
    "u = jnp.eye(2) # CALCULATE  2x2 # of shape n_moped + n_summaries # u = jnp.cov(moped_summaries, imnn_summaries)\n",
    "\n",
    "Λ_info = mu_imnn_d - jnp.einsum(\"ji,kj,lk->il\", μ_t, jnp.linalg.inv(C_moped), u) #\n",
    "\n",
    "\n",
    "# next step\n",
    "Σ = C_imnn - jnp.einsum(\"ji,kj,lk->il\", u, jnp.linalg.inv(C_moped), u)\n",
    "\n",
    "F_moped = C_moped\n",
    "\n",
    "Fnew = F_moped + jnp.einsum(\"ij,jk,lk->il\", Λ_info, jnp.linalg.inv(Σ), Λ_info)\n",
    "\n",
    "\n",
    "# and then lndet F_new:\n",
    "lndetFnew = jnp.log(jnp.linalg.det(F_moped)) - jnp.log(jnp.linalg.det(Σ)) + jnp.log(jnp.linalg.det(Σ + jnp.einsum(\"ji,jk,lk->il\", Λ_info, jnp.linalg.inv(F_moped), Λ_info)))"
   ]
  },
  {
   "cell_type": "code",
   "execution_count": 97,
   "id": "178ead55-be76-4509-92bc-36dc8d6dab75",
   "metadata": {},
   "outputs": [
    {
     "data": {
      "text/plain": [
       "Array(6.362628, dtype=float32)"
      ]
     },
     "execution_count": 97,
     "metadata": {},
     "output_type": "execute_result"
    }
   ],
   "source": [
    "lndetFnew"
   ]
  },
  {
   "cell_type": "code",
   "execution_count": 88,
   "id": "9a1722e7-9684-4016-bc5d-e57a0faff84d",
   "metadata": {},
   "outputs": [
    {
     "data": {
      "text/plain": [
       "(Array([[-0.23000002, -0.23000002],\n",
       "        [-0.23000002, -0.23000002]], dtype=float32),\n",
       " Array([[22.,  0.],\n",
       "        [ 0., 22.]], dtype=float32),\n",
       " Array([[1.0048091 , 0.00480909],\n",
       "        [0.00480909, 1.0048091 ]], dtype=float32))"
      ]
     },
     "execution_count": 88,
     "metadata": {},
     "output_type": "execute_result"
    }
   ],
   "source": [
    "Λ_info, Σ, Fnew"
   ]
  },
  {
   "cell_type": "code",
   "execution_count": 80,
   "id": "4aa21b96-13d1-4ded-8132-0e7f0ae68d9d",
   "metadata": {},
   "outputs": [
    {
     "data": {
      "text/plain": [
       "(2, 2)"
      ]
     },
     "execution_count": 80,
     "metadata": {},
     "output_type": "execute_result"
    }
   ],
   "source": [
    "Λ_info.shape"
   ]
  },
  {
   "cell_type": "code",
   "execution_count": 71,
   "id": "c4a53be4-3365-40d8-a64a-d7a23e093f00",
   "metadata": {},
   "outputs": [
    {
     "data": {
      "text/plain": [
       "(4, 2)"
      ]
     },
     "execution_count": 71,
     "metadata": {},
     "output_type": "execute_result"
    }
   ],
   "source": [
    "μ_t.shape"
   ]
  },
  {
   "cell_type": "code",
   "execution_count": 69,
   "id": "8690d376-f465-4cb6-b7b9-88a4c20ce7f5",
   "metadata": {},
   "outputs": [
    {
     "data": {
      "text/plain": [
       "((4, 2), (1, 2))"
      ]
     },
     "execution_count": 69,
     "metadata": {},
     "output_type": "execute_result"
    }
   ],
   "source": [
    "Λ_info.shape, mu_imnn.shape"
   ]
  },
  {
   "cell_type": "code",
   "execution_count": 64,
   "id": "c06524d6-2995-42ea-b051-cf531a65bba2",
   "metadata": {},
   "outputs": [
    {
     "data": {
      "text/plain": [
       "(4, 2)"
      ]
     },
     "execution_count": 64,
     "metadata": {},
     "output_type": "execute_result"
    }
   ],
   "source": [
    "μ_t.shape"
   ]
  },
  {
   "cell_type": "code",
   "execution_count": 61,
   "id": "2b557729-3616-4620-b349-2806c32171b4",
   "metadata": {},
   "outputs": [
    {
     "data": {
      "text/plain": [
       "Array([[1., 0., 0., 0.],\n",
       "       [0., 1., 0., 0.],\n",
       "       [0., 0., 1., 0.],\n",
       "       [0., 0., 0., 1.]], dtype=float32)"
      ]
     },
     "execution_count": 61,
     "metadata": {},
     "output_type": "execute_result"
    }
   ],
   "source": [
    "np.eye(4)"
   ]
  },
  {
   "cell_type": "code",
   "execution_count": 59,
   "id": "2477c711-1a95-4382-9eb6-6d20ca9df26c",
   "metadata": {},
   "outputs": [
    {
     "data": {
      "text/plain": [
       "(4, 2)"
      ]
     },
     "execution_count": 59,
     "metadata": {},
     "output_type": "execute_result"
    }
   ],
   "source": [
    "μ_t.shape"
   ]
  },
  {
   "cell_type": "code",
   "execution_count": 50,
   "id": "9ae10e6c-c085-4698-aefe-0017118ff6e1",
   "metadata": {},
   "outputs": [
    {
     "data": {
      "text/plain": [
       "Array([[-0.23000002, -0.23000002],\n",
       "       [-0.23000002, -0.23000002]], dtype=float32)"
      ]
     },
     "execution_count": 50,
     "metadata": {},
     "output_type": "execute_result"
    }
   ],
   "source": [
    "Λ_info"
   ]
  },
  {
   "cell_type": "code",
   "execution_count": 55,
   "id": "e8ec7895-62f9-4405-9b3b-b084061c5b35",
   "metadata": {},
   "outputs": [
    {
     "data": {
      "text/plain": [
       "(4, 4)"
      ]
     },
     "execution_count": 55,
     "metadata": {},
     "output_type": "execute_result"
    }
   ],
   "source": [
    "np.cov(np.ones((100, 2)), np.ones((100, 2)), rowvar=False).shape"
   ]
  },
  {
   "cell_type": "code",
   "execution_count": 101,
   "id": "012e41ff-69a1-4262-86eb-44d9085e98db",
   "metadata": {},
   "outputs": [],
   "source": [
    "from moped import *"
   ]
  },
  {
   "cell_type": "code",
   "execution_count": 102,
   "id": "30bcbc2a-f7cd-40a8-b410-50102cf797a4",
   "metadata": {},
   "outputs": [
    {
     "data": {
      "text/plain": [
       "'/home/makinen/repositories/wl-sbi/imnn_scripts'"
      ]
     },
     "execution_count": 102,
     "metadata": {},
     "output_type": "execute_result"
    }
   ],
   "source": [
    "pwd"
   ]
  },
  {
   "cell_type": "code",
   "execution_count": null,
   "id": "45c5bbda-2fdb-4620-9407-3a72ffac7cdd",
   "metadata": {},
   "outputs": [],
   "source": [
    "mymoped = MOPED(n_param=2, n_d=n_d, n_s=n_s, input_shape="
   ]
  },
  {
   "cell_type": "code",
   "execution_count": 95,
   "id": "978935d1-c749-4e12-992f-da85de39359b",
   "metadata": {},
   "outputs": [
    {
     "data": {
      "text/plain": [
       "'/data101/makinen/lemur_sims/first_analysis/'"
      ]
     },
     "execution_count": 95,
     "metadata": {},
     "output_type": "execute_result"
    }
   ],
   "source": []
  },
  {
   "cell_type": "code",
   "execution_count": null,
   "id": "653299ba-5667-4e30-afd5-7d3095236879",
   "metadata": {},
   "outputs": [],
   "source": []
  }
 ],
 "metadata": {
  "kernelspec": {
   "display_name": "Python 3 (ipykernel)",
   "language": "python",
   "name": "python3"
  },
  "language_info": {
   "codemirror_mode": {
    "name": "ipython",
    "version": 3
   },
   "file_extension": ".py",
   "mimetype": "text/x-python",
   "name": "python",
   "nbconvert_exporter": "python",
   "pygments_lexer": "ipython3",
   "version": "3.11.5"
  }
 },
 "nbformat": 4,
 "nbformat_minor": 5
}
